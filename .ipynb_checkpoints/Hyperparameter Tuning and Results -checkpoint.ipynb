{
 "cells": [
  {
   "cell_type": "code",
   "execution_count": 138,
   "metadata": {},
   "outputs": [],
   "source": [
    "import time\n",
    "import pandas as pd \n",
    "import numpy as np \n",
    "import matplotlib.pyplot as plt \n",
    "import seaborn as sns \n",
    "from scipy import stats\n",
    "\n",
    "from nltk.tokenize import sent_tokenize, word_tokenize, RegexpTokenizer\n",
    "from nltk.stem import WordNetLemmatizer\n",
    "from nltk.stem.porter import PorterStemmer\n",
    "from nltk.corpus import stopwords\n",
    "from nltk.sentiment.vader import SentimentIntensityAnalyzer\n",
    "import re\n",
    "\n",
    "from sklearn.model_selection import train_test_split, GridSearchCV\n",
    "from sklearn.pipeline import Pipeline, FeatureUnion\n",
    "from sklearn.naive_bayes import MultinomialNB\n",
    "from sklearn.neighbors import KNeighborsClassifier\n",
    "from sklearn.linear_model import LogisticRegression\n",
    "from sklearn.ensemble import RandomForestClassifier, ExtraTreesClassifier\n",
    "from sklearn.ensemble import AdaBoostClassifier, BaggingClassifier\n",
    "from sklearn.model_selection import RandomizedSearchCV\n",
    "\n",
    "\n",
    "\n",
    "from sklearn.metrics import confusion_matrix, plot_confusion_matrix\n",
    "from sklearn.metrics import f1_score\n",
    "from sklearn.metrics import plot_roc_curve\n",
    "from sklearn.metrics import roc_auc_score\n",
    "from sklearn.metrics import recall_score\n",
    "\n",
    "from sklearn.feature_extraction.text import CountVectorizer, TfidfVectorizer\n",
    "from sklearn.feature_extraction import text \n",
    "from sklearn.preprocessing import FunctionTransformer\n",
    "from sklearn.preprocessing import StandardScaler\n"
   ]
  },
  {
   "cell_type": "markdown",
   "metadata": {},
   "source": [
    "## Hyperparameter Tuning "
   ]
  },
  {
   "cell_type": "code",
   "execution_count": 133,
   "metadata": {},
   "outputs": [],
   "source": [
    "posts = pd.read_csv('./datasets/posts.csv')"
   ]
  },
  {
   "cell_type": "code",
   "execution_count": 134,
   "metadata": {
    "scrolled": true
   },
   "outputs": [
    {
     "data": {
      "text/html": [
       "<div>\n",
       "<style scoped>\n",
       "    .dataframe tbody tr th:only-of-type {\n",
       "        vertical-align: middle;\n",
       "    }\n",
       "\n",
       "    .dataframe tbody tr th {\n",
       "        vertical-align: top;\n",
       "    }\n",
       "\n",
       "    .dataframe thead th {\n",
       "        text-align: right;\n",
       "    }\n",
       "</style>\n",
       "<table border=\"1\" class=\"dataframe\">\n",
       "  <thead>\n",
       "    <tr style=\"text-align: right;\">\n",
       "      <th></th>\n",
       "      <th>Unnamed: 0</th>\n",
       "      <th>index</th>\n",
       "      <th>selftext</th>\n",
       "      <th>title</th>\n",
       "      <th>subreddit</th>\n",
       "      <th>text</th>\n",
       "      <th>status_length</th>\n",
       "      <th>word_count</th>\n",
       "      <th>sentiment</th>\n",
       "    </tr>\n",
       "  </thead>\n",
       "  <tbody>\n",
       "    <tr>\n",
       "      <th>0</th>\n",
       "      <td>0</td>\n",
       "      <td>1</td>\n",
       "      <td>\\nhttps://www.coindesk.com/16-ethereum-predict...</td>\n",
       "      <td>16 Ethereum Predictions From a Crypto Oracle</td>\n",
       "      <td>1</td>\n",
       "      <td>\\nhttpswwwcoindeskcom16ethereumpredictionscryp...</td>\n",
       "      <td>97</td>\n",
       "      <td>7</td>\n",
       "      <td>0.0000</td>\n",
       "    </tr>\n",
       "    <tr>\n",
       "      <th>1</th>\n",
       "      <td>1</td>\n",
       "      <td>8</td>\n",
       "      <td>Alright so I’ve been on the ETH train for some...</td>\n",
       "      <td>Upside of Ether?</td>\n",
       "      <td>1</td>\n",
       "      <td>alright so ive been on the eth train for some ...</td>\n",
       "      <td>705</td>\n",
       "      <td>142</td>\n",
       "      <td>0.9724</td>\n",
       "    </tr>\n",
       "    <tr>\n",
       "      <th>2</th>\n",
       "      <td>2</td>\n",
       "      <td>15</td>\n",
       "      <td>i tried almost a year and a half ago to get in...</td>\n",
       "      <td>i need help</td>\n",
       "      <td>1</td>\n",
       "      <td>i tried almost a year and a half ago to get in...</td>\n",
       "      <td>816</td>\n",
       "      <td>156</td>\n",
       "      <td>0.9355</td>\n",
       "    </tr>\n",
       "    <tr>\n",
       "      <th>3</th>\n",
       "      <td>3</td>\n",
       "      <td>16</td>\n",
       "      <td>Hi guys, I am not very familiar with ethereum ...</td>\n",
       "      <td>New to this... is now a good time to invest in...</td>\n",
       "      <td>1</td>\n",
       "      <td>hi guys i am not very familiar with ethereum b...</td>\n",
       "      <td>390</td>\n",
       "      <td>76</td>\n",
       "      <td>0.9109</td>\n",
       "    </tr>\n",
       "    <tr>\n",
       "      <th>4</th>\n",
       "      <td>4</td>\n",
       "      <td>21</td>\n",
       "      <td>Hi everyone, I think this is the most suited s...</td>\n",
       "      <td>Should I stake?</td>\n",
       "      <td>1</td>\n",
       "      <td>hi everyone i think this is the most suited su...</td>\n",
       "      <td>662</td>\n",
       "      <td>129</td>\n",
       "      <td>0.9294</td>\n",
       "    </tr>\n",
       "    <tr>\n",
       "      <th>...</th>\n",
       "      <td>...</td>\n",
       "      <td>...</td>\n",
       "      <td>...</td>\n",
       "      <td>...</td>\n",
       "      <td>...</td>\n",
       "      <td>...</td>\n",
       "      <td>...</td>\n",
       "      <td>...</td>\n",
       "      <td>...</td>\n",
       "    </tr>\n",
       "    <tr>\n",
       "      <th>10208</th>\n",
       "      <td>10627</td>\n",
       "      <td>60333</td>\n",
       "      <td>I'm just trying to find out what happened with...</td>\n",
       "      <td>Did BTC do something significant today?</td>\n",
       "      <td>0</td>\n",
       "      <td>im just trying to find out what happened with ...</td>\n",
       "      <td>168</td>\n",
       "      <td>28</td>\n",
       "      <td>0.2023</td>\n",
       "    </tr>\n",
       "    <tr>\n",
       "      <th>10209</th>\n",
       "      <td>10628</td>\n",
       "      <td>60336</td>\n",
       "      <td>I recently won a bet that bitcoin would hit an...</td>\n",
       "      <td>My prediction for Bitcoin FWIW.</td>\n",
       "      <td>0</td>\n",
       "      <td>i recently won a bet that bitcoin would hit an...</td>\n",
       "      <td>412</td>\n",
       "      <td>80</td>\n",
       "      <td>0.8402</td>\n",
       "    </tr>\n",
       "    <tr>\n",
       "      <th>10210</th>\n",
       "      <td>10629</td>\n",
       "      <td>60343</td>\n",
       "      <td>I've never seen this before. Are lower fee'd t...</td>\n",
       "      <td>Hey, how come my transaction is taking hours i...</td>\n",
       "      <td>0</td>\n",
       "      <td>ive never seen this before are lower feed tran...</td>\n",
       "      <td>435</td>\n",
       "      <td>64</td>\n",
       "      <td>-0.1531</td>\n",
       "    </tr>\n",
       "    <tr>\n",
       "      <th>10211</th>\n",
       "      <td>10630</td>\n",
       "      <td>60344</td>\n",
       "      <td>My sister emailed me on 4th November 2013 abou...</td>\n",
       "      <td>MISSED OPPORTUNITY</td>\n",
       "      <td>0</td>\n",
       "      <td>my sister emailed me on 4th november 2013 abou...</td>\n",
       "      <td>415</td>\n",
       "      <td>73</td>\n",
       "      <td>0.8591</td>\n",
       "    </tr>\n",
       "    <tr>\n",
       "      <th>10212</th>\n",
       "      <td>10631</td>\n",
       "      <td>60345</td>\n",
       "      <td>I bought in at 9k back in 2017 when the last A...</td>\n",
       "      <td>If BTC starts to rapidly drop down from 20k wh...</td>\n",
       "      <td>0</td>\n",
       "      <td>i bought in at 9k back in 2017 when the last a...</td>\n",
       "      <td>705</td>\n",
       "      <td>152</td>\n",
       "      <td>0.8515</td>\n",
       "    </tr>\n",
       "  </tbody>\n",
       "</table>\n",
       "<p>10213 rows × 9 columns</p>\n",
       "</div>"
      ],
      "text/plain": [
       "       Unnamed: 0  index                                           selftext  \\\n",
       "0               0      1  \\nhttps://www.coindesk.com/16-ethereum-predict...   \n",
       "1               1      8  Alright so I’ve been on the ETH train for some...   \n",
       "2               2     15  i tried almost a year and a half ago to get in...   \n",
       "3               3     16  Hi guys, I am not very familiar with ethereum ...   \n",
       "4               4     21  Hi everyone, I think this is the most suited s...   \n",
       "...           ...    ...                                                ...   \n",
       "10208       10627  60333  I'm just trying to find out what happened with...   \n",
       "10209       10628  60336  I recently won a bet that bitcoin would hit an...   \n",
       "10210       10629  60343  I've never seen this before. Are lower fee'd t...   \n",
       "10211       10630  60344  My sister emailed me on 4th November 2013 abou...   \n",
       "10212       10631  60345  I bought in at 9k back in 2017 when the last A...   \n",
       "\n",
       "                                                   title  subreddit  \\\n",
       "0           16 Ethereum Predictions From a Crypto Oracle          1   \n",
       "1                                       Upside of Ether?          1   \n",
       "2                                            i need help          1   \n",
       "3      New to this... is now a good time to invest in...          1   \n",
       "4                                        Should I stake?          1   \n",
       "...                                                  ...        ...   \n",
       "10208            Did BTC do something significant today?          0   \n",
       "10209                    My prediction for Bitcoin FWIW.          0   \n",
       "10210  Hey, how come my transaction is taking hours i...          0   \n",
       "10211                                 MISSED OPPORTUNITY          0   \n",
       "10212  If BTC starts to rapidly drop down from 20k wh...          0   \n",
       "\n",
       "                                                    text  status_length  \\\n",
       "0      \\nhttpswwwcoindeskcom16ethereumpredictionscryp...             97   \n",
       "1      alright so ive been on the eth train for some ...            705   \n",
       "2      i tried almost a year and a half ago to get in...            816   \n",
       "3      hi guys i am not very familiar with ethereum b...            390   \n",
       "4      hi everyone i think this is the most suited su...            662   \n",
       "...                                                  ...            ...   \n",
       "10208  im just trying to find out what happened with ...            168   \n",
       "10209  i recently won a bet that bitcoin would hit an...            412   \n",
       "10210  ive never seen this before are lower feed tran...            435   \n",
       "10211  my sister emailed me on 4th november 2013 abou...            415   \n",
       "10212  i bought in at 9k back in 2017 when the last a...            705   \n",
       "\n",
       "       word_count  sentiment  \n",
       "0               7     0.0000  \n",
       "1             142     0.9724  \n",
       "2             156     0.9355  \n",
       "3              76     0.9109  \n",
       "4             129     0.9294  \n",
       "...           ...        ...  \n",
       "10208          28     0.2023  \n",
       "10209          80     0.8402  \n",
       "10210          64    -0.1531  \n",
       "10211          73     0.8591  \n",
       "10212         152     0.8515  \n",
       "\n",
       "[10213 rows x 9 columns]"
      ]
     },
     "execution_count": 134,
     "metadata": {},
     "output_type": "execute_result"
    }
   ],
   "source": [
    "posts"
   ]
  },
  {
   "cell_type": "code",
   "execution_count": 129,
   "metadata": {},
   "outputs": [],
   "source": [
    "# Instantiate a CountVectorizer \n",
    "# used from sklearn documentation https://scikit-learn.org/stable/modules/feature_extraction.html\n",
    "# it allows me to call LemmaTokenizer() with my Pipeline()\n",
    "class LemmaTokenizer:\n",
    "    def __init__(self):\n",
    "         self.wnl = WordNetLemmatizer()\n",
    "    def __call__(self, doc):\n",
    "        return [self.wnl.lemmatize(t) for t in word_tokenize(doc)]"
   ]
  },
  {
   "cell_type": "code",
   "execution_count": 135,
   "metadata": {},
   "outputs": [
    {
     "data": {
      "image/png": "[encoded data removed]",
      "text/plain": [
       "<Figure size 432x288 with 1 Axes>"
      ]
     },
     "metadata": {
      "needs_background": "light"
     },
     "output_type": "display_data"
    }
   ],
   "source": [
    "X = posts['text']\n",
    "y = posts['subreddit']\n",
    "\n",
    "# Split the data into the training and testing sets for a prelim CountVectorizer\n",
    "X_train, X_test, y_train, y_test = train_test_split(X,\n",
    "                                                    y,\n",
    "                                                    test_size=0.33,\n",
    "                                                    stratify=y,\n",
    "                                                    random_state=42)\n",
    "\n",
    "cvec = CountVectorizer()\n",
    "cvec.fit(X_train)\n",
    "X_train = cvec.transform(X_train)\n",
    "X_train_df = pd.DataFrame(X_train.todense(), \n",
    "                          columns=cvec.get_feature_names())\n",
    "X_train_df.sum().sort_values(ascending=False).head(20).plot(kind='barh');"
   ]
  },
  {
   "cell_type": "code",
   "execution_count": 415,
   "metadata": {},
   "outputs": [
    {
     "data": {
      "text/plain": [
       "frozenset({'20k',\n",
       "           '30',\n",
       "           'a',\n",
       "           'about',\n",
       "           'above',\n",
       "           'across',\n",
       "           'after',\n",
       "           'afterwards',\n",
       "           'again',\n",
       "           'against',\n",
       "           'all',\n",
       "           'almost',\n",
       "           'alone',\n",
       "           'along',\n",
       "           'already',\n",
       "           'also',\n",
       "           'although',\n",
       "           'always',\n",
       "           'am',\n",
       "           'among',\n",
       "           'amongst',\n",
       "           'amoungst',\n",
       "           'amount',\n",
       "           'ampx200b',\n",
       "           'an',\n",
       "           'and',\n",
       "           'another',\n",
       "           'any',\n",
       "           'anybody',\n",
       "           'anyhow',\n",
       "           'anyone',\n",
       "           'anything',\n",
       "           'anyway',\n",
       "           'anywhere',\n",
       "           'are',\n",
       "           'around',\n",
       "           'as',\n",
       "           'asking',\n",
       "           'at',\n",
       "           'away',\n",
       "           'back',\n",
       "           'bad',\n",
       "           'be',\n",
       "           'became',\n",
       "           'because',\n",
       "           'become',\n",
       "           'becomes',\n",
       "           'becoming',\n",
       "           'been',\n",
       "           'before',\n",
       "           'beforehand',\n",
       "           'behind',\n",
       "           'being',\n",
       "           'below',\n",
       "           'beside',\n",
       "           'besides',\n",
       "           'between',\n",
       "           'beyond',\n",
       "           'bill',\n",
       "           'bitcoin',\n",
       "           'bitcoins',\n",
       "           'both',\n",
       "           'bottom',\n",
       "           'btc',\n",
       "           'but',\n",
       "           'by',\n",
       "           'call',\n",
       "           'can',\n",
       "           'cannot',\n",
       "           'cant',\n",
       "           'care',\n",
       "           'cause',\n",
       "           'claim',\n",
       "           'co',\n",
       "           'coming',\n",
       "           'completely',\n",
       "           'con',\n",
       "           'could',\n",
       "           'couldnt',\n",
       "           'cry',\n",
       "           'de',\n",
       "           'december',\n",
       "           'describe',\n",
       "           'detail',\n",
       "           'directly',\n",
       "           'do',\n",
       "           'done',\n",
       "           'down',\n",
       "           'due',\n",
       "           'during',\n",
       "           'each',\n",
       "           'eg',\n",
       "           'eight',\n",
       "           'either',\n",
       "           'eleven',\n",
       "           'else',\n",
       "           'elsewhere',\n",
       "           'empty',\n",
       "           'enough',\n",
       "           'entire',\n",
       "           'etc',\n",
       "           'eth',\n",
       "           'ethereum',\n",
       "           'even',\n",
       "           'ever',\n",
       "           'every',\n",
       "           'everyone',\n",
       "           'everything',\n",
       "           'everywhere',\n",
       "           'exactly',\n",
       "           'except',\n",
       "           'explain',\n",
       "           'few',\n",
       "           'fifteen',\n",
       "           'fifty',\n",
       "           'figure',\n",
       "           'fill',\n",
       "           'find',\n",
       "           'fire',\n",
       "           'first',\n",
       "           'five',\n",
       "           'for',\n",
       "           'form',\n",
       "           'former',\n",
       "           'formerly',\n",
       "           'forty',\n",
       "           'found',\n",
       "           'four',\n",
       "           'from',\n",
       "           'front',\n",
       "           'full',\n",
       "           'fully',\n",
       "           'further',\n",
       "           'get',\n",
       "           'give',\n",
       "           'given',\n",
       "           'go',\n",
       "           'gone',\n",
       "           'had',\n",
       "           'happen',\n",
       "           'has',\n",
       "           'hasnt',\n",
       "           'have',\n",
       "           'he',\n",
       "           'hence',\n",
       "           'her',\n",
       "           'here',\n",
       "           'hereafter',\n",
       "           'hereby',\n",
       "           'herein',\n",
       "           'hereupon',\n",
       "           'hers',\n",
       "           'herself',\n",
       "           'him',\n",
       "           'himself',\n",
       "           'his',\n",
       "           'history',\n",
       "           'hour',\n",
       "           'how',\n",
       "           'however',\n",
       "           'hundred',\n",
       "           'i',\n",
       "           'ie',\n",
       "           'if',\n",
       "           'in',\n",
       "           'inc',\n",
       "           'indeed',\n",
       "           'interest',\n",
       "           'into',\n",
       "           'is',\n",
       "           'it',\n",
       "           'its',\n",
       "           'itself',\n",
       "           'keep',\n",
       "           'large',\n",
       "           'last',\n",
       "           'latter',\n",
       "           'latterly',\n",
       "           'least',\n",
       "           'leave',\n",
       "           'left',\n",
       "           'legit',\n",
       "           'less',\n",
       "           'line',\n",
       "           'ltd',\n",
       "           'made',\n",
       "           'many',\n",
       "           'may',\n",
       "           'me',\n",
       "           'meanwhile',\n",
       "           'might',\n",
       "           'mill',\n",
       "           'mine',\n",
       "           'more',\n",
       "           'moreover',\n",
       "           'most',\n",
       "           'mostly',\n",
       "           'move',\n",
       "           'much',\n",
       "           'must',\n",
       "           'my',\n",
       "           'myself',\n",
       "           'name',\n",
       "           'namely',\n",
       "           'neither',\n",
       "           'never',\n",
       "           'nevertheless',\n",
       "           'next',\n",
       "           'nine',\n",
       "           'no',\n",
       "           'nobody',\n",
       "           'none',\n",
       "           'noone',\n",
       "           'nor',\n",
       "           'not',\n",
       "           'note',\n",
       "           'nothing',\n",
       "           'now',\n",
       "           'nowhere',\n",
       "           'of',\n",
       "           'off',\n",
       "           'often',\n",
       "           'on',\n",
       "           'once',\n",
       "           'one',\n",
       "           'only',\n",
       "           'onto',\n",
       "           'or',\n",
       "           'other',\n",
       "           'others',\n",
       "           'otherwise',\n",
       "           'our',\n",
       "           'ours',\n",
       "           'ourselves',\n",
       "           'out',\n",
       "           'over',\n",
       "           'own',\n",
       "           'paid',\n",
       "           'part',\n",
       "           'password',\n",
       "           'per',\n",
       "           'perhaps',\n",
       "           'period',\n",
       "           'please',\n",
       "           'price',\n",
       "           'put',\n",
       "           'quite',\n",
       "           'rather',\n",
       "           're',\n",
       "           'reach',\n",
       "           'reading',\n",
       "           'reddit',\n",
       "           'regular',\n",
       "           'return',\n",
       "           'same',\n",
       "           'see',\n",
       "           'seem',\n",
       "           'seemed',\n",
       "           'seeming',\n",
       "           'seems',\n",
       "           'serious',\n",
       "           'several',\n",
       "           'she',\n",
       "           'should',\n",
       "           'show',\n",
       "           'side',\n",
       "           'sign',\n",
       "           'since',\n",
       "           'sincere',\n",
       "           'site',\n",
       "           'six',\n",
       "           'sixty',\n",
       "           'so',\n",
       "           'some',\n",
       "           'somehow',\n",
       "           'someone',\n",
       "           'something',\n",
       "           'sometime',\n",
       "           'sometimes',\n",
       "           'somewhere',\n",
       "           'soon',\n",
       "           'sort',\n",
       "           'step',\n",
       "           'still',\n",
       "           'stuff',\n",
       "           'such',\n",
       "           'system',\n",
       "           'take',\n",
       "           'ten',\n",
       "           'than',\n",
       "           'that',\n",
       "           'the',\n",
       "           'their',\n",
       "           'them',\n",
       "           'themselves',\n",
       "           'then',\n",
       "           'thence',\n",
       "           'there',\n",
       "           'thereafter',\n",
       "           'thereby',\n",
       "           'therefore',\n",
       "           'therein',\n",
       "           'thereupon',\n",
       "           'these',\n",
       "           'they',\n",
       "           'thick',\n",
       "           'thin',\n",
       "           'third',\n",
       "           'this',\n",
       "           'those',\n",
       "           'though',\n",
       "           'three',\n",
       "           'through',\n",
       "           'throughout',\n",
       "           'thru',\n",
       "           'thus',\n",
       "           'to',\n",
       "           'together',\n",
       "           'too',\n",
       "           'top',\n",
       "           'toward',\n",
       "           'towards',\n",
       "           'twelve',\n",
       "           'twenty',\n",
       "           'two',\n",
       "           'un',\n",
       "           'under',\n",
       "           'understanding',\n",
       "           'until',\n",
       "           'up',\n",
       "           'upon',\n",
       "           'us',\n",
       "           'very',\n",
       "           'via',\n",
       "           'was',\n",
       "           'we',\n",
       "           'well',\n",
       "           'were',\n",
       "           'what',\n",
       "           'whatever',\n",
       "           'whats',\n",
       "           'when',\n",
       "           'whence',\n",
       "           'whenever',\n",
       "           'where',\n",
       "           'whereafter',\n",
       "           'whereas',\n",
       "           'whereby',\n",
       "           'wherein',\n",
       "           'whereupon',\n",
       "           'wherever',\n",
       "           'whether',\n",
       "           'which',\n",
       "           'while',\n",
       "           'whither',\n",
       "           'who',\n",
       "           'whoever',\n",
       "           'whole',\n",
       "           'whom',\n",
       "           'whose',\n",
       "           'why',\n",
       "           'will',\n",
       "           'with',\n",
       "           'within',\n",
       "           'without',\n",
       "           'wondering',\n",
       "           'would',\n",
       "           'wouldnt',\n",
       "           'yet',\n",
       "           'you',\n",
       "           'your',\n",
       "           'yours',\n",
       "           'yourself',\n",
       "           'yourselves'})"
      ]
     },
     "execution_count": 415,
     "metadata": {},
     "output_type": "execute_result"
    }
   ],
   "source": [
    "# add stop words to english stop words list\n",
    "\n",
    "my_additional_stop_words = ['ethereum', 'bitcoin', 'eth', 'btc', 'reach', \n",
    "                            'large', 'paid', 'history', 'happen', 'understanding', \n",
    "                            'soon', 'fully', 'reddit', 'anybody', 'quite', 'coming',\n",
    "                            'gone','period', 'cause', 'password', 'step', 'hour', 'note',\n",
    "                            'explain', 'site', 'claim', 'whats', 'bad', 'wondering', \n",
    "                            '30', 'left', 'away', 'asking', 'figure', 'reading', 'regular', \n",
    "                            'leave', 'sign', 'stuff', 'return', 'line', 'legit', \n",
    "                           'exactly', 'completely', 'care','directly','given', 'entire',\n",
    "                            'sort', 'form', 'wouldnt', 'bitcoins', 'ampx200b', '20k', \n",
    "                           'price', 'december']\n",
    "my_stop_words = text.ENGLISH_STOP_WORDS.union(my_additional_stop_words)\n",
    "my_stop_words\n",
    "\n",
    "# source: https://stackoverflow.com/questions/24386489/adding-words-to-scikit-learns-countvectorizers-stop-list/24386751"
   ]
  },
  {
   "cell_type": "markdown",
   "metadata": {},
   "source": [
    "### RandomForest GridSearching and Tuning Hyperparameters\n",
    "- In this section, I construct a RandomForestClassifier model, run a gridsearch, and tune my hyperparameters"
   ]
  },
  {
   "cell_type": "code",
   "execution_count": 484,
   "metadata": {
    "scrolled": true
   },
   "outputs": [
    {
     "name": "stdout",
     "output_type": "stream",
     "text": [
      "Fitting 10 folds for each of 1 candidates, totalling 10 fits\n",
      "[CV] features__text_features__cvec__max_df=0.01, features__text_features__cvec__max_features=7185, features__text_features__cvec__min_df=2, features__text_features__cvec__ngram_range=(2, 2), rf__max_depth=500, rf__min_samples_leaf=20, rf__min_samples_split=20, rf__n_estimators=50 \n"
     ]
    },
    {
     "name": "stderr",
     "output_type": "stream",
     "text": [
      "[Parallel(n_jobs=1)]: Using backend SequentialBackend with 1 concurrent workers.\n",
      "C:\\Users\\tsuts\\anaconda3\\lib\\site-packages\\sklearn\\feature_extraction\\text.py:383: UserWarning: Your stop_words may be inconsistent with your preprocessing. Tokenizing the stop words generated tokens ['ha', 'le', 'u', 'wa'] not in stop_words.\n",
      "  warnings.warn('Your stop_words may be inconsistent with '\n"
     ]
    },
    {
     "name": "stdout",
     "output_type": "stream",
     "text": [
      "[CV]  features__text_features__cvec__max_df=0.01, features__text_features__cvec__max_features=7185, features__text_features__cvec__min_df=2, features__text_features__cvec__ngram_range=(2, 2), rf__max_depth=500, rf__min_samples_leaf=20, rf__min_samples_split=20, rf__n_estimators=50, total=   4.3s\n",
      "[CV] features__text_features__cvec__max_df=0.01, features__text_features__cvec__max_features=7185, features__text_features__cvec__min_df=2, features__text_features__cvec__ngram_range=(2, 2), rf__max_depth=500, rf__min_samples_leaf=20, rf__min_samples_split=20, rf__n_estimators=50 \n"
     ]
    },
    {
     "name": "stderr",
     "output_type": "stream",
     "text": [
      "[Parallel(n_jobs=1)]: Done   1 out of   1 | elapsed:    4.2s remaining:    0.0s\n",
      "C:\\Users\\tsuts\\anaconda3\\lib\\site-packages\\sklearn\\feature_extraction\\text.py:383: UserWarning: Your stop_words may be inconsistent with your preprocessing. Tokenizing the stop words generated tokens ['ha', 'le', 'u', 'wa'] not in stop_words.\n",
      "  warnings.warn('Your stop_words may be inconsistent with '\n"
     ]
    },
    {
     "name": "stdout",
     "output_type": "stream",
     "text": [
      "[CV]  features__text_features__cvec__max_df=0.01, features__text_features__cvec__max_features=7185, features__text_features__cvec__min_df=2, features__text_features__cvec__ngram_range=(2, 2), rf__max_depth=500, rf__min_samples_leaf=20, rf__min_samples_split=20, rf__n_estimators=50, total=   4.2s\n",
      "[CV] features__text_features__cvec__max_df=0.01, features__text_features__cvec__max_features=7185, features__text_features__cvec__min_df=2, features__text_features__cvec__ngram_range=(2, 2), rf__max_depth=500, rf__min_samples_leaf=20, rf__min_samples_split=20, rf__n_estimators=50 \n"
     ]
    },
    {
     "name": "stderr",
     "output_type": "stream",
     "text": [
      "C:\\Users\\tsuts\\anaconda3\\lib\\site-packages\\sklearn\\feature_extraction\\text.py:383: UserWarning: Your stop_words may be inconsistent with your preprocessing. Tokenizing the stop words generated tokens ['ha', 'le', 'u', 'wa'] not in stop_words.\n",
      "  warnings.warn('Your stop_words may be inconsistent with '\n"
     ]
    },
    {
     "name": "stdout",
     "output_type": "stream",
     "text": [
      "[CV]  features__text_features__cvec__max_df=0.01, features__text_features__cvec__max_features=7185, features__text_features__cvec__min_df=2, features__text_features__cvec__ngram_range=(2, 2), rf__max_depth=500, rf__min_samples_leaf=20, rf__min_samples_split=20, rf__n_estimators=50, total=   4.2s\n",
      "[CV] features__text_features__cvec__max_df=0.01, features__text_features__cvec__max_features=7185, features__text_features__cvec__min_df=2, features__text_features__cvec__ngram_range=(2, 2), rf__max_depth=500, rf__min_samples_leaf=20, rf__min_samples_split=20, rf__n_estimators=50 \n"
     ]
    },
    {
     "name": "stderr",
     "output_type": "stream",
     "text": [
      "C:\\Users\\tsuts\\anaconda3\\lib\\site-packages\\sklearn\\feature_extraction\\text.py:383: UserWarning: Your stop_words may be inconsistent with your preprocessing. Tokenizing the stop words generated tokens ['ha', 'le', 'u', 'wa'] not in stop_words.\n",
      "  warnings.warn('Your stop_words may be inconsistent with '\n"
     ]
    },
    {
     "name": "stdout",
     "output_type": "stream",
     "text": [
      "[CV]  features__text_features__cvec__max_df=0.01, features__text_features__cvec__max_features=7185, features__text_features__cvec__min_df=2, features__text_features__cvec__ngram_range=(2, 2), rf__max_depth=500, rf__min_samples_leaf=20, rf__min_samples_split=20, rf__n_estimators=50, total=   4.3s\n",
      "[CV] features__text_features__cvec__max_df=0.01, features__text_features__cvec__max_features=7185, features__text_features__cvec__min_df=2, features__text_features__cvec__ngram_range=(2, 2), rf__max_depth=500, rf__min_samples_leaf=20, rf__min_samples_split=20, rf__n_estimators=50 \n"
     ]
    },
    {
     "name": "stderr",
     "output_type": "stream",
     "text": [
      "C:\\Users\\tsuts\\anaconda3\\lib\\site-packages\\sklearn\\feature_extraction\\text.py:383: UserWarning: Your stop_words may be inconsistent with your preprocessing. Tokenizing the stop words generated tokens ['ha', 'le', 'u', 'wa'] not in stop_words.\n",
      "  warnings.warn('Your stop_words may be inconsistent with '\n"
     ]
    },
    {
     "name": "stdout",
     "output_type": "stream",
     "text": [
      "[CV]  features__text_features__cvec__max_df=0.01, features__text_features__cvec__max_features=7185, features__text_features__cvec__min_df=2, features__text_features__cvec__ngram_range=(2, 2), rf__max_depth=500, rf__min_samples_leaf=20, rf__min_samples_split=20, rf__n_estimators=50, total=   4.2s\n",
      "[CV] features__text_features__cvec__max_df=0.01, features__text_features__cvec__max_features=7185, features__text_features__cvec__min_df=2, features__text_features__cvec__ngram_range=(2, 2), rf__max_depth=500, rf__min_samples_leaf=20, rf__min_samples_split=20, rf__n_estimators=50 \n"
     ]
    },
    {
     "name": "stderr",
     "output_type": "stream",
     "text": [
      "C:\\Users\\tsuts\\anaconda3\\lib\\site-packages\\sklearn\\feature_extraction\\text.py:383: UserWarning: Your stop_words may be inconsistent with your preprocessing. Tokenizing the stop words generated tokens ['ha', 'le', 'u', 'wa'] not in stop_words.\n",
      "  warnings.warn('Your stop_words may be inconsistent with '\n"
     ]
    },
    {
     "name": "stdout",
     "output_type": "stream",
     "text": [
      "[CV]  features__text_features__cvec__max_df=0.01, features__text_features__cvec__max_features=7185, features__text_features__cvec__min_df=2, features__text_features__cvec__ngram_range=(2, 2), rf__max_depth=500, rf__min_samples_leaf=20, rf__min_samples_split=20, rf__n_estimators=50, total=   4.3s\n",
      "[CV] features__text_features__cvec__max_df=0.01, features__text_features__cvec__max_features=7185, features__text_features__cvec__min_df=2, features__text_features__cvec__ngram_range=(2, 2), rf__max_depth=500, rf__min_samples_leaf=20, rf__min_samples_split=20, rf__n_estimators=50 \n"
     ]
    },
    {
     "name": "stderr",
     "output_type": "stream",
     "text": [
      "C:\\Users\\tsuts\\anaconda3\\lib\\site-packages\\sklearn\\feature_extraction\\text.py:383: UserWarning: Your stop_words may be inconsistent with your preprocessing. Tokenizing the stop words generated tokens ['ha', 'le', 'u', 'wa'] not in stop_words.\n",
      "  warnings.warn('Your stop_words may be inconsistent with '\n"
     ]
    },
    {
     "name": "stdout",
     "output_type": "stream",
     "text": [
      "[CV]  features__text_features__cvec__max_df=0.01, features__text_features__cvec__max_features=7185, features__text_features__cvec__min_df=2, features__text_features__cvec__ngram_range=(2, 2), rf__max_depth=500, rf__min_samples_leaf=20, rf__min_samples_split=20, rf__n_estimators=50, total=   4.2s\n",
      "[CV] features__text_features__cvec__max_df=0.01, features__text_features__cvec__max_features=7185, features__text_features__cvec__min_df=2, features__text_features__cvec__ngram_range=(2, 2), rf__max_depth=500, rf__min_samples_leaf=20, rf__min_samples_split=20, rf__n_estimators=50 \n"
     ]
    },
    {
     "name": "stderr",
     "output_type": "stream",
     "text": [
      "C:\\Users\\tsuts\\anaconda3\\lib\\site-packages\\sklearn\\feature_extraction\\text.py:383: UserWarning: Your stop_words may be inconsistent with your preprocessing. Tokenizing the stop words generated tokens ['ha', 'le', 'u', 'wa'] not in stop_words.\n",
      "  warnings.warn('Your stop_words may be inconsistent with '\n"
     ]
    },
    {
     "name": "stdout",
     "output_type": "stream",
     "text": [
      "[CV]  features__text_features__cvec__max_df=0.01, features__text_features__cvec__max_features=7185, features__text_features__cvec__min_df=2, features__text_features__cvec__ngram_range=(2, 2), rf__max_depth=500, rf__min_samples_leaf=20, rf__min_samples_split=20, rf__n_estimators=50, total=   4.2s\n",
      "[CV] features__text_features__cvec__max_df=0.01, features__text_features__cvec__max_features=7185, features__text_features__cvec__min_df=2, features__text_features__cvec__ngram_range=(2, 2), rf__max_depth=500, rf__min_samples_leaf=20, rf__min_samples_split=20, rf__n_estimators=50 \n"
     ]
    },
    {
     "name": "stderr",
     "output_type": "stream",
     "text": [
      "C:\\Users\\tsuts\\anaconda3\\lib\\site-packages\\sklearn\\feature_extraction\\text.py:383: UserWarning: Your stop_words may be inconsistent with your preprocessing. Tokenizing the stop words generated tokens ['ha', 'le', 'u', 'wa'] not in stop_words.\n",
      "  warnings.warn('Your stop_words may be inconsistent with '\n"
     ]
    },
    {
     "name": "stdout",
     "output_type": "stream",
     "text": [
      "[CV]  features__text_features__cvec__max_df=0.01, features__text_features__cvec__max_features=7185, features__text_features__cvec__min_df=2, features__text_features__cvec__ngram_range=(2, 2), rf__max_depth=500, rf__min_samples_leaf=20, rf__min_samples_split=20, rf__n_estimators=50, total=   4.2s\n",
      "[CV] features__text_features__cvec__max_df=0.01, features__text_features__cvec__max_features=7185, features__text_features__cvec__min_df=2, features__text_features__cvec__ngram_range=(2, 2), rf__max_depth=500, rf__min_samples_leaf=20, rf__min_samples_split=20, rf__n_estimators=50 \n"
     ]
    },
    {
     "name": "stderr",
     "output_type": "stream",
     "text": [
      "C:\\Users\\tsuts\\anaconda3\\lib\\site-packages\\sklearn\\feature_extraction\\text.py:383: UserWarning: Your stop_words may be inconsistent with your preprocessing. Tokenizing the stop words generated tokens ['ha', 'le', 'u', 'wa'] not in stop_words.\n",
      "  warnings.warn('Your stop_words may be inconsistent with '\n"
     ]
    },
    {
     "name": "stdout",
     "output_type": "stream",
     "text": [
      "[CV]  features__text_features__cvec__max_df=0.01, features__text_features__cvec__max_features=7185, features__text_features__cvec__min_df=2, features__text_features__cvec__ngram_range=(2, 2), rf__max_depth=500, rf__min_samples_leaf=20, rf__min_samples_split=20, rf__n_estimators=50, total=   4.2s\n"
     ]
    },
    {
     "name": "stderr",
     "output_type": "stream",
     "text": [
      "[Parallel(n_jobs=1)]: Done  10 out of  10 | elapsed:   42.5s finished\n",
      "C:\\Users\\tsuts\\anaconda3\\lib\\site-packages\\sklearn\\feature_extraction\\text.py:383: UserWarning: Your stop_words may be inconsistent with your preprocessing. Tokenizing the stop words generated tokens ['ha', 'le', 'u', 'wa'] not in stop_words.\n",
      "  warnings.warn('Your stop_words may be inconsistent with '\n"
     ]
    },
    {
     "name": "stdout",
     "output_type": "stream",
     "text": [
      "Best Score: 0.5318621675844112\n",
      "Train Set Score: 0.5320081847413037\n",
      "Test Set Score: 0.5327795906259271\n",
      "Best Parameters: {'features__text_features__cvec__max_df': 0.01, 'features__text_features__cvec__max_features': 7185, 'features__text_features__cvec__min_df': 2, 'features__text_features__cvec__ngram_range': (2, 2), 'rf__max_depth': 500, 'rf__min_samples_leaf': 20, 'rf__min_samples_split': 20, 'rf__n_estimators': 50}\n",
      " This cell took 52.6433470249176 seconds to run\n"
     ]
    }
   ],
   "source": [
    "# 1 gram\n",
    "get_text_data = FunctionTransformer(lambda x: x['text'], validate = False)\n",
    "get_numeric_data = FunctionTransformer(lambda x: x[['sentiment']], validate = False)\n",
    "\n",
    "X = posts[['text', 'sentiment']]\n",
    "y = posts['subreddit']\n",
    "\n",
    "X_train, X_test, y_train, y_test = train_test_split(X,\n",
    "                                                    y,\n",
    "                                                    test_size=0.33,\n",
    "                                                    stratify=y,\n",
    "                                                    random_state=42)\n",
    "\n",
    "pipe = Pipeline([\n",
    "    ('features', FeatureUnion([\n",
    "        ('numeric_features', Pipeline([\n",
    "           ('selector', get_numeric_data), \n",
    "            ('ss', StandardScaler())\n",
    "        ])),\n",
    "        ('text_features', Pipeline([\n",
    "        ('selector', get_text_data), \n",
    "        ('cvec', CountVectorizer(tokenizer=LemmaTokenizer(), stop_words=my_stop_words))\n",
    "        ])),  \n",
    "    ])),\n",
    "    ('rf', RandomForestClassifier())\n",
    "])\n",
    "\n",
    "pipe_params = {\n",
    "    'features__text_features__cvec__max_features': [7_185],\n",
    "    'features__text_features__cvec__min_df': [2],\n",
    "    'features__text_features__cvec__max_df': [.01],\n",
    "    'features__text_features__cvec__ngram_range': [(2,2)],\n",
    "    'rf__n_estimators' : [50], \n",
    "    'rf__max_depth' : [500],\n",
    "    'rf__min_samples_split' : [20], \n",
    "    'rf__min_samples_leaf' : [20], \n",
    "}\n",
    "\n",
    "gs = GridSearchCV(pipe, # what object are we optimizing?\n",
    "                      param_grid=pipe_params, # what parameters values are we searching?\n",
    "                      cv=10, \n",
    "                      verbose=2,\n",
    "                      ) # 5-fold cross-validation.\n",
    "\n",
    "t0 = time.time()\n",
    "\n",
    "gs.fit(X_train, y_train)\n",
    "print(f'Best Score: {gs.best_score_}') \n",
    "print(f'Train Set Score: {gs.score(X_train, y_train)}')\n",
    "print(f'Test Set Score: {gs.score(X_test, y_test)}')\n",
    "print(f'Best Parameters: {gs.best_params_}')\n",
    "\n",
    "print(f' This cell took {time.time() - t0} seconds to run')"
   ]
  },
  {
   "cell_type": "code",
   "execution_count": 449,
   "metadata": {},
   "outputs": [
    {
     "data": {
      "text/plain": [
       "[0.8164297605327187, 0.8352820812627887, 0.8208246811035301]"
      ]
     },
     "execution_count": 449,
     "metadata": {},
     "output_type": "execute_result"
    }
   ],
   "source": [
    "scores = [gs.best_score_, gs.score(X_train,y_train), gs.score(X_test,y_test)]\n",
    "scores"
   ]
  },
  {
   "cell_type": "code",
   "execution_count": 457,
   "metadata": {},
   "outputs": [
    {
     "data": {
      "text/html": [
       "<div>\n",
       "<style scoped>\n",
       "    .dataframe tbody tr th:only-of-type {\n",
       "        vertical-align: middle;\n",
       "    }\n",
       "\n",
       "    .dataframe tbody tr th {\n",
       "        vertical-align: top;\n",
       "    }\n",
       "\n",
       "    .dataframe thead th {\n",
       "        text-align: right;\n",
       "    }\n",
       "</style>\n",
       "<table border=\"1\" class=\"dataframe\">\n",
       "  <thead>\n",
       "    <tr style=\"text-align: right;\">\n",
       "      <th></th>\n",
       "      <th>score</th>\n",
       "    </tr>\n",
       "    <tr>\n",
       "      <th></th>\n",
       "      <th></th>\n",
       "    </tr>\n",
       "  </thead>\n",
       "  <tbody>\n",
       "    <tr>\n",
       "      <th>cross_val_score</th>\n",
       "      <td>0.816430</td>\n",
       "    </tr>\n",
       "    <tr>\n",
       "      <th>train_set_score</th>\n",
       "      <td>0.835282</td>\n",
       "    </tr>\n",
       "    <tr>\n",
       "      <th>test_set_score</th>\n",
       "      <td>0.820825</td>\n",
       "    </tr>\n",
       "  </tbody>\n",
       "</table>\n",
       "</div>"
      ],
      "text/plain": [
       "                    score\n",
       "                         \n",
       "cross_val_score  0.816430\n",
       "train_set_score  0.835282\n",
       "test_set_score   0.820825"
      ]
     },
     "execution_count": 457,
     "metadata": {},
     "output_type": "execute_result"
    }
   ],
   "source": [
    "df = pd.DataFrame(scores, columns=['score'])\n",
    "df[''] = ['cross_val_score', 'train_set_score', 'test_set_score']\n",
    "df.set_index('')"
   ]
  },
  {
   "cell_type": "code",
   "execution_count": 297,
   "metadata": {},
   "outputs": [
    {
     "name": "stdout",
     "output_type": "stream",
     "text": [
      "Fitting 10 folds for each of 1 candidates, totalling 10 fits\n",
      "[CV] features__text_features__cvec__max_df=0.03, features__text_features__cvec__max_features=7185, features__text_features__cvec__min_df=1, features__text_features__cvec__ngram_range=(2, 2), rf__max_depth=500, rf__min_samples_leaf=50, rf__min_samples_split=50, rf__n_estimators=100 \n"
     ]
    },
    {
     "name": "stderr",
     "output_type": "stream",
     "text": [
      "[Parallel(n_jobs=1)]: Using backend SequentialBackend with 1 concurrent workers.\n",
      "C:\\Users\\tsuts\\anaconda3\\lib\\site-packages\\sklearn\\feature_extraction\\text.py:383: UserWarning: Your stop_words may be inconsistent with your preprocessing. Tokenizing the stop words generated tokens ['ha', 'le', 'u', 'wa'] not in stop_words.\n",
      "  warnings.warn('Your stop_words may be inconsistent with '\n"
     ]
    },
    {
     "name": "stdout",
     "output_type": "stream",
     "text": [
      "[CV]  features__text_features__cvec__max_df=0.03, features__text_features__cvec__max_features=7185, features__text_features__cvec__min_df=1, features__text_features__cvec__ngram_range=(2, 2), rf__max_depth=500, rf__min_samples_leaf=50, rf__min_samples_split=50, rf__n_estimators=100, total=   4.2s\n",
      "[CV] features__text_features__cvec__max_df=0.03, features__text_features__cvec__max_features=7185, features__text_features__cvec__min_df=1, features__text_features__cvec__ngram_range=(2, 2), rf__max_depth=500, rf__min_samples_leaf=50, rf__min_samples_split=50, rf__n_estimators=100 \n"
     ]
    },
    {
     "name": "stderr",
     "output_type": "stream",
     "text": [
      "[Parallel(n_jobs=1)]: Done   1 out of   1 | elapsed:    4.1s remaining:    0.0s\n",
      "C:\\Users\\tsuts\\anaconda3\\lib\\site-packages\\sklearn\\feature_extraction\\text.py:383: UserWarning: Your stop_words may be inconsistent with your preprocessing. Tokenizing the stop words generated tokens ['ha', 'le', 'u', 'wa'] not in stop_words.\n",
      "  warnings.warn('Your stop_words may be inconsistent with '\n"
     ]
    },
    {
     "name": "stdout",
     "output_type": "stream",
     "text": [
      "[CV]  features__text_features__cvec__max_df=0.03, features__text_features__cvec__max_features=7185, features__text_features__cvec__min_df=1, features__text_features__cvec__ngram_range=(2, 2), rf__max_depth=500, rf__min_samples_leaf=50, rf__min_samples_split=50, rf__n_estimators=100, total=   4.2s\n",
      "[CV] features__text_features__cvec__max_df=0.03, features__text_features__cvec__max_features=7185, features__text_features__cvec__min_df=1, features__text_features__cvec__ngram_range=(2, 2), rf__max_depth=500, rf__min_samples_leaf=50, rf__min_samples_split=50, rf__n_estimators=100 \n"
     ]
    },
    {
     "name": "stderr",
     "output_type": "stream",
     "text": [
      "C:\\Users\\tsuts\\anaconda3\\lib\\site-packages\\sklearn\\feature_extraction\\text.py:383: UserWarning: Your stop_words may be inconsistent with your preprocessing. Tokenizing the stop words generated tokens ['ha', 'le', 'u', 'wa'] not in stop_words.\n",
      "  warnings.warn('Your stop_words may be inconsistent with '\n"
     ]
    },
    {
     "name": "stdout",
     "output_type": "stream",
     "text": [
      "[CV]  features__text_features__cvec__max_df=0.03, features__text_features__cvec__max_features=7185, features__text_features__cvec__min_df=1, features__text_features__cvec__ngram_range=(2, 2), rf__max_depth=500, rf__min_samples_leaf=50, rf__min_samples_split=50, rf__n_estimators=100, total=   4.2s\n",
      "[CV] features__text_features__cvec__max_df=0.03, features__text_features__cvec__max_features=7185, features__text_features__cvec__min_df=1, features__text_features__cvec__ngram_range=(2, 2), rf__max_depth=500, rf__min_samples_leaf=50, rf__min_samples_split=50, rf__n_estimators=100 \n"
     ]
    },
    {
     "name": "stderr",
     "output_type": "stream",
     "text": [
      "C:\\Users\\tsuts\\anaconda3\\lib\\site-packages\\sklearn\\feature_extraction\\text.py:383: UserWarning: Your stop_words may be inconsistent with your preprocessing. Tokenizing the stop words generated tokens ['ha', 'le', 'u', 'wa'] not in stop_words.\n",
      "  warnings.warn('Your stop_words may be inconsistent with '\n"
     ]
    },
    {
     "name": "stdout",
     "output_type": "stream",
     "text": [
      "[CV]  features__text_features__cvec__max_df=0.03, features__text_features__cvec__max_features=7185, features__text_features__cvec__min_df=1, features__text_features__cvec__ngram_range=(2, 2), rf__max_depth=500, rf__min_samples_leaf=50, rf__min_samples_split=50, rf__n_estimators=100, total=   4.2s\n",
      "[CV] features__text_features__cvec__max_df=0.03, features__text_features__cvec__max_features=7185, features__text_features__cvec__min_df=1, features__text_features__cvec__ngram_range=(2, 2), rf__max_depth=500, rf__min_samples_leaf=50, rf__min_samples_split=50, rf__n_estimators=100 \n"
     ]
    },
    {
     "name": "stderr",
     "output_type": "stream",
     "text": [
      "C:\\Users\\tsuts\\anaconda3\\lib\\site-packages\\sklearn\\feature_extraction\\text.py:383: UserWarning: Your stop_words may be inconsistent with your preprocessing. Tokenizing the stop words generated tokens ['ha', 'le', 'u', 'wa'] not in stop_words.\n",
      "  warnings.warn('Your stop_words may be inconsistent with '\n"
     ]
    },
    {
     "name": "stdout",
     "output_type": "stream",
     "text": [
      "[CV]  features__text_features__cvec__max_df=0.03, features__text_features__cvec__max_features=7185, features__text_features__cvec__min_df=1, features__text_features__cvec__ngram_range=(2, 2), rf__max_depth=500, rf__min_samples_leaf=50, rf__min_samples_split=50, rf__n_estimators=100, total=   4.3s\n",
      "[CV] features__text_features__cvec__max_df=0.03, features__text_features__cvec__max_features=7185, features__text_features__cvec__min_df=1, features__text_features__cvec__ngram_range=(2, 2), rf__max_depth=500, rf__min_samples_leaf=50, rf__min_samples_split=50, rf__n_estimators=100 \n"
     ]
    },
    {
     "name": "stderr",
     "output_type": "stream",
     "text": [
      "C:\\Users\\tsuts\\anaconda3\\lib\\site-packages\\sklearn\\feature_extraction\\text.py:383: UserWarning: Your stop_words may be inconsistent with your preprocessing. Tokenizing the stop words generated tokens ['ha', 'le', 'u', 'wa'] not in stop_words.\n",
      "  warnings.warn('Your stop_words may be inconsistent with '\n"
     ]
    },
    {
     "name": "stdout",
     "output_type": "stream",
     "text": [
      "[CV]  features__text_features__cvec__max_df=0.03, features__text_features__cvec__max_features=7185, features__text_features__cvec__min_df=1, features__text_features__cvec__ngram_range=(2, 2), rf__max_depth=500, rf__min_samples_leaf=50, rf__min_samples_split=50, rf__n_estimators=100, total=   4.2s\n",
      "[CV] features__text_features__cvec__max_df=0.03, features__text_features__cvec__max_features=7185, features__text_features__cvec__min_df=1, features__text_features__cvec__ngram_range=(2, 2), rf__max_depth=500, rf__min_samples_leaf=50, rf__min_samples_split=50, rf__n_estimators=100 \n"
     ]
    },
    {
     "name": "stderr",
     "output_type": "stream",
     "text": [
      "C:\\Users\\tsuts\\anaconda3\\lib\\site-packages\\sklearn\\feature_extraction\\text.py:383: UserWarning: Your stop_words may be inconsistent with your preprocessing. Tokenizing the stop words generated tokens ['ha', 'le', 'u', 'wa'] not in stop_words.\n",
      "  warnings.warn('Your stop_words may be inconsistent with '\n"
     ]
    },
    {
     "name": "stdout",
     "output_type": "stream",
     "text": [
      "[CV]  features__text_features__cvec__max_df=0.03, features__text_features__cvec__max_features=7185, features__text_features__cvec__min_df=1, features__text_features__cvec__ngram_range=(2, 2), rf__max_depth=500, rf__min_samples_leaf=50, rf__min_samples_split=50, rf__n_estimators=100, total=   4.2s\n",
      "[CV] features__text_features__cvec__max_df=0.03, features__text_features__cvec__max_features=7185, features__text_features__cvec__min_df=1, features__text_features__cvec__ngram_range=(2, 2), rf__max_depth=500, rf__min_samples_leaf=50, rf__min_samples_split=50, rf__n_estimators=100 \n"
     ]
    },
    {
     "name": "stderr",
     "output_type": "stream",
     "text": [
      "C:\\Users\\tsuts\\anaconda3\\lib\\site-packages\\sklearn\\feature_extraction\\text.py:383: UserWarning: Your stop_words may be inconsistent with your preprocessing. Tokenizing the stop words generated tokens ['ha', 'le', 'u', 'wa'] not in stop_words.\n",
      "  warnings.warn('Your stop_words may be inconsistent with '\n"
     ]
    },
    {
     "name": "stdout",
     "output_type": "stream",
     "text": [
      "[CV]  features__text_features__cvec__max_df=0.03, features__text_features__cvec__max_features=7185, features__text_features__cvec__min_df=1, features__text_features__cvec__ngram_range=(2, 2), rf__max_depth=500, rf__min_samples_leaf=50, rf__min_samples_split=50, rf__n_estimators=100, total=   4.3s\n",
      "[CV] features__text_features__cvec__max_df=0.03, features__text_features__cvec__max_features=7185, features__text_features__cvec__min_df=1, features__text_features__cvec__ngram_range=(2, 2), rf__max_depth=500, rf__min_samples_leaf=50, rf__min_samples_split=50, rf__n_estimators=100 \n"
     ]
    },
    {
     "name": "stderr",
     "output_type": "stream",
     "text": [
      "C:\\Users\\tsuts\\anaconda3\\lib\\site-packages\\sklearn\\feature_extraction\\text.py:383: UserWarning: Your stop_words may be inconsistent with your preprocessing. Tokenizing the stop words generated tokens ['ha', 'le', 'u', 'wa'] not in stop_words.\n",
      "  warnings.warn('Your stop_words may be inconsistent with '\n"
     ]
    },
    {
     "name": "stdout",
     "output_type": "stream",
     "text": [
      "[CV]  features__text_features__cvec__max_df=0.03, features__text_features__cvec__max_features=7185, features__text_features__cvec__min_df=1, features__text_features__cvec__ngram_range=(2, 2), rf__max_depth=500, rf__min_samples_leaf=50, rf__min_samples_split=50, rf__n_estimators=100, total=   4.3s\n",
      "[CV] features__text_features__cvec__max_df=0.03, features__text_features__cvec__max_features=7185, features__text_features__cvec__min_df=1, features__text_features__cvec__ngram_range=(2, 2), rf__max_depth=500, rf__min_samples_leaf=50, rf__min_samples_split=50, rf__n_estimators=100 \n"
     ]
    },
    {
     "name": "stderr",
     "output_type": "stream",
     "text": [
      "C:\\Users\\tsuts\\anaconda3\\lib\\site-packages\\sklearn\\feature_extraction\\text.py:383: UserWarning: Your stop_words may be inconsistent with your preprocessing. Tokenizing the stop words generated tokens ['ha', 'le', 'u', 'wa'] not in stop_words.\n",
      "  warnings.warn('Your stop_words may be inconsistent with '\n"
     ]
    },
    {
     "name": "stdout",
     "output_type": "stream",
     "text": [
      "[CV]  features__text_features__cvec__max_df=0.03, features__text_features__cvec__max_features=7185, features__text_features__cvec__min_df=1, features__text_features__cvec__ngram_range=(2, 2), rf__max_depth=500, rf__min_samples_leaf=50, rf__min_samples_split=50, rf__n_estimators=100, total=   4.3s\n"
     ]
    },
    {
     "name": "stderr",
     "output_type": "stream",
     "text": [
      "[Parallel(n_jobs=1)]: Done  10 out of  10 | elapsed:   42.5s finished\n",
      "C:\\Users\\tsuts\\anaconda3\\lib\\site-packages\\sklearn\\feature_extraction\\text.py:383: UserWarning: Your stop_words may be inconsistent with your preprocessing. Tokenizing the stop words generated tokens ['ha', 'le', 'u', 'wa'] not in stop_words.\n",
      "  warnings.warn('Your stop_words may be inconsistent with '\n"
     ]
    },
    {
     "name": "stdout",
     "output_type": "stream",
     "text": [
      "Best Score: 0.5318621675844112\n",
      "Train Set Score: 0.5318620286465946\n",
      "Test Set Score: 0.5318896469890241\n",
      "Best Parameters: {'features__text_features__cvec__max_df': 0.03, 'features__text_features__cvec__max_features': 7185, 'features__text_features__cvec__min_df': 1, 'features__text_features__cvec__ngram_range': (2, 2), 'rf__max_depth': 500, 'rf__min_samples_leaf': 50, 'rf__min_samples_split': 50, 'rf__n_estimators': 100}\n",
      " This cell took 52.49664044380188 seconds to run\n"
     ]
    }
   ],
   "source": [
    "# bigrams\n",
    "X = posts[['text', 'sentiment']]\n",
    "y = posts['subreddit']\n",
    "\n",
    "X_train, X_test, y_train, y_test = train_test_split(X,\n",
    "                                                    y,\n",
    "                                                    test_size=0.33,\n",
    "                                                    stratify=y,\n",
    "                                                    random_state=42)\n",
    "\n",
    "pipe = Pipeline([\n",
    "    ('features', FeatureUnion([\n",
    "        ('numeric_features', Pipeline([\n",
    "           ('selector', get_numeric_data), \n",
    "            ('ss', StandardScaler())\n",
    "        ])),\n",
    "        ('text_features', Pipeline([\n",
    "        ('selector', get_text_data), \n",
    "        ('cvec', CountVectorizer(tokenizer=LemmaTokenizer(), stop_words=my_stop_words))\n",
    "        ])),  \n",
    "    ])),\n",
    "    ('rf', RandomForestClassifier())\n",
    "])\n",
    "\n",
    "pipe_params = {\n",
    "    'features__text_features__cvec__max_features': [7_185],\n",
    "    'features__text_features__cvec__min_df': [1],\n",
    "    'features__text_features__cvec__max_df': [.03],\n",
    "    'features__text_features__cvec__ngram_range': [(2,2)],\n",
    "    'rf__n_estimators' : [100], \n",
    "    'rf__max_depth' : [500],\n",
    "    'rf__min_samples_split' : [50], \n",
    "    'rf__min_samples_leaf' : [50], \n",
    "}\n",
    "\n",
    "bi_gram_gs = GridSearchCV(pipe, # what object are we optimizing?\n",
    "                      param_grid=pipe_params, # what parameters values are we searching?\n",
    "                      cv=10, \n",
    "                      verbose=2,\n",
    "                      ) # 5-fold cross-validation.\n",
    "\n",
    "t0 = time.time()\n",
    "\n",
    "bi_gram_gs.fit(X_train, y_train)\n",
    "print(f'Best Score: {bi_gram_gs.best_score_}') \n",
    "print(f'Train Set Score: {bi_gram_gs.score(X_train, y_train)}')\n",
    "print(f'Test Set Score: {bi_gram_gs.score(X_test, y_test)}')\n",
    "print(f'Best Parameters: {bi_gram_gs.best_params_}')\n",
    "\n",
    "print(f' This cell took {time.time() - t0} seconds to run')"
   ]
  },
  {
   "cell_type": "code",
   "execution_count": null,
   "metadata": {},
   "outputs": [],
   "source": [
    "# trigrams\n",
    "X = posts[['text', 'sentiment']]\n",
    "y = posts['subreddit']\n",
    "\n",
    "X_train, X_test, y_train, y_test = train_test_split(X,\n",
    "                                                    y,\n",
    "                                                    test_size=0.33,\n",
    "                                                    stratify=y,\n",
    "                                                    random_state=42)\n",
    "\n",
    "pipe = Pipeline([\n",
    "    ('features', FeatureUnion([\n",
    "        ('numeric_features', Pipeline([\n",
    "           ('selector', get_numeric_data), \n",
    "            ('ss', StandardScaler())\n",
    "        ])),\n",
    "        ('text_features', Pipeline([\n",
    "        ('selector', get_text_data), \n",
    "        ('cvec', CountVectorizer(tokenizer=LemmaTokenizer(), stop_words=my_stop_words))\n",
    "        ])),  \n",
    "    ])),\n",
    "    ('rf', RandomForestClassifier())\n",
    "])\n",
    "\n",
    "pipe_params = {\n",
    "    'features__text_features__cvec__max_features': [7_185],\n",
    "    'features__text_features__cvec__min_df': [1],\n",
    "    'features__text_features__cvec__max_df': [.03],\n",
    "    'features__text_features__cvec__ngram_range': [(3,3)],\n",
    "    'rf__n_estimators' : [100], \n",
    "    'rf__max_depth' : [500],\n",
    "    'rf__min_samples_split' : [50], \n",
    "    'rf__min_samples_leaf' : [50], \n",
    "}\n",
    "\n",
    "tri_grams_gs = GridSearchCV(pipe, # what object are we optimizing?\n",
    "                      param_grid=pipe_params, # what parameters values are we searching?\n",
    "                      cv=10, \n",
    "                      verbose=2,\n",
    "                      ) # 5-fold cross-validation.\n",
    "\n",
    "t0 = time.time()\n",
    "\n",
    "tri_grams_gs.fit(X_train, y_train)\n",
    "print(f'Best Score: {tri_grams_gs.best_score_}') \n",
    "print(f'Train Set Score: {tri_grams_gs.score(X_train, y_train)}')\n",
    "print(f'Test Set Score: {tri_grams_gs.score(X_test, y_test)}')\n",
    "print(f'Best Parameters: {tri_grams_gs.best_params_}')\n",
    "\n",
    "print(f' This cell took {time.time() - t0} seconds to run')"
   ]
  },
  {
   "cell_type": "markdown",
   "metadata": {},
   "source": [
    "### GridSearchHyperparameters\n",
    "- At some point I want to go back and run a RandomSearchCV on my RandomForestClassifier to get the best possible hyperparameters for my model. \n",
    "\n",
    "- Best Score: 0.8164 \n",
    "- Train Set Score: 0.8353 \n",
    "- Test Set Score: 0.8208 \n",
    "- Best Parameters: \n",
    "     - cvec__max_df: 0.15 \n",
    "     - cvec__max_features: 7180, \n",
    "     - cvec__min_df: 2 \n",
    "     - cvec__ngram_range: (1, 1)\n",
    "     - 'rf__max_depth': 500,\n",
    "     - rf__min_samples_leaf': 20\n",
    "     - rf__min_samples_split: 20\n",
    "     - rf__n_estimators: 5\n",
    "     \n"
   ]
  },
  {
   "cell_type": "markdown",
   "metadata": {},
   "source": [
    "- My model performed slightly better on the Lemmatized data set. "
   ]
  },
  {
   "cell_type": "markdown",
   "metadata": {},
   "source": [
    "### Results\n",
    "- Results from best model \n"
   ]
  },
  {
   "cell_type": "code",
   "execution_count": 417,
   "metadata": {},
   "outputs": [],
   "source": [
    "# get predictions\n",
    "preds = gs.predict(X_test)\n"
   ]
  },
  {
   "cell_type": "code",
   "execution_count": 459,
   "metadata": {},
   "outputs": [
    {
     "data": {
      "image/png": "[encoded data removed]",
      "text/plain": [
       "<Figure size 432x288 with 2 Axes>"
      ]
     },
     "metadata": {
      "needs_background": "light"
     },
     "output_type": "display_data"
    }
   ],
   "source": [
    "# Save confusion matrix values\n",
    "tn, fp, fn, tp = confusion_matrix(y_test, preds).ravel()\n",
    "plot_confusion_matrix(gs, X, y, cmap='Blues', values_format='d');"
   ]
  },
  {
   "cell_type": "code",
   "execution_count": 460,
   "metadata": {},
   "outputs": [
    {
     "data": {
      "text/plain": [
       "1375"
      ]
     },
     "execution_count": 460,
     "metadata": {},
     "output_type": "execute_result"
    }
   ],
   "source": [
    "tn"
   ]
  },
  {
   "cell_type": "code",
   "execution_count": 419,
   "metadata": {},
   "outputs": [
    {
     "name": "stdout",
     "output_type": "stream",
     "text": [
      "Accuracy: 0.8208246811035301\n",
      "Specificity: 0.8713561470215463\n",
      "Sensitivity: 0.7763524818739542\n",
      "Precision: 0.8727272727272727\n"
     ]
    }
   ],
   "source": [
    "# Accuracy \n",
    "acc = (tp+tn)/(tp+fp+tn+fn)\n",
    "print('Accuracy:', acc)\n",
    "\n",
    "\n",
    "# Specificity\n",
    "spec = tn / (tn + fp)\n",
    "print('Specificity:', spec)\n",
    "\n",
    "# Sensitivity\n",
    "sens = tp / (tp+fn)\n",
    "print('Sensitivity:', sens)\n",
    "\n",
    "# Precision \n",
    "prec = tp / (tp+fp)\n",
    "print('Precision:', prec)\n"
   ]
  },
  {
   "cell_type": "markdown",
   "metadata": {},
   "source": [
    "### Confusion Matrix Interpretation "
   ]
  },
  {
   "cell_type": "markdown",
   "metadata": {},
   "source": [
    "- The accuracy score tells us the percentage of observations my model correctly predicted. In other words, my model correctly predicted that a Bitcoin subreddit post was in fact in the r/Bitcoin subreddit 89.5% of the time. \n",
    "- The specificity tells us the percentage of Ethereum observations that I correctly predicted. In other words, my model correctly predicted that an Ethereum subreddit post was the r/Ethereum subreddit 87.2% of the time. \n",
    "- The sensitivity tells us the percentage of Bitcoin observations that I correctly predicted. In other words, my model correctly predicted r/Bitcoin posts 92.1% of the time. \n",
    "- The precision tells us the percentage of posts that I predicted to be Bitcoin subreddits were actually Bitcoin subreddits. In other words, 86.7% of the time, I correctly predicted Bitcoin subbredit posts. \n"
   ]
  },
  {
   "cell_type": "markdown",
   "metadata": {},
   "source": [
    "- Given the nature of my problem statement, it is nice to see that my model is decent given these scores. However, I'm not necessarily trying to optimize for a specific score. For my purposes, as long as I am correctly classifying whether a post is in r/Bitcoin or r/Ethereum, I am happy. With this in mind, the accuracy score of 89.5% isn't the best but it suffices. \n",
    "- Let's take a look at the F1 score, which is the harmonic mean of precision and recall (recall is the opposite of precision)"
   ]
  },
  {
   "cell_type": "code",
   "execution_count": 420,
   "metadata": {},
   "outputs": [
    {
     "data": {
      "text/plain": [
       "0.8727272727272727"
      ]
     },
     "execution_count": 420,
     "metadata": {},
     "output_type": "execute_result"
    }
   ],
   "source": [
    "prec"
   ]
  },
  {
   "cell_type": "code",
   "execution_count": 421,
   "metadata": {},
   "outputs": [
    {
     "data": {
      "text/plain": [
       "0.7763524818739542"
      ]
     },
     "execution_count": 421,
     "metadata": {},
     "output_type": "execute_result"
    }
   ],
   "source": [
    "recall = recall_score(y_test, preds)\n",
    "recall"
   ]
  },
  {
   "cell_type": "code",
   "execution_count": 422,
   "metadata": {},
   "outputs": [
    {
     "name": "stdout",
     "output_type": "stream",
     "text": [
      "F-Score:  0.8217237308146399\n"
     ]
    }
   ],
   "source": [
    "f_one = f1_score(y_test, preds)\n",
    "print('F-Score: ', f_one)"
   ]
  },
  {
   "cell_type": "markdown",
   "metadata": {},
   "source": [
    "### ROC Curve"
   ]
  },
  {
   "cell_type": "code",
   "execution_count": 423,
   "metadata": {},
   "outputs": [
    {
     "data": {
      "image/png": "[encoded data removed]",
      "text/plain": [
       "<Figure size 432x288 with 1 Axes>"
      ]
     },
     "metadata": {
      "needs_background": "light"
     },
     "output_type": "display_data"
    }
   ],
   "source": [
    "plot_roc_curve(gs, X_test, y_test);\n",
    "plt.plot([0,1], [0,1], 'k--');"
   ]
  },
  {
   "cell_type": "markdown",
   "metadata": {},
   "source": [
    "- The ROC curve shows us the performance of our model at all points from (0,1). It's comparing our true positive rate and our false positive along a curve. \n",
    "- It helps us visualize our tradeoff between sensitivity. \n"
   ]
  },
  {
   "cell_type": "code",
   "execution_count": 424,
   "metadata": {},
   "outputs": [
    {
     "name": "stdout",
     "output_type": "stream",
     "text": [
      "ROC AUC Score:  0.8988899939703551\n"
     ]
    }
   ],
   "source": [
    "predicted_probs = gs.predict_proba(X_test)\n",
    "roc_auc = roc_auc_score(y_test, predicted_probs[:,1])\n",
    "print('ROC AUC Score: ', roc_auc)"
   ]
  },
  {
   "cell_type": "markdown",
   "metadata": {},
   "source": [
    "- .93 ROC AUC score means our positive and negative populations are distinct. My model does a good job of classifying r/Bitcoin posts and r/Ethereum posts! "
   ]
  },
  {
   "cell_type": "markdown",
   "metadata": {},
   "source": [
    "## Coefficients "
   ]
  },
  {
   "cell_type": "code",
   "execution_count": 477,
   "metadata": {
    "scrolled": true
   },
   "outputs": [],
   "source": [
    "coefficients = gs.best_estimator_.named_steps['rf'].feature_importances_\n",
    "features = gs.best_estimator_.named_steps['features'].transformer_list[1][1].named_steps['cvec'].get_feature_names()\n",
    "\n",
    "#bi_gram_coefficients = bi_gram_gs.best_estimator_.named_steps['rf'].feature_importances_\n",
    "#bi_gram_features = bi_gram_gs.best_estimator_.named_steps['features'].transformer_list[1][1].named_steps['cvec'].get_feature_names()"
   ]
  },
  {
   "cell_type": "code",
   "execution_count": 478,
   "metadata": {},
   "outputs": [
    {
     "name": "stdout",
     "output_type": "stream",
     "text": [
      "There are 6458 coefficients.\n",
      "There are 6457 features.\n"
     ]
    }
   ],
   "source": [
    "print(f'There are {len(coefficients)} coefficients.')\n",
    "print(f'There are {len(features)} features.')"
   ]
  },
  {
   "cell_type": "code",
   "execution_count": 479,
   "metadata": {},
   "outputs": [],
   "source": [
    "features = ['sentiment_score'] +\\\n",
    "gs.best_estimator_.named_steps['features'].transformer_list[1][1].named_steps['cvec'].get_feature_names()\n",
    "\n",
    "#bi_gram_features = ['sentiment_score'] +\\\n",
    "#bi_gram_gs.best_estimator_.named_steps['features'].transformer_list[1][1].named_steps['cvec'].get_feature_names()\n",
    "# coefficients = gs.best_estimator_.named_steps['rf'].feature_importances_"
   ]
  },
  {
   "cell_type": "code",
   "execution_count": 480,
   "metadata": {},
   "outputs": [
    {
     "data": {
      "text/html": [
       "<div>\n",
       "<style scoped>\n",
       "    .dataframe tbody tr th:only-of-type {\n",
       "        vertical-align: middle;\n",
       "    }\n",
       "\n",
       "    .dataframe tbody tr th {\n",
       "        vertical-align: top;\n",
       "    }\n",
       "\n",
       "    .dataframe thead th {\n",
       "        text-align: right;\n",
       "    }\n",
       "</style>\n",
       "<table border=\"1\" class=\"dataframe\">\n",
       "  <thead>\n",
       "    <tr style=\"text-align: right;\">\n",
       "      <th></th>\n",
       "      <th>features</th>\n",
       "      <th>coef</th>\n",
       "    </tr>\n",
       "  </thead>\n",
       "  <tbody>\n",
       "    <tr>\n",
       "      <th>0</th>\n",
       "      <td>sentiment_score</td>\n",
       "      <td>0.5</td>\n",
       "    </tr>\n",
       "    <tr>\n",
       "      <th>1</th>\n",
       "      <td>0 beacon chain</td>\n",
       "      <td>0.0</td>\n",
       "    </tr>\n",
       "    <tr>\n",
       "      <th>2</th>\n",
       "      <td>0 early daysdeveloped</td>\n",
       "      <td>0.0</td>\n",
       "    </tr>\n",
       "    <tr>\n",
       "      <th>3</th>\n",
       "      <td>0 immediate impact</td>\n",
       "      <td>0.0</td>\n",
       "    </tr>\n",
       "    <tr>\n",
       "      <th>4</th>\n",
       "      <td>0 phase 1</td>\n",
       "      <td>0.0</td>\n",
       "    </tr>\n",
       "    <tr>\n",
       "      <th>...</th>\n",
       "      <td>...</td>\n",
       "      <td>...</td>\n",
       "    </tr>\n",
       "    <tr>\n",
       "      <th>6453</th>\n",
       "      <td>zero friction user</td>\n",
       "      <td>0.0</td>\n",
       "    </tr>\n",
       "    <tr>\n",
       "      <th>6454</th>\n",
       "      <td>zero hero hopefully</td>\n",
       "      <td>0.0</td>\n",
       "    </tr>\n",
       "    <tr>\n",
       "      <th>6455</th>\n",
       "      <td>zumo app free</td>\n",
       "      <td>0.0</td>\n",
       "    </tr>\n",
       "    <tr>\n",
       "      <th>6456</th>\n",
       "      <td>zumo new crypto</td>\n",
       "      <td>0.0</td>\n",
       "    </tr>\n",
       "    <tr>\n",
       "      <th>6457</th>\n",
       "      <td>λencodings slow ugly</td>\n",
       "      <td>0.0</td>\n",
       "    </tr>\n",
       "  </tbody>\n",
       "</table>\n",
       "<p>6458 rows × 2 columns</p>\n",
       "</div>"
      ],
      "text/plain": [
       "                   features  coef\n",
       "0           sentiment_score   0.5\n",
       "1            0 beacon chain   0.0\n",
       "2     0 early daysdeveloped   0.0\n",
       "3        0 immediate impact   0.0\n",
       "4                 0 phase 1   0.0\n",
       "...                     ...   ...\n",
       "6453     zero friction user   0.0\n",
       "6454    zero hero hopefully   0.0\n",
       "6455          zumo app free   0.0\n",
       "6456        zumo new crypto   0.0\n",
       "6457   λencodings slow ugly   0.0\n",
       "\n",
       "[6458 rows x 2 columns]"
      ]
     },
     "execution_count": 480,
     "metadata": {},
     "output_type": "execute_result"
    }
   ],
   "source": [
    "coef_df = pd.DataFrame({'features': features, \n",
    "              'coef' : coefficients})\n",
    "#bi_gram_coef_df = pd.DataFrame({'features': bi_gram_features, \n",
    "           #   'coef' : bi_gram_coefficients})\n",
    "coef_df\n",
    " "
   ]
  },
  {
   "cell_type": "code",
   "execution_count": 481,
   "metadata": {},
   "outputs": [
    {
     "data": {
      "text/html": [
       "<div>\n",
       "<style scoped>\n",
       "    .dataframe tbody tr th:only-of-type {\n",
       "        vertical-align: middle;\n",
       "    }\n",
       "\n",
       "    .dataframe tbody tr th {\n",
       "        vertical-align: top;\n",
       "    }\n",
       "\n",
       "    .dataframe thead th {\n",
       "        text-align: right;\n",
       "    }\n",
       "</style>\n",
       "<table border=\"1\" class=\"dataframe\">\n",
       "  <thead>\n",
       "    <tr style=\"text-align: right;\">\n",
       "      <th></th>\n",
       "      <th>coef</th>\n",
       "    </tr>\n",
       "    <tr>\n",
       "      <th>features</th>\n",
       "      <th></th>\n",
       "    </tr>\n",
       "  </thead>\n",
       "  <tbody>\n",
       "    <tr>\n",
       "      <th>sentiment_score</th>\n",
       "      <td>0.5</td>\n",
       "    </tr>\n",
       "    <tr>\n",
       "      <th>ledger nano s</th>\n",
       "      <td>0.5</td>\n",
       "    </tr>\n",
       "    <tr>\n",
       "      <th>plus needed fund</th>\n",
       "      <td>0.0</td>\n",
       "    </tr>\n",
       "    <tr>\n",
       "      <th>pointofsale approachthese pointofsale</th>\n",
       "      <td>0.0</td>\n",
       "    </tr>\n",
       "    <tr>\n",
       "      <th>pointofsale application utilize</th>\n",
       "      <td>0.0</td>\n",
       "    </tr>\n",
       "    <tr>\n",
       "      <th>point transaction cost</th>\n",
       "      <td>0.0</td>\n",
       "    </tr>\n",
       "    <tr>\n",
       "      <th>point stone stone</th>\n",
       "      <td>0.0</td>\n",
       "    </tr>\n",
       "    <tr>\n",
       "      <th>point right direction</th>\n",
       "      <td>0.0</td>\n",
       "    </tr>\n",
       "    <tr>\n",
       "      <th>point overspent thing</th>\n",
       "      <td>0.0</td>\n",
       "    </tr>\n",
       "    <tr>\n",
       "      <th>point doe make</th>\n",
       "      <td>0.0</td>\n",
       "    </tr>\n",
       "  </tbody>\n",
       "</table>\n",
       "</div>"
      ],
      "text/plain": [
       "                                       coef\n",
       "features                                   \n",
       "sentiment_score                         0.5\n",
       "ledger nano s                           0.5\n",
       "plus needed fund                        0.0\n",
       "pointofsale approachthese pointofsale   0.0\n",
       "pointofsale application utilize         0.0\n",
       "point transaction cost                  0.0\n",
       "point stone stone                       0.0\n",
       "point right direction                   0.0\n",
       "point overspent thing                   0.0\n",
       "point doe make                          0.0"
      ]
     },
     "execution_count": 481,
     "metadata": {},
     "output_type": "execute_result"
    }
   ],
   "source": [
    "coef_df = coef_df.set_index('features')\n",
    "coef_df = coef_df.sort_values('coef', ascending = False)\n",
    "coef_df.head(10)"
   ]
  },
  {
   "cell_type": "code",
   "execution_count": 482,
   "metadata": {},
   "outputs": [],
   "source": [
    "#bi_gram_coef_df = bi_gram_coef_df.set_index('features')\n",
    "#bi_gram_coef_df = bi_gram_coef_df.sort_values('coef', ascending = False)\n",
    "#bi_gram_coef_df.head(10)"
   ]
  },
  {
   "cell_type": "code",
   "execution_count": 483,
   "metadata": {},
   "outputs": [
    {
     "data": {
      "image/png": "[encoded data removed]",
      "text/plain": [
       "<Figure size 1440x720 with 1 Axes>"
      ]
     },
     "metadata": {
      "needs_background": "light"
     },
     "output_type": "display_data"
    }
   ],
   "source": [
    "weights = coef_df['coef'].head(25)\n",
    "labels = weights.index\n",
    "\n",
    "plt.figure(figsize=(20,10))\n",
    "plt.barh(labels, weights, color = 'teal')\n",
    "plt.yticks(fontsize=20)\n",
    "plt.xticks(fontsize=20)\n",
    "plt.xlabel('Feature Importance', fontsize=30)\n",
    "plt.title(f'Top 25 Features - r/Ethereum', fontsize=42)\n",
    "plt.tight_layout()"
   ]
  },
  {
   "cell_type": "code",
   "execution_count": 394,
   "metadata": {},
   "outputs": [],
   "source": [
    "coef_df = coef_df[coef_df['coef'] > 0]\n"
   ]
  },
  {
   "cell_type": "code",
   "execution_count": 395,
   "metadata": {},
   "outputs": [
    {
     "data": {
      "text/plain": [
       "(529, 1)"
      ]
     },
     "execution_count": 395,
     "metadata": {},
     "output_type": "execute_result"
    }
   ],
   "source": [
    "coef_df.shape"
   ]
  },
  {
   "cell_type": "code",
   "execution_count": 396,
   "metadata": {},
   "outputs": [
    {
     "data": {
      "image/png": "[encoded data removed]",
      "text/plain": [
       "<Figure size 1440x720 with 1 Axes>"
      ]
     },
     "metadata": {
      "needs_background": "light"
     },
     "output_type": "display_data"
    }
   ],
   "source": [
    "weights = coef_df['coef'].tail(20)\n",
    "labels = weights.index\n",
    "\n",
    "plt.figure(figsize=(20,10))\n",
    "plt.barh(labels, weights, color = 'red')\n",
    "plt.yticks(fontsize=20)\n",
    "plt.xticks(fontsize=20)\n",
    "plt.xlabel('Feature Importance', fontsize=30)\n",
    "plt.title(f'Top 10 Features - r/Bitcoin', fontsize=42)\n",
    "plt.tight_layout()"
   ]
  },
  {
   "cell_type": "code",
   "execution_count": 242,
   "metadata": {},
   "outputs": [
    {
     "data": {
      "text/plain": [
       "7186"
      ]
     },
     "execution_count": 242,
     "metadata": {},
     "output_type": "execute_result"
    }
   ],
   "source": [
    "'exactly', 'completely', 'care','directly','given', 'entire', 'sort', 'form', 'wouldnt'"
   ]
  },
  {
   "cell_type": "code",
   "execution_count": 238,
   "metadata": {},
   "outputs": [
    {
     "ename": "TypeError",
     "evalue": "'GridSearchCV' object is not callable",
     "output_type": "error",
     "traceback": [
      "\u001b[1;31m---------------------------------------------------------------------------\u001b[0m",
      "\u001b[1;31mTypeError\u001b[0m                                 Traceback (most recent call last)",
      "\u001b[1;32m<ipython-input-238-293745ed34de>\u001b[0m in \u001b[0;36m<module>\u001b[1;34m\u001b[0m\n\u001b[0;32m     15\u001b[0m     \u001b[1;32mreturn\u001b[0m \u001b[0mclasses\u001b[0m\u001b[1;33m\u001b[0m\u001b[1;33m\u001b[0m\u001b[0m\n\u001b[0;32m     16\u001b[0m \u001b[1;33m\u001b[0m\u001b[0m\n\u001b[1;32m---> 17\u001b[1;33m \u001b[0mimportance\u001b[0m \u001b[1;33m=\u001b[0m \u001b[0mget_most_important_features\u001b[0m\u001b[1;33m(\u001b[0m\u001b[0mCountVectorizer\u001b[0m\u001b[1;33m(\u001b[0m\u001b[1;33m)\u001b[0m\u001b[1;33m,\u001b[0m \u001b[0mcvec_gs\u001b[0m\u001b[1;33m(\u001b[0m\u001b[1;33m)\u001b[0m\u001b[1;33m,\u001b[0m \u001b[1;36m10\u001b[0m\u001b[1;33m)\u001b[0m\u001b[1;33m\u001b[0m\u001b[1;33m\u001b[0m\u001b[0m\n\u001b[0m",
      "\u001b[1;31mTypeError\u001b[0m: 'GridSearchCV' object is not callable"
     ]
    }
   ],
   "source": [
    "def get_most_important_features(vectorizer, model, n=5):\n",
    "    index_to_word = {v:k for k,v in vectorizer.vocabulary_.items()}\n",
    "    \n",
    "    # loop for each class\n",
    "    classes ={}\n",
    "    for class_index in range(model.coef_.shape[0]):\n",
    "        word_importances = [(el, index_to_word[i]) for i,el in enumerate(model.coef_[class_index])]\n",
    "        sorted_coeff = sorted(word_importances, key = lambda x : x[0], reverse=True)\n",
    "        tops = sorted(sorted_coeff[:n], key = lambda x : x[0])\n",
    "        bottom = sorted_coeff[-n:]\n",
    "        classes[class_index] = {\n",
    "            'tops':tops,\n",
    "            'bottom':bottom\n",
    "        }\n",
    "    return classes\n",
    "\n",
    "importance = get_most_important_features(CountVectorizer(), cvec_gs(), 10)"
   ]
  },
  {
   "cell_type": "code",
   "execution_count": null,
   "metadata": {},
   "outputs": [],
   "source": [
    "no_lem_pipe = Pipeline([\n",
    "    ('features', FeatureUnion([\n",
    "        ('numeric_features', Pipeline([\n",
    "           ('selector', get_numeric_data), \n",
    "            ('ss', StandardScaler())\n",
    "        ])),\n",
    "        ('text_features', Pipeline([\n",
    "        ('selector', get_text_data), \n",
    "        ('cvec', CountVectorizer(stop_words=my_stop_words))\n",
    "        ])),  \n",
    "    ])),\n",
    "    ('rf', RandomForestClassifier())\n",
    "])\n",
    "\n",
    "\n",
    "no_lem_pipe_params = {\n",
    "    'features__text_features__cvec__max_features': [7_180,7_185, 7_190],\n",
    "    'features__text_features__cvec__min_df': [.1],\n",
    "    'features__text_features__cvec__max_df': [.2],\n",
    "    'features__text_features__cvec__ngram_range': [(1,1), (1,2)]\n",
    "}\n",
    "\n",
    "\n",
    "no_lem_gs = GridSearchCV(no_lem_pipe, # what object are we optimizing?\n",
    "                      param_grid=no_lem_pipe_params, # what parameters values are we searching?\n",
    "                      cv=10, \n",
    "                      verbose=2,\n",
    "                      ) # 5-fold cross-validation.\n",
    "\n",
    "t0 = time.time()\n",
    "\n",
    "no_lem_gs.fit(X, y)\n",
    "print(f'Best Score: {no_lem_gs.best_score_} Train Set Score: {no_lem_gs.score(X_train, y_train)} Test Set Score: {no_lem_cvec_gs.score(X_test, y_test)} Best Parameters: {no_lem_cvec_gs.best_params_}')\n",
    "\n",
    "#tvec_gs.fit(X_train, y_train)\n",
    "#print(f'Best Score: {tvec_gs.best_score_} Train Set Score: {tvec_gs.score(X_train, y_train)} Test Set Score {tvec_gs.score(X_test, y_test)} Best Parameters: {tvec_gs.best_params_}')\n",
    "\n",
    "print(f' This cell took {time.time() - t0} seconds to run')\n",
    "\n"
   ]
  }
 ],
 "metadata": {
  "kernelspec": {
   "display_name": "Python 3",
   "language": "python",
   "name": "python3"
  },
  "language_info": {
   "codemirror_mode": {
    "name": "ipython",
    "version": 3
   },
   "file_extension": ".py",
   "mimetype": "text/x-python",
   "name": "python",
   "nbconvert_exporter": "python",
   "pygments_lexer": "ipython3",
   "version": "3.8.5"
  }
 },
 "nbformat": 4,
 "nbformat_minor": 4
}
