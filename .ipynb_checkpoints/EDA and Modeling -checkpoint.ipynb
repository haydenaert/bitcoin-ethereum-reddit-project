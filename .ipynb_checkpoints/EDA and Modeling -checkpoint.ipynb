{
 "cells": [
  {
   "cell_type": "code",
   "execution_count": 1,
   "metadata": {},
   "outputs": [],
   "source": [
    "import time\n",
    "import pandas as pd \n",
    "import numpy as np \n",
    "import matplotlib.pyplot as plt \n",
    "import seaborn as sns \n",
    "from scipy import stats"
   ]
  },
  {
   "cell_type": "code",
   "execution_count": 2,
   "metadata": {},
   "outputs": [],
   "source": [
    "from nltk.tokenize import sent_tokenize, word_tokenize, RegexpTokenizer\n",
    "from nltk.stem import WordNetLemmatizer\n",
    "from nltk.stem.porter import PorterStemmer\n",
    "from nltk.corpus import stopwords\n",
    "from nltk.sentiment.vader import SentimentIntensityAnalyzer\n",
    "import re\n"
   ]
  },
  {
   "cell_type": "code",
   "execution_count": 3,
   "metadata": {},
   "outputs": [],
   "source": [
    "from sklearn.model_selection import train_test_split, GridSearchCV\n",
    "from sklearn.pipeline import Pipeline, FeatureUnion\n",
    "from sklearn.naive_bayes import MultinomialNB\n",
    "from sklearn.linear_model import LogisticRegression\n",
    "from sklearn.ensemble import RandomForestClassifier, ExtraTreesClassifier\n",
    "from sklearn.ensemble import AdaBoostClassifier, BaggingClassifier\n",
    "\n",
    "from sklearn.metrics import confusion_matrix, plot_confusion_matrix\n",
    "\n",
    "from sklearn.feature_extraction.text import CountVectorizer, TfidfVectorizer\n",
    "from sklearn.feature_extraction import text \n",
    "from sklearn.preprocessing import FunctionTransformer\n",
    "from sklearn.preprocessing import StandardScaler\n"
   ]
  },
  {
   "cell_type": "code",
   "execution_count": 63,
   "metadata": {},
   "outputs": [],
   "source": [
    "# read in csv\n",
    "posts = pd.read_csv('./datasets/ethbtc_posts.csv')"
   ]
  },
  {
   "cell_type": "code",
   "execution_count": 65,
   "metadata": {},
   "outputs": [
    {
     "data": {
      "text/html": [
       "<div>\n",
       "<style scoped>\n",
       "    .dataframe tbody tr th:only-of-type {\n",
       "        vertical-align: middle;\n",
       "    }\n",
       "\n",
       "    .dataframe tbody tr th {\n",
       "        vertical-align: top;\n",
       "    }\n",
       "\n",
       "    .dataframe thead th {\n",
       "        text-align: right;\n",
       "    }\n",
       "</style>\n",
       "<table border=\"1\" class=\"dataframe\">\n",
       "  <thead>\n",
       "    <tr style=\"text-align: right;\">\n",
       "      <th></th>\n",
       "      <th>selftext</th>\n",
       "      <th>title</th>\n",
       "      <th>subreddit</th>\n",
       "    </tr>\n",
       "  </thead>\n",
       "  <tbody>\n",
       "    <tr>\n",
       "      <th>0</th>\n",
       "      <td>TPDNM</td>\n",
       "      <td>Is it possible for an invalid tx to stay in th...</td>\n",
       "      <td>ethereum</td>\n",
       "    </tr>\n",
       "    <tr>\n",
       "      <th>1</th>\n",
       "      <td>\\nhttps://www.coindesk.com/16-ethereum-predict...</td>\n",
       "      <td>16 Ethereum Predictions From a Crypto Oracle</td>\n",
       "      <td>ethereum</td>\n",
       "    </tr>\n",
       "    <tr>\n",
       "      <th>2</th>\n",
       "      <td>TPDNM</td>\n",
       "      <td>What do you think is the max value of Eth befo...</td>\n",
       "      <td>ethereum</td>\n",
       "    </tr>\n",
       "    <tr>\n",
       "      <th>3</th>\n",
       "      <td>TPDNM</td>\n",
       "      <td>MYID Coins are currently an ethereum erc20</td>\n",
       "      <td>ethereum</td>\n",
       "    </tr>\n",
       "    <tr>\n",
       "      <th>4</th>\n",
       "      <td>TPDNM</td>\n",
       "      <td>90% of Ethereum Addresses are In Profit Follow...</td>\n",
       "      <td>ethereum</td>\n",
       "    </tr>\n",
       "  </tbody>\n",
       "</table>\n",
       "</div>"
      ],
      "text/plain": [
       "                                            selftext  \\\n",
       "0                                              TPDNM   \n",
       "1  \\nhttps://www.coindesk.com/16-ethereum-predict...   \n",
       "2                                              TPDNM   \n",
       "3                                              TPDNM   \n",
       "4                                              TPDNM   \n",
       "\n",
       "                                               title subreddit  \n",
       "0  Is it possible for an invalid tx to stay in th...  ethereum  \n",
       "1       16 Ethereum Predictions From a Crypto Oracle  ethereum  \n",
       "2  What do you think is the max value of Eth befo...  ethereum  \n",
       "3         MYID Coins are currently an ethereum erc20  ethereum  \n",
       "4  90% of Ethereum Addresses are In Profit Follow...  ethereum  "
      ]
     },
     "execution_count": 65,
     "metadata": {},
     "output_type": "execute_result"
    }
   ],
   "source": [
    "posts.head()"
   ]
  },
  {
   "cell_type": "code",
   "execution_count": 66,
   "metadata": {},
   "outputs": [
    {
     "data": {
      "text/plain": [
       "selftext     0\n",
       "title        0\n",
       "subreddit    0\n",
       "dtype: int64"
      ]
     },
     "execution_count": 66,
     "metadata": {},
     "output_type": "execute_result"
    }
   ],
   "source": [
    "# check for null values \n",
    "posts.isnull().sum()"
   ]
  },
  {
   "cell_type": "code",
   "execution_count": 67,
   "metadata": {},
   "outputs": [],
   "source": [
    "# get rid of TPDNM. \n",
    "# After doing a couple rounds of EDA and modelling, \n",
    "# I needed to reduce the amount of data\n",
    "# for memory purposes\n",
    "# and decided that removing the TPDNM  suffices\n",
    "posts = posts[posts.selftext != 'TPDNM']\n",
    "posts.reset_index(inplace=True)"
   ]
  },
  {
   "cell_type": "code",
   "execution_count": 68,
   "metadata": {},
   "outputs": [],
   "source": [
    "#posts.set_index('index', inplace=True)"
   ]
  },
  {
   "cell_type": "code",
   "execution_count": 69,
   "metadata": {},
   "outputs": [
    {
     "data": {
      "text/html": [
       "<div>\n",
       "<style scoped>\n",
       "    .dataframe tbody tr th:only-of-type {\n",
       "        vertical-align: middle;\n",
       "    }\n",
       "\n",
       "    .dataframe tbody tr th {\n",
       "        vertical-align: top;\n",
       "    }\n",
       "\n",
       "    .dataframe thead th {\n",
       "        text-align: right;\n",
       "    }\n",
       "</style>\n",
       "<table border=\"1\" class=\"dataframe\">\n",
       "  <thead>\n",
       "    <tr style=\"text-align: right;\">\n",
       "      <th></th>\n",
       "      <th>index</th>\n",
       "      <th>selftext</th>\n",
       "      <th>title</th>\n",
       "      <th>subreddit</th>\n",
       "    </tr>\n",
       "  </thead>\n",
       "  <tbody>\n",
       "    <tr>\n",
       "      <th>0</th>\n",
       "      <td>1</td>\n",
       "      <td>\\nhttps://www.coindesk.com/16-ethereum-predict...</td>\n",
       "      <td>16 Ethereum Predictions From a Crypto Oracle</td>\n",
       "      <td>ethereum</td>\n",
       "    </tr>\n",
       "    <tr>\n",
       "      <th>1</th>\n",
       "      <td>8</td>\n",
       "      <td>Alright so I’ve been on the ETH train for some...</td>\n",
       "      <td>Upside of Ether?</td>\n",
       "      <td>ethereum</td>\n",
       "    </tr>\n",
       "    <tr>\n",
       "      <th>2</th>\n",
       "      <td>15</td>\n",
       "      <td>i tried almost a year and a half ago to get in...</td>\n",
       "      <td>i need help</td>\n",
       "      <td>ethereum</td>\n",
       "    </tr>\n",
       "    <tr>\n",
       "      <th>3</th>\n",
       "      <td>16</td>\n",
       "      <td>Hi guys, I am not very familiar with ethereum ...</td>\n",
       "      <td>New to this... is now a good time to invest in...</td>\n",
       "      <td>ethereum</td>\n",
       "    </tr>\n",
       "    <tr>\n",
       "      <th>4</th>\n",
       "      <td>21</td>\n",
       "      <td>Hi everyone, I think this is the most suited s...</td>\n",
       "      <td>Should I stake?</td>\n",
       "      <td>ethereum</td>\n",
       "    </tr>\n",
       "    <tr>\n",
       "      <th>5</th>\n",
       "      <td>23</td>\n",
       "      <td>Spoiler alert.. a lot.  \\nWe go frontrun on tr...</td>\n",
       "      <td>We took a tour around the dark forest to see h...</td>\n",
       "      <td>ethereum</td>\n",
       "    </tr>\n",
       "    <tr>\n",
       "      <th>6</th>\n",
       "      <td>24</td>\n",
       "      <td>So The Secret Network Ethereum bridge is live....</td>\n",
       "      <td>More secretEther users needed! Privacy fans un...</td>\n",
       "      <td>ethereum</td>\n",
       "    </tr>\n",
       "    <tr>\n",
       "      <th>7</th>\n",
       "      <td>29</td>\n",
       "      <td>Hi ethereum holders/investors/stakers etc.\\n\\n...</td>\n",
       "      <td>Max supply of ETH</td>\n",
       "      <td>ethereum</td>\n",
       "    </tr>\n",
       "    <tr>\n",
       "      <th>8</th>\n",
       "      <td>33</td>\n",
       "      <td>\\nIf you’ve been keeping up with Ripple then y...</td>\n",
       "      <td>XRP right now lol</td>\n",
       "      <td>ethereum</td>\n",
       "    </tr>\n",
       "    <tr>\n",
       "      <th>9</th>\n",
       "      <td>35</td>\n",
       "      <td>I know the basics of crypto but I’m not the mo...</td>\n",
       "      <td>Is this a bubble?</td>\n",
       "      <td>ethereum</td>\n",
       "    </tr>\n",
       "  </tbody>\n",
       "</table>\n",
       "</div>"
      ],
      "text/plain": [
       "   index                                           selftext  \\\n",
       "0      1  \\nhttps://www.coindesk.com/16-ethereum-predict...   \n",
       "1      8  Alright so I’ve been on the ETH train for some...   \n",
       "2     15  i tried almost a year and a half ago to get in...   \n",
       "3     16  Hi guys, I am not very familiar with ethereum ...   \n",
       "4     21  Hi everyone, I think this is the most suited s...   \n",
       "5     23  Spoiler alert.. a lot.  \\nWe go frontrun on tr...   \n",
       "6     24  So The Secret Network Ethereum bridge is live....   \n",
       "7     29  Hi ethereum holders/investors/stakers etc.\\n\\n...   \n",
       "8     33  \\nIf you’ve been keeping up with Ripple then y...   \n",
       "9     35  I know the basics of crypto but I’m not the mo...   \n",
       "\n",
       "                                               title subreddit  \n",
       "0       16 Ethereum Predictions From a Crypto Oracle  ethereum  \n",
       "1                                   Upside of Ether?  ethereum  \n",
       "2                                        i need help  ethereum  \n",
       "3  New to this... is now a good time to invest in...  ethereum  \n",
       "4                                    Should I stake?  ethereum  \n",
       "5  We took a tour around the dark forest to see h...  ethereum  \n",
       "6  More secretEther users needed! Privacy fans un...  ethereum  \n",
       "7                                  Max supply of ETH  ethereum  \n",
       "8                                  XRP right now lol  ethereum  \n",
       "9                                  Is this a bubble?  ethereum  "
      ]
     },
     "execution_count": 69,
     "metadata": {},
     "output_type": "execute_result"
    }
   ],
   "source": [
    "posts.head(10)"
   ]
  },
  {
   "cell_type": "markdown",
   "metadata": {},
   "source": [
    " - It's unclear to me if combining the 'selftext' and 'title' features into one 'text' column will introduce bias into my model because in my opinion language in titles and texts can be interpreted differently. For instance, titles tend to be more succinct and only use key terms whereas texts tend to have fleshed out ideas. In other words, it might be worth it to treat them as separate variables. For now, since I'm not familiar with Reddit ettiquete, I will combine them, and if my model doesn't perform wel, I will consider splitting them into their own features. "
   ]
  },
  {
   "cell_type": "code",
   "execution_count": 70,
   "metadata": {},
   "outputs": [
    {
     "name": "stderr",
     "output_type": "stream",
     "text": [
      "<ipython-input-70-90ca28aadefc>:1: SettingWithCopyWarning: \n",
      "A value is trying to be set on a copy of a slice from a DataFrame.\n",
      "Try using .loc[row_indexer,col_indexer] = value instead\n",
      "\n",
      "See the caveats in the documentation: https://pandas.pydata.org/pandas-docs/stable/user_guide/indexing.html#returning-a-view-versus-a-copy\n",
      "  posts['text'] = posts['selftext'] + posts['title']\n"
     ]
    }
   ],
   "source": [
    "posts['text'] = posts['selftext'] + posts['title']"
   ]
  },
  {
   "cell_type": "code",
   "execution_count": 71,
   "metadata": {},
   "outputs": [
    {
     "data": {
      "text/html": [
       "<div>\n",
       "<style scoped>\n",
       "    .dataframe tbody tr th:only-of-type {\n",
       "        vertical-align: middle;\n",
       "    }\n",
       "\n",
       "    .dataframe tbody tr th {\n",
       "        vertical-align: top;\n",
       "    }\n",
       "\n",
       "    .dataframe thead th {\n",
       "        text-align: right;\n",
       "    }\n",
       "</style>\n",
       "<table border=\"1\" class=\"dataframe\">\n",
       "  <thead>\n",
       "    <tr style=\"text-align: right;\">\n",
       "      <th></th>\n",
       "      <th>text</th>\n",
       "      <th>subreddit</th>\n",
       "    </tr>\n",
       "  </thead>\n",
       "  <tbody>\n",
       "    <tr>\n",
       "      <th>0</th>\n",
       "      <td>\\nhttps://www.coindesk.com/16-ethereum-predict...</td>\n",
       "      <td>ethereum</td>\n",
       "    </tr>\n",
       "    <tr>\n",
       "      <th>1</th>\n",
       "      <td>Alright so I’ve been on the ETH train for some...</td>\n",
       "      <td>ethereum</td>\n",
       "    </tr>\n",
       "    <tr>\n",
       "      <th>2</th>\n",
       "      <td>i tried almost a year and a half ago to get in...</td>\n",
       "      <td>ethereum</td>\n",
       "    </tr>\n",
       "    <tr>\n",
       "      <th>3</th>\n",
       "      <td>Hi guys, I am not very familiar with ethereum ...</td>\n",
       "      <td>ethereum</td>\n",
       "    </tr>\n",
       "    <tr>\n",
       "      <th>4</th>\n",
       "      <td>Hi everyone, I think this is the most suited s...</td>\n",
       "      <td>ethereum</td>\n",
       "    </tr>\n",
       "    <tr>\n",
       "      <th>5</th>\n",
       "      <td>Spoiler alert.. a lot.  \\nWe go frontrun on tr...</td>\n",
       "      <td>ethereum</td>\n",
       "    </tr>\n",
       "    <tr>\n",
       "      <th>6</th>\n",
       "      <td>So The Secret Network Ethereum bridge is live....</td>\n",
       "      <td>ethereum</td>\n",
       "    </tr>\n",
       "    <tr>\n",
       "      <th>7</th>\n",
       "      <td>Hi ethereum holders/investors/stakers etc.\\n\\n...</td>\n",
       "      <td>ethereum</td>\n",
       "    </tr>\n",
       "    <tr>\n",
       "      <th>8</th>\n",
       "      <td>\\nIf you’ve been keeping up with Ripple then y...</td>\n",
       "      <td>ethereum</td>\n",
       "    </tr>\n",
       "    <tr>\n",
       "      <th>9</th>\n",
       "      <td>I know the basics of crypto but I’m not the mo...</td>\n",
       "      <td>ethereum</td>\n",
       "    </tr>\n",
       "  </tbody>\n",
       "</table>\n",
       "</div>"
      ],
      "text/plain": [
       "                                                text subreddit\n",
       "0  \\nhttps://www.coindesk.com/16-ethereum-predict...  ethereum\n",
       "1  Alright so I’ve been on the ETH train for some...  ethereum\n",
       "2  i tried almost a year and a half ago to get in...  ethereum\n",
       "3  Hi guys, I am not very familiar with ethereum ...  ethereum\n",
       "4  Hi everyone, I think this is the most suited s...  ethereum\n",
       "5  Spoiler alert.. a lot.  \\nWe go frontrun on tr...  ethereum\n",
       "6  So The Secret Network Ethereum bridge is live....  ethereum\n",
       "7  Hi ethereum holders/investors/stakers etc.\\n\\n...  ethereum\n",
       "8  \\nIf you’ve been keeping up with Ripple then y...  ethereum\n",
       "9  I know the basics of crypto but I’m not the mo...  ethereum"
      ]
     },
     "execution_count": 71,
     "metadata": {},
     "output_type": "execute_result"
    }
   ],
   "source": [
    "posts[['text', 'subreddit']].head(10)"
   ]
  },
  {
   "cell_type": "code",
   "execution_count": 72,
   "metadata": {},
   "outputs": [
    {
     "data": {
      "text/plain": [
       "ethereum    5780\n",
       "Bitcoin     4852\n",
       "Name: subreddit, dtype: int64"
      ]
     },
     "execution_count": 72,
     "metadata": {},
     "output_type": "execute_result"
    }
   ],
   "source": [
    "# just want to check value counts \n",
    "posts['subreddit'].value_counts()"
   ]
  },
  {
   "cell_type": "markdown",
   "metadata": {},
   "source": [
    "- Scraping data for Ethereum was a pain. For some reason, there were a ton of Ethereum posts that were either deleted, removed, or empty. I had to run more loops and ended up pulling more data. Luckily the ratio above seems like a pretty even distribution of both posts for modeling purposes. "
   ]
  },
  {
   "cell_type": "markdown",
   "metadata": {},
   "source": [
    "- I want to turn the 'subreddit' variable into a dummy variable. "
   ]
  },
  {
   "cell_type": "code",
   "execution_count": 73,
   "metadata": {},
   "outputs": [
    {
     "data": {
      "text/plain": [
       "array(['ethereum', 'Bitcoin'], dtype=object)"
      ]
     },
     "execution_count": 73,
     "metadata": {},
     "output_type": "execute_result"
    }
   ],
   "source": [
    "posts['subreddit'].unique()"
   ]
  },
  {
   "cell_type": "code",
   "execution_count": 74,
   "metadata": {
    "scrolled": true
   },
   "outputs": [
    {
     "name": "stderr",
     "output_type": "stream",
     "text": [
      "<ipython-input-74-66468166377f>:1: SettingWithCopyWarning: \n",
      "A value is trying to be set on a copy of a slice from a DataFrame.\n",
      "Try using .loc[row_indexer,col_indexer] = value instead\n",
      "\n",
      "See the caveats in the documentation: https://pandas.pydata.org/pandas-docs/stable/user_guide/indexing.html#returning-a-view-versus-a-copy\n",
      "  posts['subreddit'] = posts['subreddit'].map({'Bitcoin': 0, 'ethereum':1})\n"
     ]
    },
    {
     "data": {
      "text/html": [
       "<div>\n",
       "<style scoped>\n",
       "    .dataframe tbody tr th:only-of-type {\n",
       "        vertical-align: middle;\n",
       "    }\n",
       "\n",
       "    .dataframe tbody tr th {\n",
       "        vertical-align: top;\n",
       "    }\n",
       "\n",
       "    .dataframe thead th {\n",
       "        text-align: right;\n",
       "    }\n",
       "</style>\n",
       "<table border=\"1\" class=\"dataframe\">\n",
       "  <thead>\n",
       "    <tr style=\"text-align: right;\">\n",
       "      <th></th>\n",
       "      <th>index</th>\n",
       "      <th>selftext</th>\n",
       "      <th>title</th>\n",
       "      <th>subreddit</th>\n",
       "      <th>text</th>\n",
       "    </tr>\n",
       "  </thead>\n",
       "  <tbody>\n",
       "    <tr>\n",
       "      <th>0</th>\n",
       "      <td>1</td>\n",
       "      <td>\\nhttps://www.coindesk.com/16-ethereum-predict...</td>\n",
       "      <td>16 Ethereum Predictions From a Crypto Oracle</td>\n",
       "      <td>1</td>\n",
       "      <td>\\nhttps://www.coindesk.com/16-ethereum-predict...</td>\n",
       "    </tr>\n",
       "    <tr>\n",
       "      <th>1</th>\n",
       "      <td>8</td>\n",
       "      <td>Alright so I’ve been on the ETH train for some...</td>\n",
       "      <td>Upside of Ether?</td>\n",
       "      <td>1</td>\n",
       "      <td>Alright so I’ve been on the ETH train for some...</td>\n",
       "    </tr>\n",
       "    <tr>\n",
       "      <th>2</th>\n",
       "      <td>15</td>\n",
       "      <td>i tried almost a year and a half ago to get in...</td>\n",
       "      <td>i need help</td>\n",
       "      <td>1</td>\n",
       "      <td>i tried almost a year and a half ago to get in...</td>\n",
       "    </tr>\n",
       "    <tr>\n",
       "      <th>3</th>\n",
       "      <td>16</td>\n",
       "      <td>Hi guys, I am not very familiar with ethereum ...</td>\n",
       "      <td>New to this... is now a good time to invest in...</td>\n",
       "      <td>1</td>\n",
       "      <td>Hi guys, I am not very familiar with ethereum ...</td>\n",
       "    </tr>\n",
       "    <tr>\n",
       "      <th>4</th>\n",
       "      <td>21</td>\n",
       "      <td>Hi everyone, I think this is the most suited s...</td>\n",
       "      <td>Should I stake?</td>\n",
       "      <td>1</td>\n",
       "      <td>Hi everyone, I think this is the most suited s...</td>\n",
       "    </tr>\n",
       "  </tbody>\n",
       "</table>\n",
       "</div>"
      ],
      "text/plain": [
       "   index                                           selftext  \\\n",
       "0      1  \\nhttps://www.coindesk.com/16-ethereum-predict...   \n",
       "1      8  Alright so I’ve been on the ETH train for some...   \n",
       "2     15  i tried almost a year and a half ago to get in...   \n",
       "3     16  Hi guys, I am not very familiar with ethereum ...   \n",
       "4     21  Hi everyone, I think this is the most suited s...   \n",
       "\n",
       "                                               title  subreddit  \\\n",
       "0       16 Ethereum Predictions From a Crypto Oracle          1   \n",
       "1                                   Upside of Ether?          1   \n",
       "2                                        i need help          1   \n",
       "3  New to this... is now a good time to invest in...          1   \n",
       "4                                    Should I stake?          1   \n",
       "\n",
       "                                                text  \n",
       "0  \\nhttps://www.coindesk.com/16-ethereum-predict...  \n",
       "1  Alright so I’ve been on the ETH train for some...  \n",
       "2  i tried almost a year and a half ago to get in...  \n",
       "3  Hi guys, I am not very familiar with ethereum ...  \n",
       "4  Hi everyone, I think this is the most suited s...  "
      ]
     },
     "execution_count": 74,
     "metadata": {},
     "output_type": "execute_result"
    }
   ],
   "source": [
    "posts['subreddit'] = posts['subreddit'].map({'Bitcoin': 0, 'ethereum':1})\n",
    "posts.head()"
   ]
  },
  {
   "cell_type": "markdown",
   "metadata": {},
   "source": [
    "- There is a lot of cleaning to do. \n",
    "- First let's take out the special characters and symbols. \n"
   ]
  },
  {
   "cell_type": "code",
   "execution_count": 75,
   "metadata": {},
   "outputs": [
    {
     "name": "stderr",
     "output_type": "stream",
     "text": [
      "<ipython-input-75-5473c8e30834>:7: SettingWithCopyWarning: \n",
      "A value is trying to be set on a copy of a slice from a DataFrame.\n",
      "Try using .loc[row_indexer,col_indexer] = value instead\n",
      "\n",
      "See the caveats in the documentation: https://pandas.pydata.org/pandas-docs/stable/user_guide/indexing.html#returning-a-view-versus-a-copy\n",
      "  posts['text'] = posts['text'].str.replace('[^\\w\\s]', '') # for punctuation\n"
     ]
    }
   ],
   "source": [
    "# This code adapted from this https://stackoverflow.com/questions/47423854/sklearn-adding-lemmatizer-to-countvectorizer\n",
    "# the purpose of it is to remove digits, words, and punctuation \n",
    "# in order to lemmatize my text variable within CountVectorizer \n",
    "\n",
    "#posts['text'] = posts['text'].str.replace('\\d+', '') # for digits\n",
    "#posts['text'] = posts['text'].str.replace(r'(\\b\\w{1,2}\\b)', '') # for words\n",
    "posts['text'] = posts['text'].str.replace('[^\\w\\s]', '') # for punctuation "
   ]
  },
  {
   "cell_type": "markdown",
   "metadata": {},
   "source": [
    "   The crypto-community is an extremely vibrant and typically young group of people. One of its characteristics is embracing the speculative \"wild west\" nature of the space which sometimes involves using sarcastic, dramatic, and even spiteful language and therefore a bunch of mispelled words, made-up words, and oftentimes ALL CAPS. \n",
    "   \n",
    "   An area of interest that I would like to explore during this project is a sentiment analysis of subreddits within the Bitcoin and Ethereum communities. Each community has distinct characteristics, akin to different nation-states. Some distinctions are rooted in possessing different schools of ecomomic thought. For example, Bitcoin maxis would attest that Bitcoin is a more pure form of Austrian economics than Ethereum, which makes Bitcoin a more superior decentralized medium of exchange. In this regard, I think it would be interesting to investigate the community's differences using subreddit posts.\n",
    "   \n",
    "   Even further, there are several communities within the Ethereum community. A simple positive/negative sentiment analysis on subreddit posts of these communities with respect to the overall Bitcoin and Ethereum communities could shed light on trading and/or investing advantages.```\n",
    "  "
   ]
  },
  {
   "cell_type": "markdown",
   "metadata": {},
   "source": [
    "- Even though interpreting a characters case might shed light on the sentiment of the text, for this model's purposes, I want to lower all the characters cases. "
   ]
  },
  {
   "cell_type": "code",
   "execution_count": 76,
   "metadata": {},
   "outputs": [
    {
     "name": "stderr",
     "output_type": "stream",
     "text": [
      "<ipython-input-76-6e19ad461dcf>:2: SettingWithCopyWarning: \n",
      "A value is trying to be set on a copy of a slice from a DataFrame.\n",
      "Try using .loc[row_indexer,col_indexer] = value instead\n",
      "\n",
      "See the caveats in the documentation: https://pandas.pydata.org/pandas-docs/stable/user_guide/indexing.html#returning-a-view-versus-a-copy\n",
      "  posts['text'] = [i.lower() for i in posts['text']]\n"
     ]
    }
   ],
   "source": [
    "# lowercase all text\n",
    "posts['text'] = [i.lower() for i in posts['text']]"
   ]
  },
  {
   "cell_type": "markdown",
   "metadata": {},
   "source": [
    "- I also want a status length column that counts all of the texts characters (including white spaces). I will be able to observe texts that are outliers ie texts that might reuse the same words an unusual amount of time that could potentially skew my model's performance. "
   ]
  },
  {
   "cell_type": "code",
   "execution_count": 77,
   "metadata": {},
   "outputs": [
    {
     "name": "stderr",
     "output_type": "stream",
     "text": [
      "<ipython-input-77-f83c8d6a8312>:2: SettingWithCopyWarning: \n",
      "A value is trying to be set on a copy of a slice from a DataFrame.\n",
      "Try using .loc[row_indexer,col_indexer] = value instead\n",
      "\n",
      "See the caveats in the documentation: https://pandas.pydata.org/pandas-docs/stable/user_guide/indexing.html#returning-a-view-versus-a-copy\n",
      "  posts['status_length']  =  [len(posts['text'][i]) for i in range(len(posts['text']))]\n"
     ]
    },
    {
     "data": {
      "text/html": [
       "<div>\n",
       "<style scoped>\n",
       "    .dataframe tbody tr th:only-of-type {\n",
       "        vertical-align: middle;\n",
       "    }\n",
       "\n",
       "    .dataframe tbody tr th {\n",
       "        vertical-align: top;\n",
       "    }\n",
       "\n",
       "    .dataframe thead th {\n",
       "        text-align: right;\n",
       "    }\n",
       "</style>\n",
       "<table border=\"1\" class=\"dataframe\">\n",
       "  <thead>\n",
       "    <tr style=\"text-align: right;\">\n",
       "      <th></th>\n",
       "      <th>index</th>\n",
       "      <th>selftext</th>\n",
       "      <th>title</th>\n",
       "      <th>subreddit</th>\n",
       "      <th>text</th>\n",
       "      <th>status_length</th>\n",
       "    </tr>\n",
       "  </thead>\n",
       "  <tbody>\n",
       "    <tr>\n",
       "      <th>0</th>\n",
       "      <td>1</td>\n",
       "      <td>\\nhttps://www.coindesk.com/16-ethereum-predict...</td>\n",
       "      <td>16 Ethereum Predictions From a Crypto Oracle</td>\n",
       "      <td>1</td>\n",
       "      <td>\\nhttpswwwcoindeskcom16ethereumpredictionscryp...</td>\n",
       "      <td>97</td>\n",
       "    </tr>\n",
       "    <tr>\n",
       "      <th>1</th>\n",
       "      <td>8</td>\n",
       "      <td>Alright so I’ve been on the ETH train for some...</td>\n",
       "      <td>Upside of Ether?</td>\n",
       "      <td>1</td>\n",
       "      <td>alright so ive been on the eth train for some ...</td>\n",
       "      <td>705</td>\n",
       "    </tr>\n",
       "    <tr>\n",
       "      <th>2</th>\n",
       "      <td>15</td>\n",
       "      <td>i tried almost a year and a half ago to get in...</td>\n",
       "      <td>i need help</td>\n",
       "      <td>1</td>\n",
       "      <td>i tried almost a year and a half ago to get in...</td>\n",
       "      <td>816</td>\n",
       "    </tr>\n",
       "    <tr>\n",
       "      <th>3</th>\n",
       "      <td>16</td>\n",
       "      <td>Hi guys, I am not very familiar with ethereum ...</td>\n",
       "      <td>New to this... is now a good time to invest in...</td>\n",
       "      <td>1</td>\n",
       "      <td>hi guys i am not very familiar with ethereum b...</td>\n",
       "      <td>390</td>\n",
       "    </tr>\n",
       "    <tr>\n",
       "      <th>4</th>\n",
       "      <td>21</td>\n",
       "      <td>Hi everyone, I think this is the most suited s...</td>\n",
       "      <td>Should I stake?</td>\n",
       "      <td>1</td>\n",
       "      <td>hi everyone i think this is the most suited su...</td>\n",
       "      <td>662</td>\n",
       "    </tr>\n",
       "  </tbody>\n",
       "</table>\n",
       "</div>"
      ],
      "text/plain": [
       "   index                                           selftext  \\\n",
       "0      1  \\nhttps://www.coindesk.com/16-ethereum-predict...   \n",
       "1      8  Alright so I’ve been on the ETH train for some...   \n",
       "2     15  i tried almost a year and a half ago to get in...   \n",
       "3     16  Hi guys, I am not very familiar with ethereum ...   \n",
       "4     21  Hi everyone, I think this is the most suited s...   \n",
       "\n",
       "                                               title  subreddit  \\\n",
       "0       16 Ethereum Predictions From a Crypto Oracle          1   \n",
       "1                                   Upside of Ether?          1   \n",
       "2                                        i need help          1   \n",
       "3  New to this... is now a good time to invest in...          1   \n",
       "4                                    Should I stake?          1   \n",
       "\n",
       "                                                text  status_length  \n",
       "0  \\nhttpswwwcoindeskcom16ethereumpredictionscryp...             97  \n",
       "1  alright so ive been on the eth train for some ...            705  \n",
       "2  i tried almost a year and a half ago to get in...            816  \n",
       "3  hi guys i am not very familiar with ethereum b...            390  \n",
       "4  hi everyone i think this is the most suited su...            662  "
      ]
     },
     "execution_count": 77,
     "metadata": {},
     "output_type": "execute_result"
    }
   ],
   "source": [
    "# create column with status lengths\n",
    "posts['status_length']  =  [len(posts['text'][i]) for i in range(len(posts['text']))]\n",
    "posts.head()"
   ]
  },
  {
   "cell_type": "markdown",
   "metadata": {},
   "source": [
    "- Same goes for word counts! "
   ]
  },
  {
   "cell_type": "code",
   "execution_count": 79,
   "metadata": {},
   "outputs": [
    {
     "name": "stderr",
     "output_type": "stream",
     "text": [
      "<ipython-input-79-ff003d58b6e9>:2: SettingWithCopyWarning: \n",
      "A value is trying to be set on a copy of a slice from a DataFrame.\n",
      "Try using .loc[row_indexer,col_indexer] = value instead\n",
      "\n",
      "See the caveats in the documentation: https://pandas.pydata.org/pandas-docs/stable/user_guide/indexing.html#returning-a-view-versus-a-copy\n",
      "  posts['word_count'] = [len(posts['text'][i].split()) for i in range(len(posts['text']))]\n"
     ]
    },
    {
     "data": {
      "text/plain": [
       "0      7\n",
       "1    142\n",
       "2    156\n",
       "3     76\n",
       "4    129\n",
       "Name: word_count, dtype: int64"
      ]
     },
     "execution_count": 79,
     "metadata": {},
     "output_type": "execute_result"
    }
   ],
   "source": [
    "# create column with word counts\n",
    "posts['word_count'] = [len(posts['text'][i].split()) for i in range(len(posts['text']))]\n",
    "posts['word_count'].head()"
   ]
  },
  {
   "cell_type": "code",
   "execution_count": 80,
   "metadata": {
    "scrolled": false
   },
   "outputs": [
    {
     "data": {
      "text/html": [
       "<div>\n",
       "<style scoped>\n",
       "    .dataframe tbody tr th:only-of-type {\n",
       "        vertical-align: middle;\n",
       "    }\n",
       "\n",
       "    .dataframe tbody tr th {\n",
       "        vertical-align: top;\n",
       "    }\n",
       "\n",
       "    .dataframe thead th {\n",
       "        text-align: right;\n",
       "    }\n",
       "</style>\n",
       "<table border=\"1\" class=\"dataframe\">\n",
       "  <thead>\n",
       "    <tr style=\"text-align: right;\">\n",
       "      <th></th>\n",
       "      <th>index</th>\n",
       "      <th>selftext</th>\n",
       "      <th>title</th>\n",
       "      <th>subreddit</th>\n",
       "      <th>text</th>\n",
       "      <th>status_length</th>\n",
       "      <th>word_count</th>\n",
       "    </tr>\n",
       "  </thead>\n",
       "  <tbody>\n",
       "    <tr>\n",
       "      <th>0</th>\n",
       "      <td>1</td>\n",
       "      <td>\\nhttps://www.coindesk.com/16-ethereum-predict...</td>\n",
       "      <td>16 Ethereum Predictions From a Crypto Oracle</td>\n",
       "      <td>1</td>\n",
       "      <td>\\nhttpswwwcoindeskcom16ethereumpredictionscryp...</td>\n",
       "      <td>97</td>\n",
       "      <td>7</td>\n",
       "    </tr>\n",
       "    <tr>\n",
       "      <th>1</th>\n",
       "      <td>8</td>\n",
       "      <td>Alright so I’ve been on the ETH train for some...</td>\n",
       "      <td>Upside of Ether?</td>\n",
       "      <td>1</td>\n",
       "      <td>alright so ive been on the eth train for some ...</td>\n",
       "      <td>705</td>\n",
       "      <td>142</td>\n",
       "    </tr>\n",
       "    <tr>\n",
       "      <th>2</th>\n",
       "      <td>15</td>\n",
       "      <td>i tried almost a year and a half ago to get in...</td>\n",
       "      <td>i need help</td>\n",
       "      <td>1</td>\n",
       "      <td>i tried almost a year and a half ago to get in...</td>\n",
       "      <td>816</td>\n",
       "      <td>156</td>\n",
       "    </tr>\n",
       "    <tr>\n",
       "      <th>3</th>\n",
       "      <td>16</td>\n",
       "      <td>Hi guys, I am not very familiar with ethereum ...</td>\n",
       "      <td>New to this... is now a good time to invest in...</td>\n",
       "      <td>1</td>\n",
       "      <td>hi guys i am not very familiar with ethereum b...</td>\n",
       "      <td>390</td>\n",
       "      <td>76</td>\n",
       "    </tr>\n",
       "    <tr>\n",
       "      <th>4</th>\n",
       "      <td>21</td>\n",
       "      <td>Hi everyone, I think this is the most suited s...</td>\n",
       "      <td>Should I stake?</td>\n",
       "      <td>1</td>\n",
       "      <td>hi everyone i think this is the most suited su...</td>\n",
       "      <td>662</td>\n",
       "      <td>129</td>\n",
       "    </tr>\n",
       "    <tr>\n",
       "      <th>5</th>\n",
       "      <td>23</td>\n",
       "      <td>Spoiler alert.. a lot.  \\nWe go frontrun on tr...</td>\n",
       "      <td>We took a tour around the dark forest to see h...</td>\n",
       "      <td>1</td>\n",
       "      <td>spoiler alert a lot  \\nwe go frontrun on trans...</td>\n",
       "      <td>396</td>\n",
       "      <td>46</td>\n",
       "    </tr>\n",
       "    <tr>\n",
       "      <th>6</th>\n",
       "      <td>24</td>\n",
       "      <td>So The Secret Network Ethereum bridge is live....</td>\n",
       "      <td>More secretEther users needed! Privacy fans un...</td>\n",
       "      <td>1</td>\n",
       "      <td>so the secret network ethereum bridge is live ...</td>\n",
       "      <td>874</td>\n",
       "      <td>124</td>\n",
       "    </tr>\n",
       "    <tr>\n",
       "      <th>7</th>\n",
       "      <td>29</td>\n",
       "      <td>Hi ethereum holders/investors/stakers etc.\\n\\n...</td>\n",
       "      <td>Max supply of ETH</td>\n",
       "      <td>1</td>\n",
       "      <td>hi ethereum holdersinvestorsstakers etc\\n\\nis ...</td>\n",
       "      <td>142</td>\n",
       "      <td>27</td>\n",
       "    </tr>\n",
       "    <tr>\n",
       "      <th>8</th>\n",
       "      <td>33</td>\n",
       "      <td>\\nIf you’ve been keeping up with Ripple then y...</td>\n",
       "      <td>XRP right now lol</td>\n",
       "      <td>1</td>\n",
       "      <td>\\nif youve been keeping up with ripple then yo...</td>\n",
       "      <td>272</td>\n",
       "      <td>42</td>\n",
       "    </tr>\n",
       "    <tr>\n",
       "      <th>9</th>\n",
       "      <td>35</td>\n",
       "      <td>I know the basics of crypto but I’m not the mo...</td>\n",
       "      <td>Is this a bubble?</td>\n",
       "      <td>1</td>\n",
       "      <td>i know the basics of crypto but im not the mos...</td>\n",
       "      <td>539</td>\n",
       "      <td>105</td>\n",
       "    </tr>\n",
       "  </tbody>\n",
       "</table>\n",
       "</div>"
      ],
      "text/plain": [
       "   index                                           selftext  \\\n",
       "0      1  \\nhttps://www.coindesk.com/16-ethereum-predict...   \n",
       "1      8  Alright so I’ve been on the ETH train for some...   \n",
       "2     15  i tried almost a year and a half ago to get in...   \n",
       "3     16  Hi guys, I am not very familiar with ethereum ...   \n",
       "4     21  Hi everyone, I think this is the most suited s...   \n",
       "5     23  Spoiler alert.. a lot.  \\nWe go frontrun on tr...   \n",
       "6     24  So The Secret Network Ethereum bridge is live....   \n",
       "7     29  Hi ethereum holders/investors/stakers etc.\\n\\n...   \n",
       "8     33  \\nIf you’ve been keeping up with Ripple then y...   \n",
       "9     35  I know the basics of crypto but I’m not the mo...   \n",
       "\n",
       "                                               title  subreddit  \\\n",
       "0       16 Ethereum Predictions From a Crypto Oracle          1   \n",
       "1                                   Upside of Ether?          1   \n",
       "2                                        i need help          1   \n",
       "3  New to this... is now a good time to invest in...          1   \n",
       "4                                    Should I stake?          1   \n",
       "5  We took a tour around the dark forest to see h...          1   \n",
       "6  More secretEther users needed! Privacy fans un...          1   \n",
       "7                                  Max supply of ETH          1   \n",
       "8                                  XRP right now lol          1   \n",
       "9                                  Is this a bubble?          1   \n",
       "\n",
       "                                                text  status_length  \\\n",
       "0  \\nhttpswwwcoindeskcom16ethereumpredictionscryp...             97   \n",
       "1  alright so ive been on the eth train for some ...            705   \n",
       "2  i tried almost a year and a half ago to get in...            816   \n",
       "3  hi guys i am not very familiar with ethereum b...            390   \n",
       "4  hi everyone i think this is the most suited su...            662   \n",
       "5  spoiler alert a lot  \\nwe go frontrun on trans...            396   \n",
       "6  so the secret network ethereum bridge is live ...            874   \n",
       "7  hi ethereum holdersinvestorsstakers etc\\n\\nis ...            142   \n",
       "8  \\nif youve been keeping up with ripple then yo...            272   \n",
       "9  i know the basics of crypto but im not the mos...            539   \n",
       "\n",
       "   word_count  \n",
       "0           7  \n",
       "1         142  \n",
       "2         156  \n",
       "3          76  \n",
       "4         129  \n",
       "5          46  \n",
       "6         124  \n",
       "7          27  \n",
       "8          42  \n",
       "9         105  "
      ]
     },
     "execution_count": 80,
     "metadata": {},
     "output_type": "execute_result"
    }
   ],
   "source": [
    "posts.head(10)"
   ]
  },
  {
   "cell_type": "markdown",
   "metadata": {},
   "source": [
    "- now that I have created a column of word counts and text lengths, I want to observe the distributions of each column and remove the outliers of those features. "
   ]
  },
  {
   "cell_type": "code",
   "execution_count": 81,
   "metadata": {},
   "outputs": [
    {
     "data": {
      "image/png": "[encoded data removed]",
      "text/plain": [
       "<Figure size 432x288 with 1 Axes>"
      ]
     },
     "metadata": {
      "needs_background": "light"
     },
     "output_type": "display_data"
    }
   ],
   "source": [
    "plt.scatter(posts['status_length'], posts['word_count']);"
   ]
  },
  {
   "cell_type": "code",
   "execution_count": 82,
   "metadata": {},
   "outputs": [
    {
     "name": "stdout",
     "output_type": "stream",
     "text": [
      "105.71047639999999\n"
     ]
    },
    {
     "data": {
      "image/png": "[encoded data removed]",
      "text/plain": [
       "<Figure size 432x288 with 1 Axes>"
      ]
     },
     "metadata": {
      "needs_background": "light"
     },
     "output_type": "display_data"
    }
   ],
   "source": [
    "sample_means = []\n",
    "for i in range(10000):\n",
    "    s = np.random.choice(posts['word_count'], size = 500, replace = False) \n",
    "    x_bar = s.mean()\n",
    "    sample_means.append(x_bar)\n",
    "\n",
    "sns.histplot(sample_means)\n",
    "plt.axvline(np.mean(sample_means), color = 'r');\n",
    "print(np.mean(sample_means))"
   ]
  },
  {
   "cell_type": "markdown",
   "metadata": {},
   "source": [
    "- The above distribution is a random sampling from the word_count column. \n",
    "- We can observe an even distribution around the sample mean of 81 words. We should get rid of outliers ie rows that have word counts that exceed 3 standard deviations from the mean. \n",
    "- Below is a box plot of our distribution. As we can see, there is a lot of data that falls outside the 75% quartile. \n"
   ]
  },
  {
   "cell_type": "code",
   "execution_count": 83,
   "metadata": {},
   "outputs": [
    {
     "name": "stderr",
     "output_type": "stream",
     "text": [
      "C:\\Users\\tsuts\\anaconda3\\lib\\site-packages\\seaborn\\_decorators.py:36: FutureWarning: Pass the following variable as a keyword arg: x. From version 0.12, the only valid positional argument will be `data`, and passing other arguments without an explicit keyword will result in an error or misinterpretation.\n",
      "  warnings.warn(\n"
     ]
    },
    {
     "data": {
      "image/png": "[encoded data removed]",
      "text/plain": [
       "<Figure size 432x288 with 1 Axes>"
      ]
     },
     "metadata": {
      "needs_background": "light"
     },
     "output_type": "display_data"
    }
   ],
   "source": [
    "sns.boxplot(posts['word_count']);"
   ]
  },
  {
   "cell_type": "markdown",
   "metadata": {},
   "source": [
    "- But before cleaning for outliers, let's also take a look at a distribution of status length. "
   ]
  },
  {
   "cell_type": "code",
   "execution_count": 84,
   "metadata": {},
   "outputs": [
    {
     "name": "stdout",
     "output_type": "stream",
     "text": [
      "661.4169868\n"
     ]
    },
    {
     "data": {
      "image/png": "[encoded data removed]",
      "text/plain": [
       "<Figure size 432x288 with 1 Axes>"
      ]
     },
     "metadata": {
      "needs_background": "light"
     },
     "output_type": "display_data"
    }
   ],
   "source": [
    "sample_means = []\n",
    "for i in range(10000):\n",
    "    s = np.random.choice(posts['status_length'], size = 500, replace = False) \n",
    "    x_bar = s.mean()\n",
    "    sample_means.append(x_bar)\n",
    "\n",
    "sns.histplot(sample_means)\n",
    "plt.axvline(np.mean(sample_means), color = 'r');\n",
    "print(np.mean(sample_means))"
   ]
  },
  {
   "cell_type": "code",
   "execution_count": 85,
   "metadata": {},
   "outputs": [
    {
     "name": "stderr",
     "output_type": "stream",
     "text": [
      "C:\\Users\\tsuts\\anaconda3\\lib\\site-packages\\seaborn\\_decorators.py:36: FutureWarning: Pass the following variable as a keyword arg: x. From version 0.12, the only valid positional argument will be `data`, and passing other arguments without an explicit keyword will result in an error or misinterpretation.\n",
      "  warnings.warn(\n"
     ]
    },
    {
     "data": {
      "image/png": "[encoded data removed]",
      "text/plain": [
       "<Figure size 432x288 with 1 Axes>"
      ]
     },
     "metadata": {
      "needs_background": "light"
     },
     "output_type": "display_data"
    }
   ],
   "source": [
    "sns.boxplot(posts['status_length']);"
   ]
  },
  {
   "cell_type": "markdown",
   "metadata": {},
   "source": [
    "### Now let's get rid of the data that fall more than 3 standard deviations away. \n"
   ]
  },
  {
   "cell_type": "code",
   "execution_count": 86,
   "metadata": {},
   "outputs": [],
   "source": [
    "#posts.reset_index(inplace=True)"
   ]
  },
  {
   "cell_type": "code",
   "execution_count": 87,
   "metadata": {},
   "outputs": [
    {
     "data": {
      "text/html": [
       "<div>\n",
       "<style scoped>\n",
       "    .dataframe tbody tr th:only-of-type {\n",
       "        vertical-align: middle;\n",
       "    }\n",
       "\n",
       "    .dataframe tbody tr th {\n",
       "        vertical-align: top;\n",
       "    }\n",
       "\n",
       "    .dataframe thead th {\n",
       "        text-align: right;\n",
       "    }\n",
       "</style>\n",
       "<table border=\"1\" class=\"dataframe\">\n",
       "  <thead>\n",
       "    <tr style=\"text-align: right;\">\n",
       "      <th></th>\n",
       "      <th>index</th>\n",
       "      <th>selftext</th>\n",
       "      <th>title</th>\n",
       "      <th>subreddit</th>\n",
       "      <th>text</th>\n",
       "      <th>status_length</th>\n",
       "      <th>word_count</th>\n",
       "    </tr>\n",
       "  </thead>\n",
       "  <tbody>\n",
       "    <tr>\n",
       "      <th>0</th>\n",
       "      <td>1</td>\n",
       "      <td>\\nhttps://www.coindesk.com/16-ethereum-predict...</td>\n",
       "      <td>16 Ethereum Predictions From a Crypto Oracle</td>\n",
       "      <td>1</td>\n",
       "      <td>\\nhttpswwwcoindeskcom16ethereumpredictionscryp...</td>\n",
       "      <td>97</td>\n",
       "      <td>7</td>\n",
       "    </tr>\n",
       "    <tr>\n",
       "      <th>1</th>\n",
       "      <td>8</td>\n",
       "      <td>Alright so I’ve been on the ETH train for some...</td>\n",
       "      <td>Upside of Ether?</td>\n",
       "      <td>1</td>\n",
       "      <td>alright so ive been on the eth train for some ...</td>\n",
       "      <td>705</td>\n",
       "      <td>142</td>\n",
       "    </tr>\n",
       "    <tr>\n",
       "      <th>2</th>\n",
       "      <td>15</td>\n",
       "      <td>i tried almost a year and a half ago to get in...</td>\n",
       "      <td>i need help</td>\n",
       "      <td>1</td>\n",
       "      <td>i tried almost a year and a half ago to get in...</td>\n",
       "      <td>816</td>\n",
       "      <td>156</td>\n",
       "    </tr>\n",
       "    <tr>\n",
       "      <th>3</th>\n",
       "      <td>16</td>\n",
       "      <td>Hi guys, I am not very familiar with ethereum ...</td>\n",
       "      <td>New to this... is now a good time to invest in...</td>\n",
       "      <td>1</td>\n",
       "      <td>hi guys i am not very familiar with ethereum b...</td>\n",
       "      <td>390</td>\n",
       "      <td>76</td>\n",
       "    </tr>\n",
       "    <tr>\n",
       "      <th>4</th>\n",
       "      <td>21</td>\n",
       "      <td>Hi everyone, I think this is the most suited s...</td>\n",
       "      <td>Should I stake?</td>\n",
       "      <td>1</td>\n",
       "      <td>hi everyone i think this is the most suited su...</td>\n",
       "      <td>662</td>\n",
       "      <td>129</td>\n",
       "    </tr>\n",
       "  </tbody>\n",
       "</table>\n",
       "</div>"
      ],
      "text/plain": [
       "   index                                           selftext  \\\n",
       "0      1  \\nhttps://www.coindesk.com/16-ethereum-predict...   \n",
       "1      8  Alright so I’ve been on the ETH train for some...   \n",
       "2     15  i tried almost a year and a half ago to get in...   \n",
       "3     16  Hi guys, I am not very familiar with ethereum ...   \n",
       "4     21  Hi everyone, I think this is the most suited s...   \n",
       "\n",
       "                                               title  subreddit  \\\n",
       "0       16 Ethereum Predictions From a Crypto Oracle          1   \n",
       "1                                   Upside of Ether?          1   \n",
       "2                                        i need help          1   \n",
       "3  New to this... is now a good time to invest in...          1   \n",
       "4                                    Should I stake?          1   \n",
       "\n",
       "                                                text  status_length  \\\n",
       "0  \\nhttpswwwcoindeskcom16ethereumpredictionscryp...             97   \n",
       "1  alright so ive been on the eth train for some ...            705   \n",
       "2  i tried almost a year and a half ago to get in...            816   \n",
       "3  hi guys i am not very familiar with ethereum b...            390   \n",
       "4  hi everyone i think this is the most suited su...            662   \n",
       "\n",
       "   word_count  \n",
       "0           7  \n",
       "1         142  \n",
       "2         156  \n",
       "3          76  \n",
       "4         129  "
      ]
     },
     "execution_count": 87,
     "metadata": {},
     "output_type": "execute_result"
    }
   ],
   "source": [
    "posts.head()"
   ]
  },
  {
   "cell_type": "code",
   "execution_count": 88,
   "metadata": {},
   "outputs": [
    {
     "name": "stdout",
     "output_type": "stream",
     "text": [
      "[0.51284354 0.18854494 0.26128153 ... 0.21670173 0.1699425  0.24049965]\n"
     ]
    }
   ],
   "source": [
    "# z-scores\n",
    "z = np.abs(stats.zscore(posts['word_count']))\n",
    "print(z)"
   ]
  },
  {
   "cell_type": "code",
   "execution_count": 89,
   "metadata": {
    "scrolled": true
   },
   "outputs": [
    {
     "data": {
      "text/plain": [
       "[(array([  263,   304,   305,   529,   584,   629,   666,   734,   834,\n",
       "           861,   867,   873,   878,   886,   887,   941,   945,   963,\n",
       "          1010,  1076,  1229,  1423,  1485,  1587,  1619,  1634,  1740,\n",
       "          1742,  1800,  2052,  2064,  2103,  2131,  2177,  2278,  2310,\n",
       "          2325,  2330,  2372,  2374,  2430,  2465,  2471,  2483,  2488,\n",
       "          2529,  2534,  2645,  2665,  2671,  2698,  2712,  2719,  2745,\n",
       "          2748,  2756,  2757,  2768,  2787,  2833,  2855,  2876,  2893,\n",
       "          2899,  2999,  3055,  3060,  3176,  3227,  3284,  3338,  3368,\n",
       "          3373,  3383,  3426,  3433,  3444,  3464,  3602,  3605,  3621,\n",
       "          3656,  3804,  3811,  3843,  3869,  3905,  3927,  3946,  3997,\n",
       "          4000,  4003,  4060,  4066,  4069,  4084,  4105,  4107,  4122,\n",
       "          4129,  4135,  4148,  4155,  4170,  4202,  4206,  4208,  4268,\n",
       "          4303,  4362,  4378,  4423,  4444,  4488,  4507,  4572,  4579,\n",
       "          4580,  4582,  4589,  4617,  4620,  4640,  4643,  4721,  4782,\n",
       "          4818,  4835,  4907,  4918,  5169,  5171,  5244,  5344,  5359,\n",
       "          5398,  5461,  5462,  5508,  5551,  5602,  5720,  5750,  5774,\n",
       "          6056,  6094,  6214,  6236,  6845,  7014,  7018,  7033,  7068,\n",
       "          7169,  7274,  7293,  7346,  7761,  7950,  8236,  8307,  8364,\n",
       "          8464,  8536,  8704,  9351,  9388,  9424,  9659,  9673,  9795,\n",
       "          9897,  9922, 10251, 10618], dtype=int64),)]"
      ]
     },
     "execution_count": 89,
     "metadata": {},
     "output_type": "execute_result"
    }
   ],
   "source": [
    "# create list of z_scores whose values are greater than 3\n",
    "outliers = [] \n",
    "outliers.append(np.where(z>3))\n",
    "outliers"
   ]
  },
  {
   "cell_type": "code",
   "execution_count": 90,
   "metadata": {},
   "outputs": [
    {
     "data": {
      "text/plain": [
       "range(0, 175)"
      ]
     },
     "execution_count": 90,
     "metadata": {},
     "output_type": "execute_result"
    }
   ],
   "source": [
    "# how many 'word_count' outliers\n",
    "range(len(outliers[0][0])) "
   ]
  },
  {
   "cell_type": "code",
   "execution_count": 91,
   "metadata": {},
   "outputs": [
    {
     "data": {
      "text/plain": [
       "926"
      ]
     },
     "execution_count": 91,
     "metadata": {},
     "output_type": "execute_result"
    }
   ],
   "source": [
    "# example outliers\n",
    "posts['word_count'][263]"
   ]
  },
  {
   "cell_type": "code",
   "execution_count": 92,
   "metadata": {},
   "outputs": [
    {
     "data": {
      "text/plain": [
       "[926, 825, 825, 1204, 724, 1902, 1267, 2046, 2439, 3406]"
      ]
     },
     "execution_count": 92,
     "metadata": {},
     "output_type": "execute_result"
    }
   ],
   "source": [
    "# create list of all outlier values for word_count\n",
    "outliers_list = []\n",
    "for index in (outliers[0][0]):\n",
    "    #print(index)\n",
    "    outliers_list.append(posts['word_count'][index])\n",
    "outliers_list[0:10]"
   ]
  },
  {
   "cell_type": "markdown",
   "metadata": {},
   "source": [
    "- we want to get rid of all the values from this list "
   ]
  },
  {
   "cell_type": "code",
   "execution_count": 93,
   "metadata": {},
   "outputs": [],
   "source": [
    "# filter for outliers for word count because we want to take words out first \n",
    "\n",
    "posts = posts[(np.abs(stats.zscore(posts['word_count'])) < 3)]\n",
    "posts = posts[(np.abs(stats.zscore(posts['status_length'])) < 3)]\n"
   ]
  },
  {
   "cell_type": "code",
   "execution_count": 94,
   "metadata": {
    "scrolled": true
   },
   "outputs": [
    {
     "name": "stderr",
     "output_type": "stream",
     "text": [
      "C:\\Users\\tsuts\\anaconda3\\lib\\site-packages\\seaborn\\_decorators.py:36: FutureWarning: Pass the following variable as a keyword arg: x. From version 0.12, the only valid positional argument will be `data`, and passing other arguments without an explicit keyword will result in an error or misinterpretation.\n",
      "  warnings.warn(\n"
     ]
    },
    {
     "data": {
      "image/png": "[encoded data removed]",
      "text/plain": [
       "<Figure size 432x288 with 1 Axes>"
      ]
     },
     "metadata": {
      "needs_background": "light"
     },
     "output_type": "display_data"
    }
   ],
   "source": [
    "sns.boxplot(posts['word_count'], whis=1.9946);"
   ]
  },
  {
   "cell_type": "code",
   "execution_count": 95,
   "metadata": {
    "scrolled": true
   },
   "outputs": [
    {
     "name": "stderr",
     "output_type": "stream",
     "text": [
      "C:\\Users\\tsuts\\anaconda3\\lib\\site-packages\\seaborn\\_decorators.py:36: FutureWarning: Pass the following variable as a keyword arg: x. From version 0.12, the only valid positional argument will be `data`, and passing other arguments without an explicit keyword will result in an error or misinterpretation.\n",
      "  warnings.warn(\n"
     ]
    },
    {
     "data": {
      "image/png": "[encoded data removed]",
      "text/plain": [
       "<Figure size 432x288 with 1 Axes>"
      ]
     },
     "metadata": {
      "needs_background": "light"
     },
     "output_type": "display_data"
    }
   ],
   "source": [
    "sns.boxplot(posts['status_length'], whis=1.9946);"
   ]
  },
  {
   "cell_type": "markdown",
   "metadata": {},
   "source": [
    "- Box plots look much better. "
   ]
  },
  {
   "cell_type": "code",
   "execution_count": 96,
   "metadata": {},
   "outputs": [
    {
     "data": {
      "text/plain": [
       "(10213, 7)"
      ]
     },
     "execution_count": 96,
     "metadata": {},
     "output_type": "execute_result"
    }
   ],
   "source": [
    "posts.shape"
   ]
  },
  {
   "cell_type": "code",
   "execution_count": 97,
   "metadata": {},
   "outputs": [],
   "source": [
    "posts.to_csv('./datasets/posts.csv')"
   ]
  },
  {
   "cell_type": "markdown",
   "metadata": {},
   "source": [
    "- we got ride of over 600 outliers"
   ]
  },
  {
   "cell_type": "markdown",
   "metadata": {},
   "source": [
    "- These subreddits have a lot of integers. It's the nature of finance. Some of them are useful Ethereum addresses, most of which are denoted by the first two characters being '0x'. I want to take out all the integers from the trainset because I don't think numbers will help the model predict whether the text is from a Bitcoin or an Ethereum subreddit. However, I want to keep the ETH addresses because this will most likely improve the model's predictions for Ethereum subreddits.\n",
    "\n",
    "- Using RegEx I will find all of the texts that begin with '0x' and all of the texts that are integers \n",
    "\n",
    "\n"
   ]
  },
  {
   "cell_type": "markdown",
   "metadata": {},
   "source": [
    "- I want to lemmatize my text data so that my model doesn't learn from redundancies. For example, instead of the model learning 'happy', 'happiness', and 'happily,' I want to create a base word, in this case 'happy,' for these three because they have similar meanings. Therefore the model will only learn from happy. \n",
    "- Below is code to briefly demonstrate how lemmatizing the data will yield fewer text words for when I CountVectorize my data. It is not important to the model. \n"
   ]
  },
  {
   "cell_type": "code",
   "execution_count": 98,
   "metadata": {},
   "outputs": [
    {
     "name": "stdout",
     "output_type": "stream",
     "text": [
      "<class 'pandas.core.frame.DataFrame'>\n",
      "Int64Index: 10213 entries, 0 to 10631\n",
      "Data columns (total 7 columns):\n",
      " #   Column         Non-Null Count  Dtype \n",
      "---  ------         --------------  ----- \n",
      " 0   index          10213 non-null  int64 \n",
      " 1   selftext       10213 non-null  object\n",
      " 2   title          10213 non-null  object\n",
      " 3   subreddit      10213 non-null  int64 \n",
      " 4   text           10213 non-null  object\n",
      " 5   status_length  10213 non-null  int64 \n",
      " 6   word_count     10213 non-null  int64 \n",
      "dtypes: int64(4), object(3)\n",
      "memory usage: 638.3+ KB\n"
     ]
    }
   ],
   "source": [
    "posts.info()"
   ]
  },
  {
   "cell_type": "markdown",
   "metadata": {},
   "source": [
    "# Token Experimentation: RegEx\n",
    "\n",
    "- code in this section is an exploration of tokenized data \n",
    "- it will not be used in the model \n",
    "- instead I will call the Lemmatizer in my CountVectorizer when I create my model "
   ]
  },
  {
   "cell_type": "code",
   "execution_count": 99,
   "metadata": {},
   "outputs": [],
   "source": [
    "# Instantiate Regex\n",
    "tokenizer = RegexpTokenizer(r'\\w+') "
   ]
  },
  {
   "cell_type": "code",
   "execution_count": 100,
   "metadata": {},
   "outputs": [
    {
     "data": {
      "text/plain": [
       "['alright',\n",
       " 'so',\n",
       " 'ive',\n",
       " 'been',\n",
       " 'on',\n",
       " 'the',\n",
       " 'eth',\n",
       " 'train',\n",
       " 'for',\n",
       " 'some',\n",
       " 'time',\n",
       " 'now',\n",
       " 'sold',\n",
       " 'on',\n",
       " 'the',\n",
       " 'concept',\n",
       " 'and',\n",
       " 'think',\n",
       " 'the',\n",
       " 'future',\n",
       " 'is',\n",
       " 'very',\n",
       " 'bright',\n",
       " 'what',\n",
       " 'i',\n",
       " 'dont',\n",
       " 'know',\n",
       " 'is',\n",
       " 'there',\n",
       " 'any',\n",
       " 'sort',\n",
       " 'of',\n",
       " 'realistic',\n",
       " 'way',\n",
       " 'to',\n",
       " 'arrive',\n",
       " 'at',\n",
       " 'a',\n",
       " 'best',\n",
       " 'case',\n",
       " 'scenario',\n",
       " 'price',\n",
       " 'valuation',\n",
       " 'for',\n",
       " 'eth',\n",
       " 'for',\n",
       " 'example',\n",
       " 'if',\n",
       " 'btc',\n",
       " 'can',\n",
       " 'gain',\n",
       " 'equal',\n",
       " 'footing',\n",
       " 'with',\n",
       " 'gold',\n",
       " 'from',\n",
       " 'a',\n",
       " 'market',\n",
       " 'cap',\n",
       " 'perspective',\n",
       " 'we',\n",
       " 'could',\n",
       " 'roughly',\n",
       " 'expect',\n",
       " 'a',\n",
       " '500k',\n",
       " 'btc',\n",
       " 'sure',\n",
       " 'there',\n",
       " 'is',\n",
       " 'plenty',\n",
       " 'of',\n",
       " 'variance',\n",
       " 'up',\n",
       " 'or',\n",
       " 'down',\n",
       " 'based',\n",
       " 'on',\n",
       " 'a',\n",
       " 'variety',\n",
       " 'pack',\n",
       " 'of',\n",
       " 'factors',\n",
       " 'but',\n",
       " 'i',\n",
       " 'can',\n",
       " 'get',\n",
       " 'a',\n",
       " 'rough',\n",
       " 'idea',\n",
       " 'of',\n",
       " 'what',\n",
       " 'it',\n",
       " 'could',\n",
       " 'be',\n",
       " 'worth',\n",
       " 'is',\n",
       " 'there',\n",
       " 'anything',\n",
       " 'we',\n",
       " 'can',\n",
       " 'look',\n",
       " 'at',\n",
       " 'to',\n",
       " 'estimate',\n",
       " 'the',\n",
       " 'best',\n",
       " 'case',\n",
       " 'price',\n",
       " 'scenario',\n",
       " 'for',\n",
       " 'eth',\n",
       " 'are',\n",
       " 'you',\n",
       " 'all',\n",
       " 'in',\n",
       " 'the',\n",
       " 'same',\n",
       " 'boat',\n",
       " 'as',\n",
       " 'me',\n",
       " 'where',\n",
       " 'i',\n",
       " 'believe',\n",
       " 'in',\n",
       " 'ethereum',\n",
       " 'and',\n",
       " 'just',\n",
       " 'blindly',\n",
       " 'hope',\n",
       " 'the',\n",
       " 'value',\n",
       " 'goes',\n",
       " 'up',\n",
       " 'as',\n",
       " 'adoption',\n",
       " 'and',\n",
       " 'btc',\n",
       " 'price',\n",
       " 'increaseupside',\n",
       " 'of',\n",
       " 'ether']"
      ]
     },
     "execution_count": 100,
     "metadata": {},
     "output_type": "execute_result"
    }
   ],
   "source": [
    "posts_tokens = []\n",
    "for i in posts['text']: \n",
    "    posts_tokens.append(tokenizer.tokenize(i))\n",
    "posts_tokens[1]"
   ]
  },
  {
   "cell_type": "code",
   "execution_count": 101,
   "metadata": {
    "scrolled": true
   },
   "outputs": [
    {
     "name": "stdout",
     "output_type": "stream",
     "text": [
      "['alright', 'so', 'ive', 'been', 'on', 'the', 'eth', 'train', 'for', 'some', 'time', 'now', 'sold', 'on', 'the', 'concept', 'and', 'think', 'the', 'future', 'is', 'very', 'bright', 'what', 'i', 'dont', 'know', 'is', 'there', 'any', 'sort', 'of', 'realistic', 'way', 'to', 'arrive', 'at', 'a', 'best', 'case', 'scenario', 'price', 'valuation', 'for', 'eth', 'for', 'example', 'if', 'btc', 'can', 'gain', 'equal', 'footing', 'with', 'gold', 'from', 'a', 'market', 'cap', 'perspective', 'we', 'could', 'roughly', 'expect', 'a', '500k', 'btc', 'sure', 'there', 'is', 'plenty', 'of', 'variance', 'up', 'or', 'down', 'based', 'on', 'a', 'variety', 'pack', 'of', 'factors', 'but', 'i', 'can', 'get', 'a', 'rough', 'idea', 'of', 'what', 'it', 'could', 'be', 'worth', 'is', 'there', 'anything', 'we', 'can', 'look', 'at', 'to', 'estimate', 'the', 'best', 'case', 'price', 'scenario', 'for', 'eth', 'are', 'you', 'all', 'in', 'the', 'same', 'boat', 'as', 'me', 'where', 'i', 'believe', 'in', 'ethereum', 'and', 'just', 'blindly', 'hope', 'the', 'value', 'goes', 'up', 'as', 'adoption', 'and', 'btc', 'price', 'increaseupside', 'of', 'ether']\n"
     ]
    }
   ],
   "source": [
    "print(posts_tokens[1])"
   ]
  },
  {
   "cell_type": "code",
   "execution_count": 102,
   "metadata": {},
   "outputs": [],
   "source": [
    "# Instantiate lemmatizer.\n",
    "lemmatizer = WordNetLemmatizer()"
   ]
  },
  {
   "cell_type": "code",
   "execution_count": 103,
   "metadata": {},
   "outputs": [
    {
     "data": {
      "text/plain": [
       "['im', 'newer', 'to', 'crypto', 'and']"
      ]
     },
     "execution_count": 103,
     "metadata": {},
     "output_type": "execute_result"
    }
   ],
   "source": [
    "lem_text_tokens = [lemmatizer.lemmatize(i) for i in posts_tokens[12]]\n",
    "lem_text_tokens[0:5]"
   ]
  },
  {
   "cell_type": "code",
   "execution_count": 104,
   "metadata": {},
   "outputs": [
    {
     "data": {
      "text/plain": [
       "['httpswwwcoindeskcom16ethereumpredictionscryptooracle16',\n",
       " 'ethereum',\n",
       " 'prediction',\n",
       " 'from',\n",
       " 'a']"
      ]
     },
     "execution_count": 104,
     "metadata": {},
     "output_type": "execute_result"
    }
   ],
   "source": [
    "token_lem = []\n",
    "tokens = []\n",
    "for i in range(len(posts_tokens)):\n",
    "    for j in posts_tokens[i]: \n",
    "        tokens.append(j)\n",
    "        token_lem.append(lemmatizer.lemmatize(j))\n",
    "token_lem[0:5]"
   ]
  },
  {
   "cell_type": "code",
   "execution_count": 105,
   "metadata": {},
   "outputs": [
    {
     "data": {
      "text/plain": [
       "[('httpswwwcoindeskcom16ethereumpredictionscryptooracle16',\n",
       "  'httpswwwcoindeskcom16ethereumpredictionscryptooracle16'),\n",
       " ('ethereum', 'ethereum'),\n",
       " ('predictions', 'prediction'),\n",
       " ('from', 'from'),\n",
       " ('a', 'a')]"
      ]
     },
     "execution_count": 105,
     "metadata": {},
     "output_type": "execute_result"
    }
   ],
   "source": [
    "list(zip(tokens, token_lem))[0:5]\n"
   ]
  },
  {
   "cell_type": "markdown",
   "metadata": {},
   "source": [
    "- Above we can see the difference between the lemma and the text data. Not all the words are different, but some of them are which reduces the amount of different variations the same meaning can be represented in text. it might be worth examining differences in model performance given lemma and stems. "
   ]
  },
  {
   "cell_type": "markdown",
   "metadata": {},
   "source": [
    "I've cleaned the data of all upper case letters, special characters, and outliers. \n",
    "\n",
    "Now I want to check out most frequent words to create a short stop words list. "
   ]
  },
  {
   "cell_type": "markdown",
   "metadata": {},
   "source": [
    "### Looking for stop words "
   ]
  },
  {
   "cell_type": "code",
   "execution_count": 106,
   "metadata": {},
   "outputs": [],
   "source": [
    "# Instantiate a CountVectorizer with stopwords = 'TPDNM'\n",
    "# used from sklearn documentation https://scikit-learn.org/stable/modules/feature_extraction.html\n",
    "# it allows me to call LemmaTokenizer() with my Pipeline()\n",
    "class LemmaTokenizer:\n",
    "    def __init__(self):\n",
    "         self.wnl = WordNetLemmatizer()\n",
    "    def __call__(self, doc):\n",
    "         # return [self.wnl.lemmatize(t) for t in word_tokenize(doc) if t not in stopwords.words('english')]\n",
    "        return [self.wnl.lemmatize(t) for t in word_tokenize(doc)]\n",
    "\n",
    "\n",
    "#cvec = CountVectorizer(tokenizer=LemmaTokenizer(), stop_words='english')"
   ]
  },
  {
   "cell_type": "markdown",
   "metadata": {},
   "source": [
    "- Before I model my data, I want to CountVectorize my texts to see the most common words in the data. They might be too telling of which subreddit post the text came from and should be included in my stop_words list when I instantiate my transformers. \n"
   ]
  },
  {
   "cell_type": "code",
   "execution_count": 107,
   "metadata": {},
   "outputs": [
    {
     "data": {
      "image/png": "[encoded data removed]",
      "text/plain": [
       "<Figure size 432x288 with 1 Axes>"
      ]
     },
     "metadata": {
      "needs_background": "light"
     },
     "output_type": "display_data"
    }
   ],
   "source": [
    "X = posts['text']\n",
    "y = posts['subreddit']\n",
    "\n",
    "# Split the data into the training and testing sets for a prelim CountVectorizer\n",
    "X_train, X_test, y_train, y_test = train_test_split(X,\n",
    "                                                    y,\n",
    "                                                    test_size=0.33,\n",
    "                                                    stratify=y,\n",
    "                                                    random_state=42)\n",
    "\n",
    "cvec = CountVectorizer()\n",
    "cvec.fit(X_train)\n",
    "X_train = cvec.transform(X_train)\n",
    "X_train_df = pd.DataFrame(X_train.todense(), \n",
    "                          columns=cvec.get_feature_names())\n",
    "X_train_df.sum().sort_values(ascending=False).head(20).plot(kind='barh');"
   ]
  },
  {
   "cell_type": "markdown",
   "metadata": {},
   "source": [
    "- Most of the most common words seem like they will be included in the english stop words list. However, words like 'bitcoin' and 'ethereum' might be too much of a giveaway for predicting which subreddit a test came from. I will also include 'btc' and 'eth' which are abbreviations for bitcoin and ethereum since they are also commonly used for both assets. "
   ]
  },
  {
   "cell_type": "code",
   "execution_count": 108,
   "metadata": {},
   "outputs": [],
   "source": [
    "# add stop words to english stop words list\n",
    "\n",
    "my_additional_stop_words = ['btc', 'eth', 'ethereum', 'bitcoin' ]\n",
    "my_stop_words = text.ENGLISH_STOP_WORDS.union(my_additional_stop_words)\n",
    "\n",
    "# source: https://stackoverflow.com/questions/24386489/adding-words-to-scikit-learns-countvectorizers-stop-list/24386751"
   ]
  },
  {
   "cell_type": "markdown",
   "metadata": {},
   "source": [
    "### Create a sentiment column"
   ]
  },
  {
   "cell_type": "code",
   "execution_count": 111,
   "metadata": {},
   "outputs": [],
   "source": [
    "sia = SentimentIntensityAnalyzer()\n",
    "def get_compound_sentiment(post):\n",
    "    return sia.polarity_scores(post)['compound']"
   ]
  },
  {
   "cell_type": "code",
   "execution_count": 112,
   "metadata": {},
   "outputs": [],
   "source": [
    "posts['sentiment'] = posts['text'].apply(get_compound_sentiment)"
   ]
  },
  {
   "cell_type": "code",
   "execution_count": 113,
   "metadata": {
    "scrolled": true
   },
   "outputs": [
    {
     "data": {
      "text/html": [
       "<div>\n",
       "<style scoped>\n",
       "    .dataframe tbody tr th:only-of-type {\n",
       "        vertical-align: middle;\n",
       "    }\n",
       "\n",
       "    .dataframe tbody tr th {\n",
       "        vertical-align: top;\n",
       "    }\n",
       "\n",
       "    .dataframe thead th {\n",
       "        text-align: right;\n",
       "    }\n",
       "</style>\n",
       "<table border=\"1\" class=\"dataframe\">\n",
       "  <thead>\n",
       "    <tr style=\"text-align: right;\">\n",
       "      <th></th>\n",
       "      <th>index</th>\n",
       "      <th>selftext</th>\n",
       "      <th>title</th>\n",
       "      <th>subreddit</th>\n",
       "      <th>text</th>\n",
       "      <th>status_length</th>\n",
       "      <th>word_count</th>\n",
       "      <th>sentiment</th>\n",
       "    </tr>\n",
       "  </thead>\n",
       "  <tbody>\n",
       "    <tr>\n",
       "      <th>0</th>\n",
       "      <td>1</td>\n",
       "      <td>\\nhttps://www.coindesk.com/16-ethereum-predict...</td>\n",
       "      <td>16 Ethereum Predictions From a Crypto Oracle</td>\n",
       "      <td>1</td>\n",
       "      <td>\\nhttpswwwcoindeskcom16ethereumpredictionscryp...</td>\n",
       "      <td>97</td>\n",
       "      <td>7</td>\n",
       "      <td>0.0000</td>\n",
       "    </tr>\n",
       "    <tr>\n",
       "      <th>1</th>\n",
       "      <td>8</td>\n",
       "      <td>Alright so I’ve been on the ETH train for some...</td>\n",
       "      <td>Upside of Ether?</td>\n",
       "      <td>1</td>\n",
       "      <td>alright so ive been on the eth train for some ...</td>\n",
       "      <td>705</td>\n",
       "      <td>142</td>\n",
       "      <td>0.9724</td>\n",
       "    </tr>\n",
       "    <tr>\n",
       "      <th>2</th>\n",
       "      <td>15</td>\n",
       "      <td>i tried almost a year and a half ago to get in...</td>\n",
       "      <td>i need help</td>\n",
       "      <td>1</td>\n",
       "      <td>i tried almost a year and a half ago to get in...</td>\n",
       "      <td>816</td>\n",
       "      <td>156</td>\n",
       "      <td>0.9355</td>\n",
       "    </tr>\n",
       "    <tr>\n",
       "      <th>3</th>\n",
       "      <td>16</td>\n",
       "      <td>Hi guys, I am not very familiar with ethereum ...</td>\n",
       "      <td>New to this... is now a good time to invest in...</td>\n",
       "      <td>1</td>\n",
       "      <td>hi guys i am not very familiar with ethereum b...</td>\n",
       "      <td>390</td>\n",
       "      <td>76</td>\n",
       "      <td>0.9109</td>\n",
       "    </tr>\n",
       "    <tr>\n",
       "      <th>4</th>\n",
       "      <td>21</td>\n",
       "      <td>Hi everyone, I think this is the most suited s...</td>\n",
       "      <td>Should I stake?</td>\n",
       "      <td>1</td>\n",
       "      <td>hi everyone i think this is the most suited su...</td>\n",
       "      <td>662</td>\n",
       "      <td>129</td>\n",
       "      <td>0.9294</td>\n",
       "    </tr>\n",
       "    <tr>\n",
       "      <th>5</th>\n",
       "      <td>23</td>\n",
       "      <td>Spoiler alert.. a lot.  \\nWe go frontrun on tr...</td>\n",
       "      <td>We took a tour around the dark forest to see h...</td>\n",
       "      <td>1</td>\n",
       "      <td>spoiler alert a lot  \\nwe go frontrun on trans...</td>\n",
       "      <td>396</td>\n",
       "      <td>46</td>\n",
       "      <td>0.7269</td>\n",
       "    </tr>\n",
       "    <tr>\n",
       "      <th>6</th>\n",
       "      <td>24</td>\n",
       "      <td>So The Secret Network Ethereum bridge is live....</td>\n",
       "      <td>More secretEther users needed! Privacy fans un...</td>\n",
       "      <td>1</td>\n",
       "      <td>so the secret network ethereum bridge is live ...</td>\n",
       "      <td>874</td>\n",
       "      <td>124</td>\n",
       "      <td>0.9801</td>\n",
       "    </tr>\n",
       "    <tr>\n",
       "      <th>7</th>\n",
       "      <td>29</td>\n",
       "      <td>Hi ethereum holders/investors/stakers etc.\\n\\n...</td>\n",
       "      <td>Max supply of ETH</td>\n",
       "      <td>1</td>\n",
       "      <td>hi ethereum holdersinvestorsstakers etc\\n\\nis ...</td>\n",
       "      <td>142</td>\n",
       "      <td>27</td>\n",
       "      <td>0.1280</td>\n",
       "    </tr>\n",
       "    <tr>\n",
       "      <th>8</th>\n",
       "      <td>33</td>\n",
       "      <td>\\nIf you’ve been keeping up with Ripple then y...</td>\n",
       "      <td>XRP right now lol</td>\n",
       "      <td>1</td>\n",
       "      <td>\\nif youve been keeping up with ripple then yo...</td>\n",
       "      <td>272</td>\n",
       "      <td>42</td>\n",
       "      <td>0.8909</td>\n",
       "    </tr>\n",
       "    <tr>\n",
       "      <th>9</th>\n",
       "      <td>35</td>\n",
       "      <td>I know the basics of crypto but I’m not the mo...</td>\n",
       "      <td>Is this a bubble?</td>\n",
       "      <td>1</td>\n",
       "      <td>i know the basics of crypto but im not the mos...</td>\n",
       "      <td>539</td>\n",
       "      <td>105</td>\n",
       "      <td>0.7301</td>\n",
       "    </tr>\n",
       "  </tbody>\n",
       "</table>\n",
       "</div>"
      ],
      "text/plain": [
       "   index                                           selftext  \\\n",
       "0      1  \\nhttps://www.coindesk.com/16-ethereum-predict...   \n",
       "1      8  Alright so I’ve been on the ETH train for some...   \n",
       "2     15  i tried almost a year and a half ago to get in...   \n",
       "3     16  Hi guys, I am not very familiar with ethereum ...   \n",
       "4     21  Hi everyone, I think this is the most suited s...   \n",
       "5     23  Spoiler alert.. a lot.  \\nWe go frontrun on tr...   \n",
       "6     24  So The Secret Network Ethereum bridge is live....   \n",
       "7     29  Hi ethereum holders/investors/stakers etc.\\n\\n...   \n",
       "8     33  \\nIf you’ve been keeping up with Ripple then y...   \n",
       "9     35  I know the basics of crypto but I’m not the mo...   \n",
       "\n",
       "                                               title  subreddit  \\\n",
       "0       16 Ethereum Predictions From a Crypto Oracle          1   \n",
       "1                                   Upside of Ether?          1   \n",
       "2                                        i need help          1   \n",
       "3  New to this... is now a good time to invest in...          1   \n",
       "4                                    Should I stake?          1   \n",
       "5  We took a tour around the dark forest to see h...          1   \n",
       "6  More secretEther users needed! Privacy fans un...          1   \n",
       "7                                  Max supply of ETH          1   \n",
       "8                                  XRP right now lol          1   \n",
       "9                                  Is this a bubble?          1   \n",
       "\n",
       "                                                text  status_length  \\\n",
       "0  \\nhttpswwwcoindeskcom16ethereumpredictionscryp...             97   \n",
       "1  alright so ive been on the eth train for some ...            705   \n",
       "2  i tried almost a year and a half ago to get in...            816   \n",
       "3  hi guys i am not very familiar with ethereum b...            390   \n",
       "4  hi everyone i think this is the most suited su...            662   \n",
       "5  spoiler alert a lot  \\nwe go frontrun on trans...            396   \n",
       "6  so the secret network ethereum bridge is live ...            874   \n",
       "7  hi ethereum holdersinvestorsstakers etc\\n\\nis ...            142   \n",
       "8  \\nif youve been keeping up with ripple then yo...            272   \n",
       "9  i know the basics of crypto but im not the mos...            539   \n",
       "\n",
       "   word_count  sentiment  \n",
       "0           7     0.0000  \n",
       "1         142     0.9724  \n",
       "2         156     0.9355  \n",
       "3          76     0.9109  \n",
       "4         129     0.9294  \n",
       "5          46     0.7269  \n",
       "6         124     0.9801  \n",
       "7          27     0.1280  \n",
       "8          42     0.8909  \n",
       "9         105     0.7301  "
      ]
     },
     "execution_count": 113,
     "metadata": {},
     "output_type": "execute_result"
    }
   ],
   "source": [
    "posts.head(10)"
   ]
  },
  {
   "cell_type": "code",
   "execution_count": 114,
   "metadata": {},
   "outputs": [],
   "source": [
    "posts.to_csv('./datasets/posts.csv')"
   ]
  },
  {
   "cell_type": "markdown",
   "metadata": {},
   "source": [
    "### Baseline Model\n",
    " - what is our baseline model? "
   ]
  },
  {
   "cell_type": "code",
   "execution_count": 115,
   "metadata": {},
   "outputs": [
    {
     "data": {
      "text/plain": [
       "1    0.531871\n",
       "0    0.468129\n",
       "Name: subreddit, dtype: float64"
      ]
     },
     "execution_count": 115,
     "metadata": {},
     "output_type": "execute_result"
    }
   ],
   "source": [
    "y.value_counts(normalize=True)"
   ]
  },
  {
   "cell_type": "markdown",
   "metadata": {},
   "source": [
    "- 53% of the time, we can expect a subreddit from the data to be from the Bitcoin subreddit. This is our baseline case. "
   ]
  },
  {
   "cell_type": "markdown",
   "metadata": {},
   "source": [
    "## Models \n",
    "\n",
    "### CountVectorizer/TfidVectorizer in RandomForest/AdaBoost/Bagging Classifiers\n",
    "\n",
    "- In this section, I'm going to model my text using CountVectorizer/TfidVectorizer transformers in RandomForest/AdaBoost/BaggingClassifier models. \n",
    "- Within the CountVectorizer, I'm using a LemmaTokenizer to simplify some of the text data.  \n",
    "- For the purpose of my problem state, I'm going to use a feature union within my pipelines and run a gridsearch on all models. \n",
    "- By the end I will pick the best model and fine tune the hyperparameters for optimal performance. \n",
    "\n"
   ]
  },
  {
   "cell_type": "code",
   "execution_count": 1051,
   "metadata": {},
   "outputs": [
    {
     "name": "stdout",
     "output_type": "stream",
     "text": [
      "<class 'pandas.core.frame.DataFrame'>\n",
      "Int64Index: 9805 entries, 0 to 10631\n",
      "Data columns (total 8 columns):\n",
      " #   Column         Non-Null Count  Dtype  \n",
      "---  ------         --------------  -----  \n",
      " 0   index          9805 non-null   int64  \n",
      " 1   selftext       9805 non-null   object \n",
      " 2   title          9805 non-null   object \n",
      " 3   subreddit      9805 non-null   int64  \n",
      " 4   text           9805 non-null   object \n",
      " 5   status_length  9805 non-null   int64  \n",
      " 6   word_count     9805 non-null   int64  \n",
      " 7   sentiment      9805 non-null   float64\n",
      "dtypes: float64(1), int64(4), object(3)\n",
      "memory usage: 689.4+ KB\n"
     ]
    }
   ],
   "source": [
    "posts.info()"
   ]
  },
  {
   "cell_type": "code",
   "execution_count": 1053,
   "metadata": {},
   "outputs": [
    {
     "data": {
      "text/plain": [
       "0    0.524426\n",
       "1    0.475574\n",
       "Name: subreddit, dtype: float64"
      ]
     },
     "execution_count": 1053,
     "metadata": {},
     "output_type": "execute_result"
    }
   ],
   "source": [
    "y.value_counts(normalize=True) # baseline model "
   ]
  },
  {
   "cell_type": "markdown",
   "metadata": {},
   "source": []
  },
  {
   "cell_type": "code",
   "execution_count": 902,
   "metadata": {},
   "outputs": [],
   "source": [
    "# with sentiment \n",
    "\n",
    "get_text_data = FunctionTransformer(lambda x: x['text'], validate = False)\n",
    "get_numeric_data = FunctionTransformer(lambda x: x[['sentiment']], validate = False)\n",
    "\n",
    "X = posts[['text', 'sentiment']]\n",
    "y = posts['subreddit']\n",
    "\n",
    "X_train, X_test, y_train, y_test = train_test_split(X,\n",
    "                                                    y,\n",
    "                                                    test_size=0.33,\n",
    "                                                    stratify=y,\n",
    "                                                    random_state=42)\n",
    "\n",
    "cvec_pipe1 = Pipeline([\n",
    "    ('features', FeatureUnion([\n",
    "        ('numeric_features', Pipeline([\n",
    "           ('selector', get_numeric_data), \n",
    "            ('ss', StandardScaler())\n",
    "        ])),\n",
    "        ('text_features', Pipeline([\n",
    "        ('selector', get_text_data), \n",
    "        ('cvec', CountVectorizer(tokenizer=LemmaTokenizer(), stop_words=my_stop_words))\n",
    "        ])),  \n",
    "    ])),\n",
    "    ('rf', RandomForestClassifier())\n",
    "])\n",
    "\n",
    "cvec_pipe2 = Pipeline([\n",
    "    ('features', FeatureUnion([\n",
    "        ('numeric_features', Pipeline([\n",
    "           ('selector', get_numeric_data), \n",
    "            ('ss', StandardScaler())\n",
    "        ])),\n",
    "        ('text_features', Pipeline([\n",
    "        ('selector', get_text_data), \n",
    "        ('cvec', CountVectorizer(tokenizer=LemmaTokenizer(), stop_words=my_stop_words))\n",
    "        ])), \n",
    "    ])),\n",
    "    ('ada', AdaBoostClassifier())\n",
    "])\n",
    "\n",
    "cvec_pipe3 = Pipeline([\n",
    "    ('features', FeatureUnion([\n",
    "        ('numeric_features', Pipeline([\n",
    "           ('selector', get_numeric_data), \n",
    "            ('ss', StandardScaler())\n",
    "        ])),\n",
    "        ('text_features', Pipeline([\n",
    "        ('selector', get_text_data), \n",
    "        ('cvec', CountVectorizer(tokenizer=LemmaTokenizer(), stop_words=my_stop_words))\n",
    "        ])), \n",
    "    ])),\n",
    "    ('bag', BaggingClassifier())\n",
    "])\n",
    "\n",
    "tvec_pipe1 = Pipeline([\n",
    "    ('features', FeatureUnion([\n",
    "        ('numeric_features', Pipeline([\n",
    "           ('selector', get_numeric_data), \n",
    "            ('ss', StandardScaler())\n",
    "        ])),\n",
    "        ('text_features', Pipeline([\n",
    "        ('selector', get_text_data), \n",
    "        ('tvec', TfidfVectorizer(tokenizer=LemmaTokenizer(), stop_words=my_stop_words))\n",
    "        ])), \n",
    "    ])),\n",
    "    ('rf', RandomForestClassifier())\n",
    "])\n",
    "\n",
    "tvec_pipe2 = Pipeline([\n",
    "    ('features', FeatureUnion([\n",
    "        ('numeric_features', Pipeline([\n",
    "           ('selector', get_numeric_data), \n",
    "            ('ss', StandardScaler())\n",
    "        ])),\n",
    "        ('text_features', Pipeline([\n",
    "        ('selector', get_text_data), \n",
    "        ('tvec', TfidfVectorizer(tokenizer=LemmaTokenizer(), stop_words=my_stop_words))\n",
    "        ])), \n",
    "    ])),\n",
    "    ('ada', AdaBoostClassifier())\n",
    "])\n",
    "\n",
    "\n",
    "tvec_pipe3 = Pipeline([\n",
    "    ('features', FeatureUnion([\n",
    "        ('numeric_features', Pipeline([\n",
    "           ('selector', get_numeric_data), \n",
    "            ('ss', StandardScaler())\n",
    "        ])),\n",
    "        ('text_features', Pipeline([\n",
    "        ('selector', get_text_data), \n",
    "        ('tvec', TfidfVectorizer(tokenizer=LemmaTokenizer(), stop_words=my_stop_words))\n",
    "        ])), \n",
    "    ])),\n",
    "    ('bag', BaggingClassifier())\n",
    "])\n",
    "\n",
    "cvec_pipe_params = {\n",
    "    'features__text_features__cvec__max_features': [5_000, 6000, 7000],\n",
    "    'features__text_features__cvec__min_df': [2, 3],\n",
    "    'features__text_features__cvec__max_df': [.5, .7, .9],\n",
    "    'features__text_features__cvec__ngram_range': [(1,1)]\n",
    "}\n",
    "tvec_pipe_params = {\n",
    "    'features__text_features__tvec__max_features': [5_000, 6000, 7000],\n",
    "    'features__text_features__tvec__min_df': [2, 3],\n",
    "    'features__text_features__tvec__max_df': [.5, .7, .9],\n",
    "    'features__text_features__tvec__ngram_range': [(1,1)]\n",
    "}\n",
    "\n",
    "cvec_pipes = [cvec_pipe1, cvec_pipe2, cvec_pipe3]\n",
    "cvec_grids = []\n",
    "for pipe in cvec_pipes: \n",
    "    gs = GridSearchCV(pipe, \n",
    "                      param_grid=cvec_pipe_params,\n",
    "                      cv=5, \n",
    "                      verbose=2,\n",
    "                      ) # 5-fold cross-validation.\n",
    "    cvec_grids.append(gs)\n",
    "\n",
    "    \n",
    "    \n",
    "    \n",
    "tvec_pipes = [tvec_pipe1, tvec_pipe2, tvec_pipe3]\n",
    "tvec_grids = []\n",
    "for pipe in tvec_pipes: \n",
    "    gs = GridSearchCV(pipe,\n",
    "                      param_grid=tvec_pipe_params, \n",
    "                      cv=5, \n",
    "                      verbose=2,\n",
    "                      ) # 5-fold cross-validation.\n",
    "    tvec_grids.append(gs)\n",
    "    \n",
    "\n",
    "\n",
    "\n",
    "t0 = time.time()\n",
    "\n",
    "best_cvec_scores = []\n",
    "best_cvec_train_scores = []\n",
    "best_cvec_test_scores = []\n",
    "best_cvec_params = []\n",
    "\n",
    "for grid in cvec_grids: \n",
    "\n",
    "    #print(grid)\n",
    "    grid.fit(X_train, y_train)\n",
    "    print(f'Best Score: {grid.best_score_} Train Set Score: {grid.score(X_train, y_train)} Test Set Score: {grid.score(X_test, y_test)} Best Parameters: {grid.best_params_}')\n",
    "    best_cvec_scores.append(grid.best_score_)\n",
    "    best_cvec_train_scores.append(grid.score(X_train, y_train))\n",
    "    best_cvec_test_scores.append(grid.score(X_test, y_test))\n",
    "    best_cvec_params.append(grid.best_params_)\n",
    "\n",
    "best_tvec_scores = []\n",
    "best_tvec_train_scores = []\n",
    "best_tvec_test_scores = []\n",
    "best_tvec_params = []   \n",
    "\n",
    "for grid in tvec_grids: \n",
    "\n",
    "    #print(grid)\n",
    "    grid.fit(X_train, y_train)\n",
    "    print(f'Best Score: {grid.best_score_} Train Set Score: {grid.score(X_train, y_train)} Test Set Score {grid.score(X_test, y_test)} Best Parameters: {grid.best_params_}')\n",
    "    \n",
    "    best_tvec_scores.append(grid.best_score_)\n",
    "    best_tvec_train_scores.append(grid.score(X_train, y_train))\n",
    "    best_tvec_test_scores.append(grid.score(X_test, y_test))\n",
    "    best_tvec_params.append(grid.best_params_)\n",
    "    \n",
    "    print(f' This cell took {time.time() - t0} seconds to run')\n",
    "\n",
    "\n",
    "print(f'Best cvec scores: {best_cvec_scores}')"
   ]
  },
  {
   "cell_type": "code",
   "execution_count": 919,
   "metadata": {},
   "outputs": [
    {
     "name": "stdout",
     "output_type": "stream",
     "text": [
      "Best tvec scores : [0.8392476128540146, 0.7801827179556733, 0.7970786225092479]\n"
     ]
    }
   ],
   "source": [
    "print(f'Best tvec scores : {best_tvec_scores}')"
   ]
  },
  {
   "cell_type": "code",
   "execution_count": 920,
   "metadata": {},
   "outputs": [
    {
     "name": "stdout",
     "output_type": "stream",
     "text": [
      "Best cvec train scores: [0.9986299284518192, 0.7954026488049931, 0.9879738164104126]\n",
      "Best cvec test scores : [0.8389987639060569, 0.792027194066749, 0.8062422744128553]\n"
     ]
    }
   ],
   "source": [
    "print(f'Best cvec train scores: {best_cvec_train_scores}')\n",
    "print(f'Best cvec test scores : {best_cvec_test_scores}')"
   ]
  },
  {
   "cell_type": "code",
   "execution_count": 1056,
   "metadata": {},
   "outputs": [
    {
     "name": "stdout",
     "output_type": "stream",
     "text": [
      "Best tvec train scores: [0.9986299284518192, 0.7970771806972142, 0.9891916577865733]\n",
      "Best tvec test scores: [0.8411619283065513, 0.7877008652657602, 0.804079110012361]\n"
     ]
    }
   ],
   "source": [
    "print(f'Best tvec train scores: {best_tvec_train_scores}')\n",
    "print(f'Best tvec test scores: {best_tvec_test_scores}')"
   ]
  },
  {
   "cell_type": "code",
   "execution_count": 1101,
   "metadata": {},
   "outputs": [
    {
     "name": "stdout",
     "output_type": "stream",
     "text": [
      "Fitting 10 folds for each of 18 candidates, totalling 180 fits\n",
      "[CV] tvec__max_df=0.2, tvec__max_features=6000, tvec__min_df=2, tvec__ngram_range=(1, 1) \n"
     ]
    },
    {
     "name": "stderr",
     "output_type": "stream",
     "text": [
      "[Parallel(n_jobs=1)]: Using backend SequentialBackend with 1 concurrent workers.\n",
      "C:\\Users\\tsuts\\anaconda3\\lib\\site-packages\\sklearn\\feature_extraction\\text.py:383: UserWarning: Your stop_words may be inconsistent with your preprocessing. Tokenizing the stop words generated tokens ['ha', 'le', 'u', 'wa'] not in stop_words.\n",
      "  warnings.warn('Your stop_words may be inconsistent with '\n"
     ]
    },
    {
     "name": "stdout",
     "output_type": "stream",
     "text": [
      "[CV]  tvec__max_df=0.2, tvec__max_features=6000, tvec__min_df=2, tvec__ngram_range=(1, 1), total=   4.8s\n",
      "[CV] tvec__max_df=0.2, tvec__max_features=6000, tvec__min_df=2, tvec__ngram_range=(1, 1) \n"
     ]
    },
    {
     "name": "stderr",
     "output_type": "stream",
     "text": [
      "[Parallel(n_jobs=1)]: Done   1 out of   1 | elapsed:    4.7s remaining:    0.0s\n",
      "C:\\Users\\tsuts\\anaconda3\\lib\\site-packages\\sklearn\\feature_extraction\\text.py:383: UserWarning: Your stop_words may be inconsistent with your preprocessing. Tokenizing the stop words generated tokens ['ha', 'le', 'u', 'wa'] not in stop_words.\n",
      "  warnings.warn('Your stop_words may be inconsistent with '\n"
     ]
    },
    {
     "name": "stdout",
     "output_type": "stream",
     "text": [
      "[CV]  tvec__max_df=0.2, tvec__max_features=6000, tvec__min_df=2, tvec__ngram_range=(1, 1), total=   4.8s\n",
      "[CV] tvec__max_df=0.2, tvec__max_features=6000, tvec__min_df=2, tvec__ngram_range=(1, 1) \n"
     ]
    },
    {
     "name": "stderr",
     "output_type": "stream",
     "text": [
      "C:\\Users\\tsuts\\anaconda3\\lib\\site-packages\\sklearn\\feature_extraction\\text.py:383: UserWarning: Your stop_words may be inconsistent with your preprocessing. Tokenizing the stop words generated tokens ['ha', 'le', 'u', 'wa'] not in stop_words.\n",
      "  warnings.warn('Your stop_words may be inconsistent with '\n"
     ]
    },
    {
     "name": "stdout",
     "output_type": "stream",
     "text": [
      "[CV]  tvec__max_df=0.2, tvec__max_features=6000, tvec__min_df=2, tvec__ngram_range=(1, 1), total=   4.8s\n",
      "[CV] tvec__max_df=0.2, tvec__max_features=6000, tvec__min_df=2, tvec__ngram_range=(1, 1) \n"
     ]
    },
    {
     "name": "stderr",
     "output_type": "stream",
     "text": [
      "C:\\Users\\tsuts\\anaconda3\\lib\\site-packages\\sklearn\\feature_extraction\\text.py:383: UserWarning: Your stop_words may be inconsistent with your preprocessing. Tokenizing the stop words generated tokens ['ha', 'le', 'u', 'wa'] not in stop_words.\n",
      "  warnings.warn('Your stop_words may be inconsistent with '\n"
     ]
    },
    {
     "name": "stdout",
     "output_type": "stream",
     "text": [
      "[CV]  tvec__max_df=0.2, tvec__max_features=6000, tvec__min_df=2, tvec__ngram_range=(1, 1), total=   4.9s\n",
      "[CV] tvec__max_df=0.2, tvec__max_features=6000, tvec__min_df=2, tvec__ngram_range=(1, 1) \n"
     ]
    },
    {
     "name": "stderr",
     "output_type": "stream",
     "text": [
      "C:\\Users\\tsuts\\anaconda3\\lib\\site-packages\\sklearn\\feature_extraction\\text.py:383: UserWarning: Your stop_words may be inconsistent with your preprocessing. Tokenizing the stop words generated tokens ['ha', 'le', 'u', 'wa'] not in stop_words.\n",
      "  warnings.warn('Your stop_words may be inconsistent with '\n"
     ]
    },
    {
     "name": "stdout",
     "output_type": "stream",
     "text": [
      "[CV]  tvec__max_df=0.2, tvec__max_features=6000, tvec__min_df=2, tvec__ngram_range=(1, 1), total=   4.8s\n",
      "[CV] tvec__max_df=0.2, tvec__max_features=6000, tvec__min_df=2, tvec__ngram_range=(1, 1) \n"
     ]
    },
    {
     "name": "stderr",
     "output_type": "stream",
     "text": [
      "C:\\Users\\tsuts\\anaconda3\\lib\\site-packages\\sklearn\\feature_extraction\\text.py:383: UserWarning: Your stop_words may be inconsistent with your preprocessing. Tokenizing the stop words generated tokens ['ha', 'le', 'u', 'wa'] not in stop_words.\n",
      "  warnings.warn('Your stop_words may be inconsistent with '\n"
     ]
    },
    {
     "name": "stdout",
     "output_type": "stream",
     "text": [
      "[CV]  tvec__max_df=0.2, tvec__max_features=6000, tvec__min_df=2, tvec__ngram_range=(1, 1), total=   4.8s\n",
      "[CV] tvec__max_df=0.2, tvec__max_features=6000, tvec__min_df=2, tvec__ngram_range=(1, 1) \n"
     ]
    },
    {
     "name": "stderr",
     "output_type": "stream",
     "text": [
      "C:\\Users\\tsuts\\anaconda3\\lib\\site-packages\\sklearn\\feature_extraction\\text.py:383: UserWarning: Your stop_words may be inconsistent with your preprocessing. Tokenizing the stop words generated tokens ['ha', 'le', 'u', 'wa'] not in stop_words.\n",
      "  warnings.warn('Your stop_words may be inconsistent with '\n"
     ]
    },
    {
     "name": "stdout",
     "output_type": "stream",
     "text": [
      "[CV]  tvec__max_df=0.2, tvec__max_features=6000, tvec__min_df=2, tvec__ngram_range=(1, 1), total=   4.7s\n",
      "[CV] tvec__max_df=0.2, tvec__max_features=6000, tvec__min_df=2, tvec__ngram_range=(1, 1) \n"
     ]
    },
    {
     "name": "stderr",
     "output_type": "stream",
     "text": [
      "C:\\Users\\tsuts\\anaconda3\\lib\\site-packages\\sklearn\\feature_extraction\\text.py:383: UserWarning: Your stop_words may be inconsistent with your preprocessing. Tokenizing the stop words generated tokens ['ha', 'le', 'u', 'wa'] not in stop_words.\n",
      "  warnings.warn('Your stop_words may be inconsistent with '\n"
     ]
    },
    {
     "name": "stdout",
     "output_type": "stream",
     "text": [
      "[CV]  tvec__max_df=0.2, tvec__max_features=6000, tvec__min_df=2, tvec__ngram_range=(1, 1), total=   4.9s\n",
      "[CV] tvec__max_df=0.2, tvec__max_features=6000, tvec__min_df=2, tvec__ngram_range=(1, 1) \n"
     ]
    },
    {
     "name": "stderr",
     "output_type": "stream",
     "text": [
      "C:\\Users\\tsuts\\anaconda3\\lib\\site-packages\\sklearn\\feature_extraction\\text.py:383: UserWarning: Your stop_words may be inconsistent with your preprocessing. Tokenizing the stop words generated tokens ['ha', 'le', 'u', 'wa'] not in stop_words.\n",
      "  warnings.warn('Your stop_words may be inconsistent with '\n"
     ]
    },
    {
     "name": "stdout",
     "output_type": "stream",
     "text": [
      "[CV]  tvec__max_df=0.2, tvec__max_features=6000, tvec__min_df=2, tvec__ngram_range=(1, 1), total=   4.7s\n",
      "[CV] tvec__max_df=0.2, tvec__max_features=6000, tvec__min_df=2, tvec__ngram_range=(1, 1) \n"
     ]
    },
    {
     "name": "stderr",
     "output_type": "stream",
     "text": [
      "C:\\Users\\tsuts\\anaconda3\\lib\\site-packages\\sklearn\\feature_extraction\\text.py:383: UserWarning: Your stop_words may be inconsistent with your preprocessing. Tokenizing the stop words generated tokens ['ha', 'le', 'u', 'wa'] not in stop_words.\n",
      "  warnings.warn('Your stop_words may be inconsistent with '\n"
     ]
    },
    {
     "name": "stdout",
     "output_type": "stream",
     "text": [
      "[CV]  tvec__max_df=0.2, tvec__max_features=6000, tvec__min_df=2, tvec__ngram_range=(1, 1), total=   4.9s\n",
      "[CV] tvec__max_df=0.2, tvec__max_features=6000, tvec__min_df=2, tvec__ngram_range=(1, 2) \n"
     ]
    },
    {
     "name": "stderr",
     "output_type": "stream",
     "text": [
      "C:\\Users\\tsuts\\anaconda3\\lib\\site-packages\\sklearn\\feature_extraction\\text.py:383: UserWarning: Your stop_words may be inconsistent with your preprocessing. Tokenizing the stop words generated tokens ['ha', 'le', 'u', 'wa'] not in stop_words.\n",
      "  warnings.warn('Your stop_words may be inconsistent with '\n"
     ]
    },
    {
     "name": "stdout",
     "output_type": "stream",
     "text": [
      "[CV]  tvec__max_df=0.2, tvec__max_features=6000, tvec__min_df=2, tvec__ngram_range=(1, 2), total=   5.7s\n",
      "[CV] tvec__max_df=0.2, tvec__max_features=6000, tvec__min_df=2, tvec__ngram_range=(1, 2) \n"
     ]
    },
    {
     "name": "stderr",
     "output_type": "stream",
     "text": [
      "C:\\Users\\tsuts\\anaconda3\\lib\\site-packages\\sklearn\\feature_extraction\\text.py:383: UserWarning: Your stop_words may be inconsistent with your preprocessing. Tokenizing the stop words generated tokens ['ha', 'le', 'u', 'wa'] not in stop_words.\n",
      "  warnings.warn('Your stop_words may be inconsistent with '\n"
     ]
    },
    {
     "name": "stdout",
     "output_type": "stream",
     "text": [
      "[CV]  tvec__max_df=0.2, tvec__max_features=6000, tvec__min_df=2, tvec__ngram_range=(1, 2), total=   5.8s\n",
      "[CV] tvec__max_df=0.2, tvec__max_features=6000, tvec__min_df=2, tvec__ngram_range=(1, 2) \n"
     ]
    },
    {
     "name": "stderr",
     "output_type": "stream",
     "text": [
      "C:\\Users\\tsuts\\anaconda3\\lib\\site-packages\\sklearn\\feature_extraction\\text.py:383: UserWarning: Your stop_words may be inconsistent with your preprocessing. Tokenizing the stop words generated tokens ['ha', 'le', 'u', 'wa'] not in stop_words.\n",
      "  warnings.warn('Your stop_words may be inconsistent with '\n"
     ]
    },
    {
     "name": "stdout",
     "output_type": "stream",
     "text": [
      "[CV]  tvec__max_df=0.2, tvec__max_features=6000, tvec__min_df=2, tvec__ngram_range=(1, 2), total=   5.7s\n",
      "[CV] tvec__max_df=0.2, tvec__max_features=6000, tvec__min_df=2, tvec__ngram_range=(1, 2) \n"
     ]
    },
    {
     "name": "stderr",
     "output_type": "stream",
     "text": [
      "C:\\Users\\tsuts\\anaconda3\\lib\\site-packages\\sklearn\\feature_extraction\\text.py:383: UserWarning: Your stop_words may be inconsistent with your preprocessing. Tokenizing the stop words generated tokens ['ha', 'le', 'u', 'wa'] not in stop_words.\n",
      "  warnings.warn('Your stop_words may be inconsistent with '\n"
     ]
    },
    {
     "name": "stdout",
     "output_type": "stream",
     "text": [
      "[CV]  tvec__max_df=0.2, tvec__max_features=6000, tvec__min_df=2, tvec__ngram_range=(1, 2), total=   5.8s\n",
      "[CV] tvec__max_df=0.2, tvec__max_features=6000, tvec__min_df=2, tvec__ngram_range=(1, 2) \n"
     ]
    },
    {
     "name": "stderr",
     "output_type": "stream",
     "text": [
      "C:\\Users\\tsuts\\anaconda3\\lib\\site-packages\\sklearn\\feature_extraction\\text.py:383: UserWarning: Your stop_words may be inconsistent with your preprocessing. Tokenizing the stop words generated tokens ['ha', 'le', 'u', 'wa'] not in stop_words.\n",
      "  warnings.warn('Your stop_words may be inconsistent with '\n"
     ]
    },
    {
     "name": "stdout",
     "output_type": "stream",
     "text": [
      "[CV]  tvec__max_df=0.2, tvec__max_features=6000, tvec__min_df=2, tvec__ngram_range=(1, 2), total=   5.6s\n",
      "[CV] tvec__max_df=0.2, tvec__max_features=6000, tvec__min_df=2, tvec__ngram_range=(1, 2) \n"
     ]
    },
    {
     "name": "stderr",
     "output_type": "stream",
     "text": [
      "C:\\Users\\tsuts\\anaconda3\\lib\\site-packages\\sklearn\\feature_extraction\\text.py:383: UserWarning: Your stop_words may be inconsistent with your preprocessing. Tokenizing the stop words generated tokens ['ha', 'le', 'u', 'wa'] not in stop_words.\n",
      "  warnings.warn('Your stop_words may be inconsistent with '\n"
     ]
    },
    {
     "name": "stdout",
     "output_type": "stream",
     "text": [
      "[CV]  tvec__max_df=0.2, tvec__max_features=6000, tvec__min_df=2, tvec__ngram_range=(1, 2), total=   5.7s\n",
      "[CV] tvec__max_df=0.2, tvec__max_features=6000, tvec__min_df=2, tvec__ngram_range=(1, 2) \n"
     ]
    },
    {
     "name": "stderr",
     "output_type": "stream",
     "text": [
      "C:\\Users\\tsuts\\anaconda3\\lib\\site-packages\\sklearn\\feature_extraction\\text.py:383: UserWarning: Your stop_words may be inconsistent with your preprocessing. Tokenizing the stop words generated tokens ['ha', 'le', 'u', 'wa'] not in stop_words.\n",
      "  warnings.warn('Your stop_words may be inconsistent with '\n"
     ]
    },
    {
     "name": "stdout",
     "output_type": "stream",
     "text": [
      "[CV]  tvec__max_df=0.2, tvec__max_features=6000, tvec__min_df=2, tvec__ngram_range=(1, 2), total=   5.7s\n",
      "[CV] tvec__max_df=0.2, tvec__max_features=6000, tvec__min_df=2, tvec__ngram_range=(1, 2) \n"
     ]
    },
    {
     "name": "stderr",
     "output_type": "stream",
     "text": [
      "C:\\Users\\tsuts\\anaconda3\\lib\\site-packages\\sklearn\\feature_extraction\\text.py:383: UserWarning: Your stop_words may be inconsistent with your preprocessing. Tokenizing the stop words generated tokens ['ha', 'le', 'u', 'wa'] not in stop_words.\n",
      "  warnings.warn('Your stop_words may be inconsistent with '\n"
     ]
    },
    {
     "name": "stdout",
     "output_type": "stream",
     "text": [
      "[CV]  tvec__max_df=0.2, tvec__max_features=6000, tvec__min_df=2, tvec__ngram_range=(1, 2), total=   5.7s\n",
      "[CV] tvec__max_df=0.2, tvec__max_features=6000, tvec__min_df=2, tvec__ngram_range=(1, 2) \n"
     ]
    },
    {
     "name": "stderr",
     "output_type": "stream",
     "text": [
      "C:\\Users\\tsuts\\anaconda3\\lib\\site-packages\\sklearn\\feature_extraction\\text.py:383: UserWarning: Your stop_words may be inconsistent with your preprocessing. Tokenizing the stop words generated tokens ['ha', 'le', 'u', 'wa'] not in stop_words.\n",
      "  warnings.warn('Your stop_words may be inconsistent with '\n"
     ]
    },
    {
     "name": "stdout",
     "output_type": "stream",
     "text": [
      "[CV]  tvec__max_df=0.2, tvec__max_features=6000, tvec__min_df=2, tvec__ngram_range=(1, 2), total=   5.7s\n",
      "[CV] tvec__max_df=0.2, tvec__max_features=6000, tvec__min_df=2, tvec__ngram_range=(1, 2) \n"
     ]
    },
    {
     "name": "stderr",
     "output_type": "stream",
     "text": [
      "C:\\Users\\tsuts\\anaconda3\\lib\\site-packages\\sklearn\\feature_extraction\\text.py:383: UserWarning: Your stop_words may be inconsistent with your preprocessing. Tokenizing the stop words generated tokens ['ha', 'le', 'u', 'wa'] not in stop_words.\n",
      "  warnings.warn('Your stop_words may be inconsistent with '\n"
     ]
    },
    {
     "name": "stdout",
     "output_type": "stream",
     "text": [
      "[CV]  tvec__max_df=0.2, tvec__max_features=6000, tvec__min_df=2, tvec__ngram_range=(1, 2), total=   5.7s\n",
      "[CV] tvec__max_df=0.2, tvec__max_features=6000, tvec__min_df=0.01, tvec__ngram_range=(1, 1) \n"
     ]
    },
    {
     "name": "stderr",
     "output_type": "stream",
     "text": [
      "C:\\Users\\tsuts\\anaconda3\\lib\\site-packages\\sklearn\\feature_extraction\\text.py:383: UserWarning: Your stop_words may be inconsistent with your preprocessing. Tokenizing the stop words generated tokens ['ha', 'le', 'u', 'wa'] not in stop_words.\n",
      "  warnings.warn('Your stop_words may be inconsistent with '\n"
     ]
    },
    {
     "name": "stdout",
     "output_type": "stream",
     "text": [
      "[CV]  tvec__max_df=0.2, tvec__max_features=6000, tvec__min_df=0.01, tvec__ngram_range=(1, 1), total=   4.9s\n",
      "[CV] tvec__max_df=0.2, tvec__max_features=6000, tvec__min_df=0.01, tvec__ngram_range=(1, 1) \n"
     ]
    },
    {
     "name": "stderr",
     "output_type": "stream",
     "text": [
      "C:\\Users\\tsuts\\anaconda3\\lib\\site-packages\\sklearn\\feature_extraction\\text.py:383: UserWarning: Your stop_words may be inconsistent with your preprocessing. Tokenizing the stop words generated tokens ['ha', 'le', 'u', 'wa'] not in stop_words.\n",
      "  warnings.warn('Your stop_words may be inconsistent with '\n"
     ]
    },
    {
     "name": "stdout",
     "output_type": "stream",
     "text": [
      "[CV]  tvec__max_df=0.2, tvec__max_features=6000, tvec__min_df=0.01, tvec__ngram_range=(1, 1), total=   4.8s\n",
      "[CV] tvec__max_df=0.2, tvec__max_features=6000, tvec__min_df=0.01, tvec__ngram_range=(1, 1) \n"
     ]
    },
    {
     "name": "stderr",
     "output_type": "stream",
     "text": [
      "C:\\Users\\tsuts\\anaconda3\\lib\\site-packages\\sklearn\\feature_extraction\\text.py:383: UserWarning: Your stop_words may be inconsistent with your preprocessing. Tokenizing the stop words generated tokens ['ha', 'le', 'u', 'wa'] not in stop_words.\n",
      "  warnings.warn('Your stop_words may be inconsistent with '\n"
     ]
    },
    {
     "name": "stdout",
     "output_type": "stream",
     "text": [
      "[CV]  tvec__max_df=0.2, tvec__max_features=6000, tvec__min_df=0.01, tvec__ngram_range=(1, 1), total=   4.8s\n",
      "[CV] tvec__max_df=0.2, tvec__max_features=6000, tvec__min_df=0.01, tvec__ngram_range=(1, 1) \n"
     ]
    },
    {
     "name": "stderr",
     "output_type": "stream",
     "text": [
      "C:\\Users\\tsuts\\anaconda3\\lib\\site-packages\\sklearn\\feature_extraction\\text.py:383: UserWarning: Your stop_words may be inconsistent with your preprocessing. Tokenizing the stop words generated tokens ['ha', 'le', 'u', 'wa'] not in stop_words.\n",
      "  warnings.warn('Your stop_words may be inconsistent with '\n"
     ]
    },
    {
     "name": "stdout",
     "output_type": "stream",
     "text": [
      "[CV]  tvec__max_df=0.2, tvec__max_features=6000, tvec__min_df=0.01, tvec__ngram_range=(1, 1), total=   4.8s\n",
      "[CV] tvec__max_df=0.2, tvec__max_features=6000, tvec__min_df=0.01, tvec__ngram_range=(1, 1) \n"
     ]
    },
    {
     "name": "stderr",
     "output_type": "stream",
     "text": [
      "C:\\Users\\tsuts\\anaconda3\\lib\\site-packages\\sklearn\\feature_extraction\\text.py:383: UserWarning: Your stop_words may be inconsistent with your preprocessing. Tokenizing the stop words generated tokens ['ha', 'le', 'u', 'wa'] not in stop_words.\n",
      "  warnings.warn('Your stop_words may be inconsistent with '\n"
     ]
    },
    {
     "name": "stdout",
     "output_type": "stream",
     "text": [
      "[CV]  tvec__max_df=0.2, tvec__max_features=6000, tvec__min_df=0.01, tvec__ngram_range=(1, 1), total=   4.9s\n",
      "[CV] tvec__max_df=0.2, tvec__max_features=6000, tvec__min_df=0.01, tvec__ngram_range=(1, 1) \n"
     ]
    },
    {
     "name": "stderr",
     "output_type": "stream",
     "text": [
      "C:\\Users\\tsuts\\anaconda3\\lib\\site-packages\\sklearn\\feature_extraction\\text.py:383: UserWarning: Your stop_words may be inconsistent with your preprocessing. Tokenizing the stop words generated tokens ['ha', 'le', 'u', 'wa'] not in stop_words.\n",
      "  warnings.warn('Your stop_words may be inconsistent with '\n"
     ]
    },
    {
     "name": "stdout",
     "output_type": "stream",
     "text": [
      "[CV]  tvec__max_df=0.2, tvec__max_features=6000, tvec__min_df=0.01, tvec__ngram_range=(1, 1), total=   4.8s\n",
      "[CV] tvec__max_df=0.2, tvec__max_features=6000, tvec__min_df=0.01, tvec__ngram_range=(1, 1) \n"
     ]
    },
    {
     "name": "stderr",
     "output_type": "stream",
     "text": [
      "C:\\Users\\tsuts\\anaconda3\\lib\\site-packages\\sklearn\\feature_extraction\\text.py:383: UserWarning: Your stop_words may be inconsistent with your preprocessing. Tokenizing the stop words generated tokens ['ha', 'le', 'u', 'wa'] not in stop_words.\n",
      "  warnings.warn('Your stop_words may be inconsistent with '\n"
     ]
    },
    {
     "name": "stdout",
     "output_type": "stream",
     "text": [
      "[CV]  tvec__max_df=0.2, tvec__max_features=6000, tvec__min_df=0.01, tvec__ngram_range=(1, 1), total=   4.8s\n",
      "[CV] tvec__max_df=0.2, tvec__max_features=6000, tvec__min_df=0.01, tvec__ngram_range=(1, 1) \n"
     ]
    },
    {
     "name": "stderr",
     "output_type": "stream",
     "text": [
      "C:\\Users\\tsuts\\anaconda3\\lib\\site-packages\\sklearn\\feature_extraction\\text.py:383: UserWarning: Your stop_words may be inconsistent with your preprocessing. Tokenizing the stop words generated tokens ['ha', 'le', 'u', 'wa'] not in stop_words.\n",
      "  warnings.warn('Your stop_words may be inconsistent with '\n"
     ]
    },
    {
     "name": "stdout",
     "output_type": "stream",
     "text": [
      "[CV]  tvec__max_df=0.2, tvec__max_features=6000, tvec__min_df=0.01, tvec__ngram_range=(1, 1), total=   4.8s\n",
      "[CV] tvec__max_df=0.2, tvec__max_features=6000, tvec__min_df=0.01, tvec__ngram_range=(1, 1) \n"
     ]
    },
    {
     "name": "stderr",
     "output_type": "stream",
     "text": [
      "C:\\Users\\tsuts\\anaconda3\\lib\\site-packages\\sklearn\\feature_extraction\\text.py:383: UserWarning: Your stop_words may be inconsistent with your preprocessing. Tokenizing the stop words generated tokens ['ha', 'le', 'u', 'wa'] not in stop_words.\n",
      "  warnings.warn('Your stop_words may be inconsistent with '\n"
     ]
    },
    {
     "name": "stdout",
     "output_type": "stream",
     "text": [
      "[CV]  tvec__max_df=0.2, tvec__max_features=6000, tvec__min_df=0.01, tvec__ngram_range=(1, 1), total=   5.0s\n",
      "[CV] tvec__max_df=0.2, tvec__max_features=6000, tvec__min_df=0.01, tvec__ngram_range=(1, 1) \n"
     ]
    },
    {
     "name": "stderr",
     "output_type": "stream",
     "text": [
      "C:\\Users\\tsuts\\anaconda3\\lib\\site-packages\\sklearn\\feature_extraction\\text.py:383: UserWarning: Your stop_words may be inconsistent with your preprocessing. Tokenizing the stop words generated tokens ['ha', 'le', 'u', 'wa'] not in stop_words.\n",
      "  warnings.warn('Your stop_words may be inconsistent with '\n"
     ]
    },
    {
     "name": "stdout",
     "output_type": "stream",
     "text": [
      "[CV]  tvec__max_df=0.2, tvec__max_features=6000, tvec__min_df=0.01, tvec__ngram_range=(1, 1), total=   4.8s\n",
      "[CV] tvec__max_df=0.2, tvec__max_features=6000, tvec__min_df=0.01, tvec__ngram_range=(1, 2) \n"
     ]
    },
    {
     "name": "stderr",
     "output_type": "stream",
     "text": [
      "C:\\Users\\tsuts\\anaconda3\\lib\\site-packages\\sklearn\\feature_extraction\\text.py:383: UserWarning: Your stop_words may be inconsistent with your preprocessing. Tokenizing the stop words generated tokens ['ha', 'le', 'u', 'wa'] not in stop_words.\n",
      "  warnings.warn('Your stop_words may be inconsistent with '\n"
     ]
    },
    {
     "name": "stdout",
     "output_type": "stream",
     "text": [
      "[CV]  tvec__max_df=0.2, tvec__max_features=6000, tvec__min_df=0.01, tvec__ngram_range=(1, 2), total=   5.8s\n",
      "[CV] tvec__max_df=0.2, tvec__max_features=6000, tvec__min_df=0.01, tvec__ngram_range=(1, 2) \n"
     ]
    },
    {
     "name": "stderr",
     "output_type": "stream",
     "text": [
      "C:\\Users\\tsuts\\anaconda3\\lib\\site-packages\\sklearn\\feature_extraction\\text.py:383: UserWarning: Your stop_words may be inconsistent with your preprocessing. Tokenizing the stop words generated tokens ['ha', 'le', 'u', 'wa'] not in stop_words.\n",
      "  warnings.warn('Your stop_words may be inconsistent with '\n"
     ]
    },
    {
     "name": "stdout",
     "output_type": "stream",
     "text": [
      "[CV]  tvec__max_df=0.2, tvec__max_features=6000, tvec__min_df=0.01, tvec__ngram_range=(1, 2), total=   5.8s\n",
      "[CV] tvec__max_df=0.2, tvec__max_features=6000, tvec__min_df=0.01, tvec__ngram_range=(1, 2) \n"
     ]
    },
    {
     "name": "stderr",
     "output_type": "stream",
     "text": [
      "C:\\Users\\tsuts\\anaconda3\\lib\\site-packages\\sklearn\\feature_extraction\\text.py:383: UserWarning: Your stop_words may be inconsistent with your preprocessing. Tokenizing the stop words generated tokens ['ha', 'le', 'u', 'wa'] not in stop_words.\n",
      "  warnings.warn('Your stop_words may be inconsistent with '\n"
     ]
    },
    {
     "name": "stdout",
     "output_type": "stream",
     "text": [
      "[CV]  tvec__max_df=0.2, tvec__max_features=6000, tvec__min_df=0.01, tvec__ngram_range=(1, 2), total=   5.8s\n",
      "[CV] tvec__max_df=0.2, tvec__max_features=6000, tvec__min_df=0.01, tvec__ngram_range=(1, 2) \n"
     ]
    },
    {
     "name": "stderr",
     "output_type": "stream",
     "text": [
      "C:\\Users\\tsuts\\anaconda3\\lib\\site-packages\\sklearn\\feature_extraction\\text.py:383: UserWarning: Your stop_words may be inconsistent with your preprocessing. Tokenizing the stop words generated tokens ['ha', 'le', 'u', 'wa'] not in stop_words.\n",
      "  warnings.warn('Your stop_words may be inconsistent with '\n"
     ]
    },
    {
     "name": "stdout",
     "output_type": "stream",
     "text": [
      "[CV]  tvec__max_df=0.2, tvec__max_features=6000, tvec__min_df=0.01, tvec__ngram_range=(1, 2), total=   5.9s\n",
      "[CV] tvec__max_df=0.2, tvec__max_features=6000, tvec__min_df=0.01, tvec__ngram_range=(1, 2) \n"
     ]
    },
    {
     "name": "stderr",
     "output_type": "stream",
     "text": [
      "C:\\Users\\tsuts\\anaconda3\\lib\\site-packages\\sklearn\\feature_extraction\\text.py:383: UserWarning: Your stop_words may be inconsistent with your preprocessing. Tokenizing the stop words generated tokens ['ha', 'le', 'u', 'wa'] not in stop_words.\n",
      "  warnings.warn('Your stop_words may be inconsistent with '\n"
     ]
    },
    {
     "name": "stdout",
     "output_type": "stream",
     "text": [
      "[CV]  tvec__max_df=0.2, tvec__max_features=6000, tvec__min_df=0.01, tvec__ngram_range=(1, 2), total=   6.1s\n",
      "[CV] tvec__max_df=0.2, tvec__max_features=6000, tvec__min_df=0.01, tvec__ngram_range=(1, 2) \n"
     ]
    },
    {
     "name": "stderr",
     "output_type": "stream",
     "text": [
      "C:\\Users\\tsuts\\anaconda3\\lib\\site-packages\\sklearn\\feature_extraction\\text.py:383: UserWarning: Your stop_words may be inconsistent with your preprocessing. Tokenizing the stop words generated tokens ['ha', 'le', 'u', 'wa'] not in stop_words.\n",
      "  warnings.warn('Your stop_words may be inconsistent with '\n"
     ]
    },
    {
     "name": "stdout",
     "output_type": "stream",
     "text": [
      "[CV]  tvec__max_df=0.2, tvec__max_features=6000, tvec__min_df=0.01, tvec__ngram_range=(1, 2), total=   6.1s\n",
      "[CV] tvec__max_df=0.2, tvec__max_features=6000, tvec__min_df=0.01, tvec__ngram_range=(1, 2) \n"
     ]
    },
    {
     "name": "stderr",
     "output_type": "stream",
     "text": [
      "C:\\Users\\tsuts\\anaconda3\\lib\\site-packages\\sklearn\\feature_extraction\\text.py:383: UserWarning: Your stop_words may be inconsistent with your preprocessing. Tokenizing the stop words generated tokens ['ha', 'le', 'u', 'wa'] not in stop_words.\n",
      "  warnings.warn('Your stop_words may be inconsistent with '\n"
     ]
    },
    {
     "name": "stdout",
     "output_type": "stream",
     "text": [
      "[CV]  tvec__max_df=0.2, tvec__max_features=6000, tvec__min_df=0.01, tvec__ngram_range=(1, 2), total=   5.7s\n",
      "[CV] tvec__max_df=0.2, tvec__max_features=6000, tvec__min_df=0.01, tvec__ngram_range=(1, 2) \n"
     ]
    },
    {
     "name": "stderr",
     "output_type": "stream",
     "text": [
      "C:\\Users\\tsuts\\anaconda3\\lib\\site-packages\\sklearn\\feature_extraction\\text.py:383: UserWarning: Your stop_words may be inconsistent with your preprocessing. Tokenizing the stop words generated tokens ['ha', 'le', 'u', 'wa'] not in stop_words.\n",
      "  warnings.warn('Your stop_words may be inconsistent with '\n"
     ]
    },
    {
     "name": "stdout",
     "output_type": "stream",
     "text": [
      "[CV]  tvec__max_df=0.2, tvec__max_features=6000, tvec__min_df=0.01, tvec__ngram_range=(1, 2), total=   5.9s\n",
      "[CV] tvec__max_df=0.2, tvec__max_features=6000, tvec__min_df=0.01, tvec__ngram_range=(1, 2) \n"
     ]
    },
    {
     "name": "stderr",
     "output_type": "stream",
     "text": [
      "C:\\Users\\tsuts\\anaconda3\\lib\\site-packages\\sklearn\\feature_extraction\\text.py:383: UserWarning: Your stop_words may be inconsistent with your preprocessing. Tokenizing the stop words generated tokens ['ha', 'le', 'u', 'wa'] not in stop_words.\n",
      "  warnings.warn('Your stop_words may be inconsistent with '\n"
     ]
    },
    {
     "name": "stdout",
     "output_type": "stream",
     "text": [
      "[CV]  tvec__max_df=0.2, tvec__max_features=6000, tvec__min_df=0.01, tvec__ngram_range=(1, 2), total=   5.8s\n",
      "[CV] tvec__max_df=0.2, tvec__max_features=6000, tvec__min_df=0.01, tvec__ngram_range=(1, 2) \n"
     ]
    },
    {
     "name": "stderr",
     "output_type": "stream",
     "text": [
      "C:\\Users\\tsuts\\anaconda3\\lib\\site-packages\\sklearn\\feature_extraction\\text.py:383: UserWarning: Your stop_words may be inconsistent with your preprocessing. Tokenizing the stop words generated tokens ['ha', 'le', 'u', 'wa'] not in stop_words.\n",
      "  warnings.warn('Your stop_words may be inconsistent with '\n"
     ]
    },
    {
     "name": "stdout",
     "output_type": "stream",
     "text": [
      "[CV]  tvec__max_df=0.2, tvec__max_features=6000, tvec__min_df=0.01, tvec__ngram_range=(1, 2), total=   5.9s\n",
      "[CV] tvec__max_df=0.2, tvec__max_features=6000, tvec__min_df=0.02, tvec__ngram_range=(1, 1) \n"
     ]
    },
    {
     "name": "stderr",
     "output_type": "stream",
     "text": [
      "C:\\Users\\tsuts\\anaconda3\\lib\\site-packages\\sklearn\\feature_extraction\\text.py:383: UserWarning: Your stop_words may be inconsistent with your preprocessing. Tokenizing the stop words generated tokens ['ha', 'le', 'u', 'wa'] not in stop_words.\n",
      "  warnings.warn('Your stop_words may be inconsistent with '\n"
     ]
    },
    {
     "name": "stdout",
     "output_type": "stream",
     "text": [
      "[CV]  tvec__max_df=0.2, tvec__max_features=6000, tvec__min_df=0.02, tvec__ngram_range=(1, 1), total=   4.9s\n",
      "[CV] tvec__max_df=0.2, tvec__max_features=6000, tvec__min_df=0.02, tvec__ngram_range=(1, 1) \n"
     ]
    },
    {
     "name": "stderr",
     "output_type": "stream",
     "text": [
      "C:\\Users\\tsuts\\anaconda3\\lib\\site-packages\\sklearn\\feature_extraction\\text.py:383: UserWarning: Your stop_words may be inconsistent with your preprocessing. Tokenizing the stop words generated tokens ['ha', 'le', 'u', 'wa'] not in stop_words.\n",
      "  warnings.warn('Your stop_words may be inconsistent with '\n"
     ]
    },
    {
     "name": "stdout",
     "output_type": "stream",
     "text": [
      "[CV]  tvec__max_df=0.2, tvec__max_features=6000, tvec__min_df=0.02, tvec__ngram_range=(1, 1), total=   4.9s\n",
      "[CV] tvec__max_df=0.2, tvec__max_features=6000, tvec__min_df=0.02, tvec__ngram_range=(1, 1) \n"
     ]
    },
    {
     "name": "stderr",
     "output_type": "stream",
     "text": [
      "C:\\Users\\tsuts\\anaconda3\\lib\\site-packages\\sklearn\\feature_extraction\\text.py:383: UserWarning: Your stop_words may be inconsistent with your preprocessing. Tokenizing the stop words generated tokens ['ha', 'le', 'u', 'wa'] not in stop_words.\n",
      "  warnings.warn('Your stop_words may be inconsistent with '\n"
     ]
    },
    {
     "name": "stdout",
     "output_type": "stream",
     "text": [
      "[CV]  tvec__max_df=0.2, tvec__max_features=6000, tvec__min_df=0.02, tvec__ngram_range=(1, 1), total=   4.9s\n",
      "[CV] tvec__max_df=0.2, tvec__max_features=6000, tvec__min_df=0.02, tvec__ngram_range=(1, 1) \n"
     ]
    },
    {
     "name": "stderr",
     "output_type": "stream",
     "text": [
      "C:\\Users\\tsuts\\anaconda3\\lib\\site-packages\\sklearn\\feature_extraction\\text.py:383: UserWarning: Your stop_words may be inconsistent with your preprocessing. Tokenizing the stop words generated tokens ['ha', 'le', 'u', 'wa'] not in stop_words.\n",
      "  warnings.warn('Your stop_words may be inconsistent with '\n"
     ]
    },
    {
     "name": "stdout",
     "output_type": "stream",
     "text": [
      "[CV]  tvec__max_df=0.2, tvec__max_features=6000, tvec__min_df=0.02, tvec__ngram_range=(1, 1), total=   4.9s\n",
      "[CV] tvec__max_df=0.2, tvec__max_features=6000, tvec__min_df=0.02, tvec__ngram_range=(1, 1) \n"
     ]
    },
    {
     "name": "stderr",
     "output_type": "stream",
     "text": [
      "C:\\Users\\tsuts\\anaconda3\\lib\\site-packages\\sklearn\\feature_extraction\\text.py:383: UserWarning: Your stop_words may be inconsistent with your preprocessing. Tokenizing the stop words generated tokens ['ha', 'le', 'u', 'wa'] not in stop_words.\n",
      "  warnings.warn('Your stop_words may be inconsistent with '\n"
     ]
    },
    {
     "name": "stdout",
     "output_type": "stream",
     "text": [
      "[CV]  tvec__max_df=0.2, tvec__max_features=6000, tvec__min_df=0.02, tvec__ngram_range=(1, 1), total=   4.9s\n",
      "[CV] tvec__max_df=0.2, tvec__max_features=6000, tvec__min_df=0.02, tvec__ngram_range=(1, 1) \n"
     ]
    },
    {
     "name": "stderr",
     "output_type": "stream",
     "text": [
      "C:\\Users\\tsuts\\anaconda3\\lib\\site-packages\\sklearn\\feature_extraction\\text.py:383: UserWarning: Your stop_words may be inconsistent with your preprocessing. Tokenizing the stop words generated tokens ['ha', 'le', 'u', 'wa'] not in stop_words.\n",
      "  warnings.warn('Your stop_words may be inconsistent with '\n"
     ]
    },
    {
     "name": "stdout",
     "output_type": "stream",
     "text": [
      "[CV]  tvec__max_df=0.2, tvec__max_features=6000, tvec__min_df=0.02, tvec__ngram_range=(1, 1), total=   4.8s\n",
      "[CV] tvec__max_df=0.2, tvec__max_features=6000, tvec__min_df=0.02, tvec__ngram_range=(1, 1) \n"
     ]
    },
    {
     "name": "stderr",
     "output_type": "stream",
     "text": [
      "C:\\Users\\tsuts\\anaconda3\\lib\\site-packages\\sklearn\\feature_extraction\\text.py:383: UserWarning: Your stop_words may be inconsistent with your preprocessing. Tokenizing the stop words generated tokens ['ha', 'le', 'u', 'wa'] not in stop_words.\n",
      "  warnings.warn('Your stop_words may be inconsistent with '\n"
     ]
    },
    {
     "name": "stdout",
     "output_type": "stream",
     "text": [
      "[CV]  tvec__max_df=0.2, tvec__max_features=6000, tvec__min_df=0.02, tvec__ngram_range=(1, 1), total=   4.8s\n",
      "[CV] tvec__max_df=0.2, tvec__max_features=6000, tvec__min_df=0.02, tvec__ngram_range=(1, 1) \n"
     ]
    },
    {
     "name": "stderr",
     "output_type": "stream",
     "text": [
      "C:\\Users\\tsuts\\anaconda3\\lib\\site-packages\\sklearn\\feature_extraction\\text.py:383: UserWarning: Your stop_words may be inconsistent with your preprocessing. Tokenizing the stop words generated tokens ['ha', 'le', 'u', 'wa'] not in stop_words.\n",
      "  warnings.warn('Your stop_words may be inconsistent with '\n"
     ]
    },
    {
     "name": "stdout",
     "output_type": "stream",
     "text": [
      "[CV]  tvec__max_df=0.2, tvec__max_features=6000, tvec__min_df=0.02, tvec__ngram_range=(1, 1), total=   4.8s\n",
      "[CV] tvec__max_df=0.2, tvec__max_features=6000, tvec__min_df=0.02, tvec__ngram_range=(1, 1) \n"
     ]
    },
    {
     "name": "stderr",
     "output_type": "stream",
     "text": [
      "C:\\Users\\tsuts\\anaconda3\\lib\\site-packages\\sklearn\\feature_extraction\\text.py:383: UserWarning: Your stop_words may be inconsistent with your preprocessing. Tokenizing the stop words generated tokens ['ha', 'le', 'u', 'wa'] not in stop_words.\n",
      "  warnings.warn('Your stop_words may be inconsistent with '\n"
     ]
    },
    {
     "name": "stdout",
     "output_type": "stream",
     "text": [
      "[CV]  tvec__max_df=0.2, tvec__max_features=6000, tvec__min_df=0.02, tvec__ngram_range=(1, 1), total=   4.9s\n",
      "[CV] tvec__max_df=0.2, tvec__max_features=6000, tvec__min_df=0.02, tvec__ngram_range=(1, 1) \n"
     ]
    },
    {
     "name": "stderr",
     "output_type": "stream",
     "text": [
      "C:\\Users\\tsuts\\anaconda3\\lib\\site-packages\\sklearn\\feature_extraction\\text.py:383: UserWarning: Your stop_words may be inconsistent with your preprocessing. Tokenizing the stop words generated tokens ['ha', 'le', 'u', 'wa'] not in stop_words.\n",
      "  warnings.warn('Your stop_words may be inconsistent with '\n"
     ]
    },
    {
     "name": "stdout",
     "output_type": "stream",
     "text": [
      "[CV]  tvec__max_df=0.2, tvec__max_features=6000, tvec__min_df=0.02, tvec__ngram_range=(1, 1), total=   4.8s\n",
      "[CV] tvec__max_df=0.2, tvec__max_features=6000, tvec__min_df=0.02, tvec__ngram_range=(1, 2) \n"
     ]
    },
    {
     "name": "stderr",
     "output_type": "stream",
     "text": [
      "C:\\Users\\tsuts\\anaconda3\\lib\\site-packages\\sklearn\\feature_extraction\\text.py:383: UserWarning: Your stop_words may be inconsistent with your preprocessing. Tokenizing the stop words generated tokens ['ha', 'le', 'u', 'wa'] not in stop_words.\n",
      "  warnings.warn('Your stop_words may be inconsistent with '\n"
     ]
    },
    {
     "name": "stdout",
     "output_type": "stream",
     "text": [
      "[CV]  tvec__max_df=0.2, tvec__max_features=6000, tvec__min_df=0.02, tvec__ngram_range=(1, 2), total=   5.9s\n",
      "[CV] tvec__max_df=0.2, tvec__max_features=6000, tvec__min_df=0.02, tvec__ngram_range=(1, 2) \n"
     ]
    },
    {
     "name": "stderr",
     "output_type": "stream",
     "text": [
      "C:\\Users\\tsuts\\anaconda3\\lib\\site-packages\\sklearn\\feature_extraction\\text.py:383: UserWarning: Your stop_words may be inconsistent with your preprocessing. Tokenizing the stop words generated tokens ['ha', 'le', 'u', 'wa'] not in stop_words.\n",
      "  warnings.warn('Your stop_words may be inconsistent with '\n"
     ]
    },
    {
     "name": "stdout",
     "output_type": "stream",
     "text": [
      "[CV]  tvec__max_df=0.2, tvec__max_features=6000, tvec__min_df=0.02, tvec__ngram_range=(1, 2), total=   6.0s\n",
      "[CV] tvec__max_df=0.2, tvec__max_features=6000, tvec__min_df=0.02, tvec__ngram_range=(1, 2) \n"
     ]
    },
    {
     "name": "stderr",
     "output_type": "stream",
     "text": [
      "C:\\Users\\tsuts\\anaconda3\\lib\\site-packages\\sklearn\\feature_extraction\\text.py:383: UserWarning: Your stop_words may be inconsistent with your preprocessing. Tokenizing the stop words generated tokens ['ha', 'le', 'u', 'wa'] not in stop_words.\n",
      "  warnings.warn('Your stop_words may be inconsistent with '\n"
     ]
    },
    {
     "name": "stdout",
     "output_type": "stream",
     "text": [
      "[CV]  tvec__max_df=0.2, tvec__max_features=6000, tvec__min_df=0.02, tvec__ngram_range=(1, 2), total=   6.0s\n",
      "[CV] tvec__max_df=0.2, tvec__max_features=6000, tvec__min_df=0.02, tvec__ngram_range=(1, 2) \n"
     ]
    },
    {
     "name": "stderr",
     "output_type": "stream",
     "text": [
      "C:\\Users\\tsuts\\anaconda3\\lib\\site-packages\\sklearn\\feature_extraction\\text.py:383: UserWarning: Your stop_words may be inconsistent with your preprocessing. Tokenizing the stop words generated tokens ['ha', 'le', 'u', 'wa'] not in stop_words.\n",
      "  warnings.warn('Your stop_words may be inconsistent with '\n"
     ]
    },
    {
     "name": "stdout",
     "output_type": "stream",
     "text": [
      "[CV]  tvec__max_df=0.2, tvec__max_features=6000, tvec__min_df=0.02, tvec__ngram_range=(1, 2), total=   5.9s\n",
      "[CV] tvec__max_df=0.2, tvec__max_features=6000, tvec__min_df=0.02, tvec__ngram_range=(1, 2) \n"
     ]
    },
    {
     "name": "stderr",
     "output_type": "stream",
     "text": [
      "C:\\Users\\tsuts\\anaconda3\\lib\\site-packages\\sklearn\\feature_extraction\\text.py:383: UserWarning: Your stop_words may be inconsistent with your preprocessing. Tokenizing the stop words generated tokens ['ha', 'le', 'u', 'wa'] not in stop_words.\n",
      "  warnings.warn('Your stop_words may be inconsistent with '\n"
     ]
    },
    {
     "name": "stdout",
     "output_type": "stream",
     "text": [
      "[CV]  tvec__max_df=0.2, tvec__max_features=6000, tvec__min_df=0.02, tvec__ngram_range=(1, 2), total=   5.8s\n",
      "[CV] tvec__max_df=0.2, tvec__max_features=6000, tvec__min_df=0.02, tvec__ngram_range=(1, 2) \n"
     ]
    },
    {
     "name": "stderr",
     "output_type": "stream",
     "text": [
      "C:\\Users\\tsuts\\anaconda3\\lib\\site-packages\\sklearn\\feature_extraction\\text.py:383: UserWarning: Your stop_words may be inconsistent with your preprocessing. Tokenizing the stop words generated tokens ['ha', 'le', 'u', 'wa'] not in stop_words.\n",
      "  warnings.warn('Your stop_words may be inconsistent with '\n"
     ]
    },
    {
     "name": "stdout",
     "output_type": "stream",
     "text": [
      "[CV]  tvec__max_df=0.2, tvec__max_features=6000, tvec__min_df=0.02, tvec__ngram_range=(1, 2), total=   5.8s\n",
      "[CV] tvec__max_df=0.2, tvec__max_features=6000, tvec__min_df=0.02, tvec__ngram_range=(1, 2) \n"
     ]
    },
    {
     "name": "stderr",
     "output_type": "stream",
     "text": [
      "C:\\Users\\tsuts\\anaconda3\\lib\\site-packages\\sklearn\\feature_extraction\\text.py:383: UserWarning: Your stop_words may be inconsistent with your preprocessing. Tokenizing the stop words generated tokens ['ha', 'le', 'u', 'wa'] not in stop_words.\n",
      "  warnings.warn('Your stop_words may be inconsistent with '\n"
     ]
    },
    {
     "name": "stdout",
     "output_type": "stream",
     "text": [
      "[CV]  tvec__max_df=0.2, tvec__max_features=6000, tvec__min_df=0.02, tvec__ngram_range=(1, 2), total=   5.9s\n",
      "[CV] tvec__max_df=0.2, tvec__max_features=6000, tvec__min_df=0.02, tvec__ngram_range=(1, 2) \n"
     ]
    },
    {
     "name": "stderr",
     "output_type": "stream",
     "text": [
      "C:\\Users\\tsuts\\anaconda3\\lib\\site-packages\\sklearn\\feature_extraction\\text.py:383: UserWarning: Your stop_words may be inconsistent with your preprocessing. Tokenizing the stop words generated tokens ['ha', 'le', 'u', 'wa'] not in stop_words.\n",
      "  warnings.warn('Your stop_words may be inconsistent with '\n"
     ]
    },
    {
     "name": "stdout",
     "output_type": "stream",
     "text": [
      "[CV]  tvec__max_df=0.2, tvec__max_features=6000, tvec__min_df=0.02, tvec__ngram_range=(1, 2), total=   5.7s\n",
      "[CV] tvec__max_df=0.2, tvec__max_features=6000, tvec__min_df=0.02, tvec__ngram_range=(1, 2) \n"
     ]
    },
    {
     "name": "stderr",
     "output_type": "stream",
     "text": [
      "C:\\Users\\tsuts\\anaconda3\\lib\\site-packages\\sklearn\\feature_extraction\\text.py:383: UserWarning: Your stop_words may be inconsistent with your preprocessing. Tokenizing the stop words generated tokens ['ha', 'le', 'u', 'wa'] not in stop_words.\n",
      "  warnings.warn('Your stop_words may be inconsistent with '\n"
     ]
    },
    {
     "name": "stdout",
     "output_type": "stream",
     "text": [
      "[CV]  tvec__max_df=0.2, tvec__max_features=6000, tvec__min_df=0.02, tvec__ngram_range=(1, 2), total=   5.8s\n",
      "[CV] tvec__max_df=0.2, tvec__max_features=6000, tvec__min_df=0.02, tvec__ngram_range=(1, 2) \n"
     ]
    },
    {
     "name": "stderr",
     "output_type": "stream",
     "text": [
      "C:\\Users\\tsuts\\anaconda3\\lib\\site-packages\\sklearn\\feature_extraction\\text.py:383: UserWarning: Your stop_words may be inconsistent with your preprocessing. Tokenizing the stop words generated tokens ['ha', 'le', 'u', 'wa'] not in stop_words.\n",
      "  warnings.warn('Your stop_words may be inconsistent with '\n"
     ]
    },
    {
     "name": "stdout",
     "output_type": "stream",
     "text": [
      "[CV]  tvec__max_df=0.2, tvec__max_features=6000, tvec__min_df=0.02, tvec__ngram_range=(1, 2), total=   5.8s\n",
      "[CV] tvec__max_df=0.2, tvec__max_features=7000, tvec__min_df=2, tvec__ngram_range=(1, 1) \n"
     ]
    },
    {
     "name": "stderr",
     "output_type": "stream",
     "text": [
      "C:\\Users\\tsuts\\anaconda3\\lib\\site-packages\\sklearn\\feature_extraction\\text.py:383: UserWarning: Your stop_words may be inconsistent with your preprocessing. Tokenizing the stop words generated tokens ['ha', 'le', 'u', 'wa'] not in stop_words.\n",
      "  warnings.warn('Your stop_words may be inconsistent with '\n"
     ]
    },
    {
     "name": "stdout",
     "output_type": "stream",
     "text": [
      "[CV]  tvec__max_df=0.2, tvec__max_features=7000, tvec__min_df=2, tvec__ngram_range=(1, 1), total=   4.8s\n",
      "[CV] tvec__max_df=0.2, tvec__max_features=7000, tvec__min_df=2, tvec__ngram_range=(1, 1) \n"
     ]
    },
    {
     "name": "stderr",
     "output_type": "stream",
     "text": [
      "C:\\Users\\tsuts\\anaconda3\\lib\\site-packages\\sklearn\\feature_extraction\\text.py:383: UserWarning: Your stop_words may be inconsistent with your preprocessing. Tokenizing the stop words generated tokens ['ha', 'le', 'u', 'wa'] not in stop_words.\n",
      "  warnings.warn('Your stop_words may be inconsistent with '\n"
     ]
    },
    {
     "name": "stdout",
     "output_type": "stream",
     "text": [
      "[CV]  tvec__max_df=0.2, tvec__max_features=7000, tvec__min_df=2, tvec__ngram_range=(1, 1), total=   5.0s\n",
      "[CV] tvec__max_df=0.2, tvec__max_features=7000, tvec__min_df=2, tvec__ngram_range=(1, 1) \n"
     ]
    },
    {
     "name": "stderr",
     "output_type": "stream",
     "text": [
      "C:\\Users\\tsuts\\anaconda3\\lib\\site-packages\\sklearn\\feature_extraction\\text.py:383: UserWarning: Your stop_words may be inconsistent with your preprocessing. Tokenizing the stop words generated tokens ['ha', 'le', 'u', 'wa'] not in stop_words.\n",
      "  warnings.warn('Your stop_words may be inconsistent with '\n"
     ]
    },
    {
     "name": "stdout",
     "output_type": "stream",
     "text": [
      "[CV]  tvec__max_df=0.2, tvec__max_features=7000, tvec__min_df=2, tvec__ngram_range=(1, 1), total=   4.8s\n",
      "[CV] tvec__max_df=0.2, tvec__max_features=7000, tvec__min_df=2, tvec__ngram_range=(1, 1) \n"
     ]
    },
    {
     "name": "stderr",
     "output_type": "stream",
     "text": [
      "C:\\Users\\tsuts\\anaconda3\\lib\\site-packages\\sklearn\\feature_extraction\\text.py:383: UserWarning: Your stop_words may be inconsistent with your preprocessing. Tokenizing the stop words generated tokens ['ha', 'le', 'u', 'wa'] not in stop_words.\n",
      "  warnings.warn('Your stop_words may be inconsistent with '\n"
     ]
    },
    {
     "name": "stdout",
     "output_type": "stream",
     "text": [
      "[CV]  tvec__max_df=0.2, tvec__max_features=7000, tvec__min_df=2, tvec__ngram_range=(1, 1), total=   4.9s\n",
      "[CV] tvec__max_df=0.2, tvec__max_features=7000, tvec__min_df=2, tvec__ngram_range=(1, 1) \n"
     ]
    },
    {
     "name": "stderr",
     "output_type": "stream",
     "text": [
      "C:\\Users\\tsuts\\anaconda3\\lib\\site-packages\\sklearn\\feature_extraction\\text.py:383: UserWarning: Your stop_words may be inconsistent with your preprocessing. Tokenizing the stop words generated tokens ['ha', 'le', 'u', 'wa'] not in stop_words.\n",
      "  warnings.warn('Your stop_words may be inconsistent with '\n"
     ]
    },
    {
     "name": "stdout",
     "output_type": "stream",
     "text": [
      "[CV]  tvec__max_df=0.2, tvec__max_features=7000, tvec__min_df=2, tvec__ngram_range=(1, 1), total=   4.9s\n",
      "[CV] tvec__max_df=0.2, tvec__max_features=7000, tvec__min_df=2, tvec__ngram_range=(1, 1) \n"
     ]
    },
    {
     "name": "stderr",
     "output_type": "stream",
     "text": [
      "C:\\Users\\tsuts\\anaconda3\\lib\\site-packages\\sklearn\\feature_extraction\\text.py:383: UserWarning: Your stop_words may be inconsistent with your preprocessing. Tokenizing the stop words generated tokens ['ha', 'le', 'u', 'wa'] not in stop_words.\n",
      "  warnings.warn('Your stop_words may be inconsistent with '\n"
     ]
    },
    {
     "name": "stdout",
     "output_type": "stream",
     "text": [
      "[CV]  tvec__max_df=0.2, tvec__max_features=7000, tvec__min_df=2, tvec__ngram_range=(1, 1), total=   4.9s\n",
      "[CV] tvec__max_df=0.2, tvec__max_features=7000, tvec__min_df=2, tvec__ngram_range=(1, 1) \n"
     ]
    },
    {
     "name": "stderr",
     "output_type": "stream",
     "text": [
      "C:\\Users\\tsuts\\anaconda3\\lib\\site-packages\\sklearn\\feature_extraction\\text.py:383: UserWarning: Your stop_words may be inconsistent with your preprocessing. Tokenizing the stop words generated tokens ['ha', 'le', 'u', 'wa'] not in stop_words.\n",
      "  warnings.warn('Your stop_words may be inconsistent with '\n"
     ]
    },
    {
     "name": "stdout",
     "output_type": "stream",
     "text": [
      "[CV]  tvec__max_df=0.2, tvec__max_features=7000, tvec__min_df=2, tvec__ngram_range=(1, 1), total=   4.9s\n",
      "[CV] tvec__max_df=0.2, tvec__max_features=7000, tvec__min_df=2, tvec__ngram_range=(1, 1) \n"
     ]
    },
    {
     "name": "stderr",
     "output_type": "stream",
     "text": [
      "C:\\Users\\tsuts\\anaconda3\\lib\\site-packages\\sklearn\\feature_extraction\\text.py:383: UserWarning: Your stop_words may be inconsistent with your preprocessing. Tokenizing the stop words generated tokens ['ha', 'le', 'u', 'wa'] not in stop_words.\n",
      "  warnings.warn('Your stop_words may be inconsistent with '\n"
     ]
    },
    {
     "name": "stdout",
     "output_type": "stream",
     "text": [
      "[CV]  tvec__max_df=0.2, tvec__max_features=7000, tvec__min_df=2, tvec__ngram_range=(1, 1), total=   4.9s\n",
      "[CV] tvec__max_df=0.2, tvec__max_features=7000, tvec__min_df=2, tvec__ngram_range=(1, 1) \n"
     ]
    },
    {
     "name": "stderr",
     "output_type": "stream",
     "text": [
      "C:\\Users\\tsuts\\anaconda3\\lib\\site-packages\\sklearn\\feature_extraction\\text.py:383: UserWarning: Your stop_words may be inconsistent with your preprocessing. Tokenizing the stop words generated tokens ['ha', 'le', 'u', 'wa'] not in stop_words.\n",
      "  warnings.warn('Your stop_words may be inconsistent with '\n"
     ]
    },
    {
     "name": "stdout",
     "output_type": "stream",
     "text": [
      "[CV]  tvec__max_df=0.2, tvec__max_features=7000, tvec__min_df=2, tvec__ngram_range=(1, 1), total=   4.7s\n",
      "[CV] tvec__max_df=0.2, tvec__max_features=7000, tvec__min_df=2, tvec__ngram_range=(1, 1) \n"
     ]
    },
    {
     "name": "stderr",
     "output_type": "stream",
     "text": [
      "C:\\Users\\tsuts\\anaconda3\\lib\\site-packages\\sklearn\\feature_extraction\\text.py:383: UserWarning: Your stop_words may be inconsistent with your preprocessing. Tokenizing the stop words generated tokens ['ha', 'le', 'u', 'wa'] not in stop_words.\n",
      "  warnings.warn('Your stop_words may be inconsistent with '\n"
     ]
    },
    {
     "name": "stdout",
     "output_type": "stream",
     "text": [
      "[CV]  tvec__max_df=0.2, tvec__max_features=7000, tvec__min_df=2, tvec__ngram_range=(1, 1), total=   4.9s\n",
      "[CV] tvec__max_df=0.2, tvec__max_features=7000, tvec__min_df=2, tvec__ngram_range=(1, 2) \n"
     ]
    },
    {
     "name": "stderr",
     "output_type": "stream",
     "text": [
      "C:\\Users\\tsuts\\anaconda3\\lib\\site-packages\\sklearn\\feature_extraction\\text.py:383: UserWarning: Your stop_words may be inconsistent with your preprocessing. Tokenizing the stop words generated tokens ['ha', 'le', 'u', 'wa'] not in stop_words.\n",
      "  warnings.warn('Your stop_words may be inconsistent with '\n"
     ]
    },
    {
     "name": "stdout",
     "output_type": "stream",
     "text": [
      "[CV]  tvec__max_df=0.2, tvec__max_features=7000, tvec__min_df=2, tvec__ngram_range=(1, 2), total=   5.7s\n",
      "[CV] tvec__max_df=0.2, tvec__max_features=7000, tvec__min_df=2, tvec__ngram_range=(1, 2) \n"
     ]
    },
    {
     "name": "stderr",
     "output_type": "stream",
     "text": [
      "C:\\Users\\tsuts\\anaconda3\\lib\\site-packages\\sklearn\\feature_extraction\\text.py:383: UserWarning: Your stop_words may be inconsistent with your preprocessing. Tokenizing the stop words generated tokens ['ha', 'le', 'u', 'wa'] not in stop_words.\n",
      "  warnings.warn('Your stop_words may be inconsistent with '\n"
     ]
    },
    {
     "name": "stdout",
     "output_type": "stream",
     "text": [
      "[CV]  tvec__max_df=0.2, tvec__max_features=7000, tvec__min_df=2, tvec__ngram_range=(1, 2), total=   5.6s\n",
      "[CV] tvec__max_df=0.2, tvec__max_features=7000, tvec__min_df=2, tvec__ngram_range=(1, 2) \n"
     ]
    },
    {
     "name": "stderr",
     "output_type": "stream",
     "text": [
      "C:\\Users\\tsuts\\anaconda3\\lib\\site-packages\\sklearn\\feature_extraction\\text.py:383: UserWarning: Your stop_words may be inconsistent with your preprocessing. Tokenizing the stop words generated tokens ['ha', 'le', 'u', 'wa'] not in stop_words.\n",
      "  warnings.warn('Your stop_words may be inconsistent with '\n"
     ]
    },
    {
     "name": "stdout",
     "output_type": "stream",
     "text": [
      "[CV]  tvec__max_df=0.2, tvec__max_features=7000, tvec__min_df=2, tvec__ngram_range=(1, 2), total=   5.8s\n",
      "[CV] tvec__max_df=0.2, tvec__max_features=7000, tvec__min_df=2, tvec__ngram_range=(1, 2) \n"
     ]
    },
    {
     "name": "stderr",
     "output_type": "stream",
     "text": [
      "C:\\Users\\tsuts\\anaconda3\\lib\\site-packages\\sklearn\\feature_extraction\\text.py:383: UserWarning: Your stop_words may be inconsistent with your preprocessing. Tokenizing the stop words generated tokens ['ha', 'le', 'u', 'wa'] not in stop_words.\n",
      "  warnings.warn('Your stop_words may be inconsistent with '\n"
     ]
    },
    {
     "name": "stdout",
     "output_type": "stream",
     "text": [
      "[CV]  tvec__max_df=0.2, tvec__max_features=7000, tvec__min_df=2, tvec__ngram_range=(1, 2), total=   5.9s\n",
      "[CV] tvec__max_df=0.2, tvec__max_features=7000, tvec__min_df=2, tvec__ngram_range=(1, 2) \n"
     ]
    },
    {
     "name": "stderr",
     "output_type": "stream",
     "text": [
      "C:\\Users\\tsuts\\anaconda3\\lib\\site-packages\\sklearn\\feature_extraction\\text.py:383: UserWarning: Your stop_words may be inconsistent with your preprocessing. Tokenizing the stop words generated tokens ['ha', 'le', 'u', 'wa'] not in stop_words.\n",
      "  warnings.warn('Your stop_words may be inconsistent with '\n"
     ]
    },
    {
     "name": "stdout",
     "output_type": "stream",
     "text": [
      "[CV]  tvec__max_df=0.2, tvec__max_features=7000, tvec__min_df=2, tvec__ngram_range=(1, 2), total=   5.7s\n",
      "[CV] tvec__max_df=0.2, tvec__max_features=7000, tvec__min_df=2, tvec__ngram_range=(1, 2) \n"
     ]
    },
    {
     "name": "stderr",
     "output_type": "stream",
     "text": [
      "C:\\Users\\tsuts\\anaconda3\\lib\\site-packages\\sklearn\\feature_extraction\\text.py:383: UserWarning: Your stop_words may be inconsistent with your preprocessing. Tokenizing the stop words generated tokens ['ha', 'le', 'u', 'wa'] not in stop_words.\n",
      "  warnings.warn('Your stop_words may be inconsistent with '\n"
     ]
    },
    {
     "name": "stdout",
     "output_type": "stream",
     "text": [
      "[CV]  tvec__max_df=0.2, tvec__max_features=7000, tvec__min_df=2, tvec__ngram_range=(1, 2), total=   5.9s\n",
      "[CV] tvec__max_df=0.2, tvec__max_features=7000, tvec__min_df=2, tvec__ngram_range=(1, 2) \n"
     ]
    },
    {
     "name": "stderr",
     "output_type": "stream",
     "text": [
      "C:\\Users\\tsuts\\anaconda3\\lib\\site-packages\\sklearn\\feature_extraction\\text.py:383: UserWarning: Your stop_words may be inconsistent with your preprocessing. Tokenizing the stop words generated tokens ['ha', 'le', 'u', 'wa'] not in stop_words.\n",
      "  warnings.warn('Your stop_words may be inconsistent with '\n"
     ]
    },
    {
     "name": "stdout",
     "output_type": "stream",
     "text": [
      "[CV]  tvec__max_df=0.2, tvec__max_features=7000, tvec__min_df=2, tvec__ngram_range=(1, 2), total=   5.9s\n",
      "[CV] tvec__max_df=0.2, tvec__max_features=7000, tvec__min_df=2, tvec__ngram_range=(1, 2) \n"
     ]
    },
    {
     "name": "stderr",
     "output_type": "stream",
     "text": [
      "C:\\Users\\tsuts\\anaconda3\\lib\\site-packages\\sklearn\\feature_extraction\\text.py:383: UserWarning: Your stop_words may be inconsistent with your preprocessing. Tokenizing the stop words generated tokens ['ha', 'le', 'u', 'wa'] not in stop_words.\n",
      "  warnings.warn('Your stop_words may be inconsistent with '\n"
     ]
    },
    {
     "name": "stdout",
     "output_type": "stream",
     "text": [
      "[CV]  tvec__max_df=0.2, tvec__max_features=7000, tvec__min_df=2, tvec__ngram_range=(1, 2), total=   5.7s\n",
      "[CV] tvec__max_df=0.2, tvec__max_features=7000, tvec__min_df=2, tvec__ngram_range=(1, 2) \n"
     ]
    },
    {
     "name": "stderr",
     "output_type": "stream",
     "text": [
      "C:\\Users\\tsuts\\anaconda3\\lib\\site-packages\\sklearn\\feature_extraction\\text.py:383: UserWarning: Your stop_words may be inconsistent with your preprocessing. Tokenizing the stop words generated tokens ['ha', 'le', 'u', 'wa'] not in stop_words.\n",
      "  warnings.warn('Your stop_words may be inconsistent with '\n"
     ]
    },
    {
     "name": "stdout",
     "output_type": "stream",
     "text": [
      "[CV]  tvec__max_df=0.2, tvec__max_features=7000, tvec__min_df=2, tvec__ngram_range=(1, 2), total=   5.7s\n",
      "[CV] tvec__max_df=0.2, tvec__max_features=7000, tvec__min_df=2, tvec__ngram_range=(1, 2) \n"
     ]
    },
    {
     "name": "stderr",
     "output_type": "stream",
     "text": [
      "C:\\Users\\tsuts\\anaconda3\\lib\\site-packages\\sklearn\\feature_extraction\\text.py:383: UserWarning: Your stop_words may be inconsistent with your preprocessing. Tokenizing the stop words generated tokens ['ha', 'le', 'u', 'wa'] not in stop_words.\n",
      "  warnings.warn('Your stop_words may be inconsistent with '\n"
     ]
    },
    {
     "name": "stdout",
     "output_type": "stream",
     "text": [
      "[CV]  tvec__max_df=0.2, tvec__max_features=7000, tvec__min_df=2, tvec__ngram_range=(1, 2), total=   5.7s\n",
      "[CV] tvec__max_df=0.2, tvec__max_features=7000, tvec__min_df=0.01, tvec__ngram_range=(1, 1) \n"
     ]
    },
    {
     "name": "stderr",
     "output_type": "stream",
     "text": [
      "C:\\Users\\tsuts\\anaconda3\\lib\\site-packages\\sklearn\\feature_extraction\\text.py:383: UserWarning: Your stop_words may be inconsistent with your preprocessing. Tokenizing the stop words generated tokens ['ha', 'le', 'u', 'wa'] not in stop_words.\n",
      "  warnings.warn('Your stop_words may be inconsistent with '\n"
     ]
    },
    {
     "name": "stdout",
     "output_type": "stream",
     "text": [
      "[CV]  tvec__max_df=0.2, tvec__max_features=7000, tvec__min_df=0.01, tvec__ngram_range=(1, 1), total=   4.9s\n",
      "[CV] tvec__max_df=0.2, tvec__max_features=7000, tvec__min_df=0.01, tvec__ngram_range=(1, 1) \n"
     ]
    },
    {
     "name": "stderr",
     "output_type": "stream",
     "text": [
      "C:\\Users\\tsuts\\anaconda3\\lib\\site-packages\\sklearn\\feature_extraction\\text.py:383: UserWarning: Your stop_words may be inconsistent with your preprocessing. Tokenizing the stop words generated tokens ['ha', 'le', 'u', 'wa'] not in stop_words.\n",
      "  warnings.warn('Your stop_words may be inconsistent with '\n"
     ]
    },
    {
     "name": "stdout",
     "output_type": "stream",
     "text": [
      "[CV]  tvec__max_df=0.2, tvec__max_features=7000, tvec__min_df=0.01, tvec__ngram_range=(1, 1), total=   4.8s\n",
      "[CV] tvec__max_df=0.2, tvec__max_features=7000, tvec__min_df=0.01, tvec__ngram_range=(1, 1) \n"
     ]
    },
    {
     "name": "stderr",
     "output_type": "stream",
     "text": [
      "C:\\Users\\tsuts\\anaconda3\\lib\\site-packages\\sklearn\\feature_extraction\\text.py:383: UserWarning: Your stop_words may be inconsistent with your preprocessing. Tokenizing the stop words generated tokens ['ha', 'le', 'u', 'wa'] not in stop_words.\n",
      "  warnings.warn('Your stop_words may be inconsistent with '\n"
     ]
    },
    {
     "name": "stdout",
     "output_type": "stream",
     "text": [
      "[CV]  tvec__max_df=0.2, tvec__max_features=7000, tvec__min_df=0.01, tvec__ngram_range=(1, 1), total=   4.9s\n",
      "[CV] tvec__max_df=0.2, tvec__max_features=7000, tvec__min_df=0.01, tvec__ngram_range=(1, 1) \n"
     ]
    },
    {
     "name": "stderr",
     "output_type": "stream",
     "text": [
      "C:\\Users\\tsuts\\anaconda3\\lib\\site-packages\\sklearn\\feature_extraction\\text.py:383: UserWarning: Your stop_words may be inconsistent with your preprocessing. Tokenizing the stop words generated tokens ['ha', 'le', 'u', 'wa'] not in stop_words.\n",
      "  warnings.warn('Your stop_words may be inconsistent with '\n"
     ]
    },
    {
     "name": "stdout",
     "output_type": "stream",
     "text": [
      "[CV]  tvec__max_df=0.2, tvec__max_features=7000, tvec__min_df=0.01, tvec__ngram_range=(1, 1), total=   4.9s\n",
      "[CV] tvec__max_df=0.2, tvec__max_features=7000, tvec__min_df=0.01, tvec__ngram_range=(1, 1) \n"
     ]
    },
    {
     "name": "stderr",
     "output_type": "stream",
     "text": [
      "C:\\Users\\tsuts\\anaconda3\\lib\\site-packages\\sklearn\\feature_extraction\\text.py:383: UserWarning: Your stop_words may be inconsistent with your preprocessing. Tokenizing the stop words generated tokens ['ha', 'le', 'u', 'wa'] not in stop_words.\n",
      "  warnings.warn('Your stop_words may be inconsistent with '\n"
     ]
    },
    {
     "name": "stdout",
     "output_type": "stream",
     "text": [
      "[CV]  tvec__max_df=0.2, tvec__max_features=7000, tvec__min_df=0.01, tvec__ngram_range=(1, 1), total=   4.8s\n",
      "[CV] tvec__max_df=0.2, tvec__max_features=7000, tvec__min_df=0.01, tvec__ngram_range=(1, 1) \n"
     ]
    },
    {
     "name": "stderr",
     "output_type": "stream",
     "text": [
      "C:\\Users\\tsuts\\anaconda3\\lib\\site-packages\\sklearn\\feature_extraction\\text.py:383: UserWarning: Your stop_words may be inconsistent with your preprocessing. Tokenizing the stop words generated tokens ['ha', 'le', 'u', 'wa'] not in stop_words.\n",
      "  warnings.warn('Your stop_words may be inconsistent with '\n"
     ]
    },
    {
     "name": "stdout",
     "output_type": "stream",
     "text": [
      "[CV]  tvec__max_df=0.2, tvec__max_features=7000, tvec__min_df=0.01, tvec__ngram_range=(1, 1), total=   4.8s\n",
      "[CV] tvec__max_df=0.2, tvec__max_features=7000, tvec__min_df=0.01, tvec__ngram_range=(1, 1) \n"
     ]
    },
    {
     "name": "stderr",
     "output_type": "stream",
     "text": [
      "C:\\Users\\tsuts\\anaconda3\\lib\\site-packages\\sklearn\\feature_extraction\\text.py:383: UserWarning: Your stop_words may be inconsistent with your preprocessing. Tokenizing the stop words generated tokens ['ha', 'le', 'u', 'wa'] not in stop_words.\n",
      "  warnings.warn('Your stop_words may be inconsistent with '\n"
     ]
    },
    {
     "name": "stdout",
     "output_type": "stream",
     "text": [
      "[CV]  tvec__max_df=0.2, tvec__max_features=7000, tvec__min_df=0.01, tvec__ngram_range=(1, 1), total=   4.8s\n",
      "[CV] tvec__max_df=0.2, tvec__max_features=7000, tvec__min_df=0.01, tvec__ngram_range=(1, 1) \n"
     ]
    },
    {
     "name": "stderr",
     "output_type": "stream",
     "text": [
      "C:\\Users\\tsuts\\anaconda3\\lib\\site-packages\\sklearn\\feature_extraction\\text.py:383: UserWarning: Your stop_words may be inconsistent with your preprocessing. Tokenizing the stop words generated tokens ['ha', 'le', 'u', 'wa'] not in stop_words.\n",
      "  warnings.warn('Your stop_words may be inconsistent with '\n"
     ]
    },
    {
     "name": "stdout",
     "output_type": "stream",
     "text": [
      "[CV]  tvec__max_df=0.2, tvec__max_features=7000, tvec__min_df=0.01, tvec__ngram_range=(1, 1), total=   4.9s\n",
      "[CV] tvec__max_df=0.2, tvec__max_features=7000, tvec__min_df=0.01, tvec__ngram_range=(1, 1) \n"
     ]
    },
    {
     "name": "stderr",
     "output_type": "stream",
     "text": [
      "C:\\Users\\tsuts\\anaconda3\\lib\\site-packages\\sklearn\\feature_extraction\\text.py:383: UserWarning: Your stop_words may be inconsistent with your preprocessing. Tokenizing the stop words generated tokens ['ha', 'le', 'u', 'wa'] not in stop_words.\n",
      "  warnings.warn('Your stop_words may be inconsistent with '\n"
     ]
    },
    {
     "name": "stdout",
     "output_type": "stream",
     "text": [
      "[CV]  tvec__max_df=0.2, tvec__max_features=7000, tvec__min_df=0.01, tvec__ngram_range=(1, 1), total=   4.9s\n",
      "[CV] tvec__max_df=0.2, tvec__max_features=7000, tvec__min_df=0.01, tvec__ngram_range=(1, 1) \n"
     ]
    },
    {
     "name": "stderr",
     "output_type": "stream",
     "text": [
      "C:\\Users\\tsuts\\anaconda3\\lib\\site-packages\\sklearn\\feature_extraction\\text.py:383: UserWarning: Your stop_words may be inconsistent with your preprocessing. Tokenizing the stop words generated tokens ['ha', 'le', 'u', 'wa'] not in stop_words.\n",
      "  warnings.warn('Your stop_words may be inconsistent with '\n"
     ]
    },
    {
     "name": "stdout",
     "output_type": "stream",
     "text": [
      "[CV]  tvec__max_df=0.2, tvec__max_features=7000, tvec__min_df=0.01, tvec__ngram_range=(1, 1), total=   4.7s\n",
      "[CV] tvec__max_df=0.2, tvec__max_features=7000, tvec__min_df=0.01, tvec__ngram_range=(1, 2) \n"
     ]
    },
    {
     "name": "stderr",
     "output_type": "stream",
     "text": [
      "C:\\Users\\tsuts\\anaconda3\\lib\\site-packages\\sklearn\\feature_extraction\\text.py:383: UserWarning: Your stop_words may be inconsistent with your preprocessing. Tokenizing the stop words generated tokens ['ha', 'le', 'u', 'wa'] not in stop_words.\n",
      "  warnings.warn('Your stop_words may be inconsistent with '\n"
     ]
    },
    {
     "name": "stdout",
     "output_type": "stream",
     "text": [
      "[CV]  tvec__max_df=0.2, tvec__max_features=7000, tvec__min_df=0.01, tvec__ngram_range=(1, 2), total=   5.7s\n",
      "[CV] tvec__max_df=0.2, tvec__max_features=7000, tvec__min_df=0.01, tvec__ngram_range=(1, 2) \n"
     ]
    },
    {
     "name": "stderr",
     "output_type": "stream",
     "text": [
      "C:\\Users\\tsuts\\anaconda3\\lib\\site-packages\\sklearn\\feature_extraction\\text.py:383: UserWarning: Your stop_words may be inconsistent with your preprocessing. Tokenizing the stop words generated tokens ['ha', 'le', 'u', 'wa'] not in stop_words.\n",
      "  warnings.warn('Your stop_words may be inconsistent with '\n"
     ]
    },
    {
     "name": "stdout",
     "output_type": "stream",
     "text": [
      "[CV]  tvec__max_df=0.2, tvec__max_features=7000, tvec__min_df=0.01, tvec__ngram_range=(1, 2), total=   5.9s\n",
      "[CV] tvec__max_df=0.2, tvec__max_features=7000, tvec__min_df=0.01, tvec__ngram_range=(1, 2) \n"
     ]
    },
    {
     "name": "stderr",
     "output_type": "stream",
     "text": [
      "C:\\Users\\tsuts\\anaconda3\\lib\\site-packages\\sklearn\\feature_extraction\\text.py:383: UserWarning: Your stop_words may be inconsistent with your preprocessing. Tokenizing the stop words generated tokens ['ha', 'le', 'u', 'wa'] not in stop_words.\n",
      "  warnings.warn('Your stop_words may be inconsistent with '\n"
     ]
    },
    {
     "name": "stdout",
     "output_type": "stream",
     "text": [
      "[CV]  tvec__max_df=0.2, tvec__max_features=7000, tvec__min_df=0.01, tvec__ngram_range=(1, 2), total=   6.0s\n",
      "[CV] tvec__max_df=0.2, tvec__max_features=7000, tvec__min_df=0.01, tvec__ngram_range=(1, 2) \n"
     ]
    },
    {
     "name": "stderr",
     "output_type": "stream",
     "text": [
      "C:\\Users\\tsuts\\anaconda3\\lib\\site-packages\\sklearn\\feature_extraction\\text.py:383: UserWarning: Your stop_words may be inconsistent with your preprocessing. Tokenizing the stop words generated tokens ['ha', 'le', 'u', 'wa'] not in stop_words.\n",
      "  warnings.warn('Your stop_words may be inconsistent with '\n"
     ]
    },
    {
     "name": "stdout",
     "output_type": "stream",
     "text": [
      "[CV]  tvec__max_df=0.2, tvec__max_features=7000, tvec__min_df=0.01, tvec__ngram_range=(1, 2), total=   5.7s\n",
      "[CV] tvec__max_df=0.2, tvec__max_features=7000, tvec__min_df=0.01, tvec__ngram_range=(1, 2) \n"
     ]
    },
    {
     "name": "stderr",
     "output_type": "stream",
     "text": [
      "C:\\Users\\tsuts\\anaconda3\\lib\\site-packages\\sklearn\\feature_extraction\\text.py:383: UserWarning: Your stop_words may be inconsistent with your preprocessing. Tokenizing the stop words generated tokens ['ha', 'le', 'u', 'wa'] not in stop_words.\n",
      "  warnings.warn('Your stop_words may be inconsistent with '\n"
     ]
    },
    {
     "name": "stdout",
     "output_type": "stream",
     "text": [
      "[CV]  tvec__max_df=0.2, tvec__max_features=7000, tvec__min_df=0.01, tvec__ngram_range=(1, 2), total=   5.7s\n",
      "[CV] tvec__max_df=0.2, tvec__max_features=7000, tvec__min_df=0.01, tvec__ngram_range=(1, 2) \n"
     ]
    },
    {
     "name": "stderr",
     "output_type": "stream",
     "text": [
      "C:\\Users\\tsuts\\anaconda3\\lib\\site-packages\\sklearn\\feature_extraction\\text.py:383: UserWarning: Your stop_words may be inconsistent with your preprocessing. Tokenizing the stop words generated tokens ['ha', 'le', 'u', 'wa'] not in stop_words.\n",
      "  warnings.warn('Your stop_words may be inconsistent with '\n"
     ]
    },
    {
     "name": "stdout",
     "output_type": "stream",
     "text": [
      "[CV]  tvec__max_df=0.2, tvec__max_features=7000, tvec__min_df=0.01, tvec__ngram_range=(1, 2), total=   6.0s\n",
      "[CV] tvec__max_df=0.2, tvec__max_features=7000, tvec__min_df=0.01, tvec__ngram_range=(1, 2) \n"
     ]
    },
    {
     "name": "stderr",
     "output_type": "stream",
     "text": [
      "C:\\Users\\tsuts\\anaconda3\\lib\\site-packages\\sklearn\\feature_extraction\\text.py:383: UserWarning: Your stop_words may be inconsistent with your preprocessing. Tokenizing the stop words generated tokens ['ha', 'le', 'u', 'wa'] not in stop_words.\n",
      "  warnings.warn('Your stop_words may be inconsistent with '\n"
     ]
    },
    {
     "name": "stdout",
     "output_type": "stream",
     "text": [
      "[CV]  tvec__max_df=0.2, tvec__max_features=7000, tvec__min_df=0.01, tvec__ngram_range=(1, 2), total=   5.8s\n",
      "[CV] tvec__max_df=0.2, tvec__max_features=7000, tvec__min_df=0.01, tvec__ngram_range=(1, 2) \n"
     ]
    },
    {
     "name": "stderr",
     "output_type": "stream",
     "text": [
      "C:\\Users\\tsuts\\anaconda3\\lib\\site-packages\\sklearn\\feature_extraction\\text.py:383: UserWarning: Your stop_words may be inconsistent with your preprocessing. Tokenizing the stop words generated tokens ['ha', 'le', 'u', 'wa'] not in stop_words.\n",
      "  warnings.warn('Your stop_words may be inconsistent with '\n"
     ]
    },
    {
     "name": "stdout",
     "output_type": "stream",
     "text": [
      "[CV]  tvec__max_df=0.2, tvec__max_features=7000, tvec__min_df=0.01, tvec__ngram_range=(1, 2), total=   6.0s\n",
      "[CV] tvec__max_df=0.2, tvec__max_features=7000, tvec__min_df=0.01, tvec__ngram_range=(1, 2) \n"
     ]
    },
    {
     "name": "stderr",
     "output_type": "stream",
     "text": [
      "C:\\Users\\tsuts\\anaconda3\\lib\\site-packages\\sklearn\\feature_extraction\\text.py:383: UserWarning: Your stop_words may be inconsistent with your preprocessing. Tokenizing the stop words generated tokens ['ha', 'le', 'u', 'wa'] not in stop_words.\n",
      "  warnings.warn('Your stop_words may be inconsistent with '\n"
     ]
    },
    {
     "name": "stdout",
     "output_type": "stream",
     "text": [
      "[CV]  tvec__max_df=0.2, tvec__max_features=7000, tvec__min_df=0.01, tvec__ngram_range=(1, 2), total=   5.8s\n",
      "[CV] tvec__max_df=0.2, tvec__max_features=7000, tvec__min_df=0.01, tvec__ngram_range=(1, 2) \n"
     ]
    },
    {
     "name": "stderr",
     "output_type": "stream",
     "text": [
      "C:\\Users\\tsuts\\anaconda3\\lib\\site-packages\\sklearn\\feature_extraction\\text.py:383: UserWarning: Your stop_words may be inconsistent with your preprocessing. Tokenizing the stop words generated tokens ['ha', 'le', 'u', 'wa'] not in stop_words.\n",
      "  warnings.warn('Your stop_words may be inconsistent with '\n"
     ]
    },
    {
     "name": "stdout",
     "output_type": "stream",
     "text": [
      "[CV]  tvec__max_df=0.2, tvec__max_features=7000, tvec__min_df=0.01, tvec__ngram_range=(1, 2), total=   5.8s\n",
      "[CV] tvec__max_df=0.2, tvec__max_features=7000, tvec__min_df=0.02, tvec__ngram_range=(1, 1) \n"
     ]
    },
    {
     "name": "stderr",
     "output_type": "stream",
     "text": [
      "C:\\Users\\tsuts\\anaconda3\\lib\\site-packages\\sklearn\\feature_extraction\\text.py:383: UserWarning: Your stop_words may be inconsistent with your preprocessing. Tokenizing the stop words generated tokens ['ha', 'le', 'u', 'wa'] not in stop_words.\n",
      "  warnings.warn('Your stop_words may be inconsistent with '\n"
     ]
    },
    {
     "name": "stdout",
     "output_type": "stream",
     "text": [
      "[CV]  tvec__max_df=0.2, tvec__max_features=7000, tvec__min_df=0.02, tvec__ngram_range=(1, 1), total=   4.8s\n",
      "[CV] tvec__max_df=0.2, tvec__max_features=7000, tvec__min_df=0.02, tvec__ngram_range=(1, 1) \n"
     ]
    },
    {
     "name": "stderr",
     "output_type": "stream",
     "text": [
      "C:\\Users\\tsuts\\anaconda3\\lib\\site-packages\\sklearn\\feature_extraction\\text.py:383: UserWarning: Your stop_words may be inconsistent with your preprocessing. Tokenizing the stop words generated tokens ['ha', 'le', 'u', 'wa'] not in stop_words.\n",
      "  warnings.warn('Your stop_words may be inconsistent with '\n"
     ]
    },
    {
     "name": "stdout",
     "output_type": "stream",
     "text": [
      "[CV]  tvec__max_df=0.2, tvec__max_features=7000, tvec__min_df=0.02, tvec__ngram_range=(1, 1), total=   4.8s\n",
      "[CV] tvec__max_df=0.2, tvec__max_features=7000, tvec__min_df=0.02, tvec__ngram_range=(1, 1) \n"
     ]
    },
    {
     "name": "stderr",
     "output_type": "stream",
     "text": [
      "C:\\Users\\tsuts\\anaconda3\\lib\\site-packages\\sklearn\\feature_extraction\\text.py:383: UserWarning: Your stop_words may be inconsistent with your preprocessing. Tokenizing the stop words generated tokens ['ha', 'le', 'u', 'wa'] not in stop_words.\n",
      "  warnings.warn('Your stop_words may be inconsistent with '\n"
     ]
    },
    {
     "name": "stdout",
     "output_type": "stream",
     "text": [
      "[CV]  tvec__max_df=0.2, tvec__max_features=7000, tvec__min_df=0.02, tvec__ngram_range=(1, 1), total=   4.9s\n",
      "[CV] tvec__max_df=0.2, tvec__max_features=7000, tvec__min_df=0.02, tvec__ngram_range=(1, 1) \n"
     ]
    },
    {
     "name": "stderr",
     "output_type": "stream",
     "text": [
      "C:\\Users\\tsuts\\anaconda3\\lib\\site-packages\\sklearn\\feature_extraction\\text.py:383: UserWarning: Your stop_words may be inconsistent with your preprocessing. Tokenizing the stop words generated tokens ['ha', 'le', 'u', 'wa'] not in stop_words.\n",
      "  warnings.warn('Your stop_words may be inconsistent with '\n"
     ]
    },
    {
     "name": "stdout",
     "output_type": "stream",
     "text": [
      "[CV]  tvec__max_df=0.2, tvec__max_features=7000, tvec__min_df=0.02, tvec__ngram_range=(1, 1), total=   4.8s\n",
      "[CV] tvec__max_df=0.2, tvec__max_features=7000, tvec__min_df=0.02, tvec__ngram_range=(1, 1) \n"
     ]
    },
    {
     "name": "stderr",
     "output_type": "stream",
     "text": [
      "C:\\Users\\tsuts\\anaconda3\\lib\\site-packages\\sklearn\\feature_extraction\\text.py:383: UserWarning: Your stop_words may be inconsistent with your preprocessing. Tokenizing the stop words generated tokens ['ha', 'le', 'u', 'wa'] not in stop_words.\n",
      "  warnings.warn('Your stop_words may be inconsistent with '\n"
     ]
    },
    {
     "name": "stdout",
     "output_type": "stream",
     "text": [
      "[CV]  tvec__max_df=0.2, tvec__max_features=7000, tvec__min_df=0.02, tvec__ngram_range=(1, 1), total=   5.0s\n",
      "[CV] tvec__max_df=0.2, tvec__max_features=7000, tvec__min_df=0.02, tvec__ngram_range=(1, 1) \n"
     ]
    },
    {
     "name": "stderr",
     "output_type": "stream",
     "text": [
      "C:\\Users\\tsuts\\anaconda3\\lib\\site-packages\\sklearn\\feature_extraction\\text.py:383: UserWarning: Your stop_words may be inconsistent with your preprocessing. Tokenizing the stop words generated tokens ['ha', 'le', 'u', 'wa'] not in stop_words.\n",
      "  warnings.warn('Your stop_words may be inconsistent with '\n"
     ]
    },
    {
     "name": "stdout",
     "output_type": "stream",
     "text": [
      "[CV]  tvec__max_df=0.2, tvec__max_features=7000, tvec__min_df=0.02, tvec__ngram_range=(1, 1), total=   5.2s\n",
      "[CV] tvec__max_df=0.2, tvec__max_features=7000, tvec__min_df=0.02, tvec__ngram_range=(1, 1) \n"
     ]
    },
    {
     "name": "stderr",
     "output_type": "stream",
     "text": [
      "C:\\Users\\tsuts\\anaconda3\\lib\\site-packages\\sklearn\\feature_extraction\\text.py:383: UserWarning: Your stop_words may be inconsistent with your preprocessing. Tokenizing the stop words generated tokens ['ha', 'le', 'u', 'wa'] not in stop_words.\n",
      "  warnings.warn('Your stop_words may be inconsistent with '\n"
     ]
    },
    {
     "name": "stdout",
     "output_type": "stream",
     "text": [
      "[CV]  tvec__max_df=0.2, tvec__max_features=7000, tvec__min_df=0.02, tvec__ngram_range=(1, 1), total=   4.9s\n",
      "[CV] tvec__max_df=0.2, tvec__max_features=7000, tvec__min_df=0.02, tvec__ngram_range=(1, 1) \n"
     ]
    },
    {
     "name": "stderr",
     "output_type": "stream",
     "text": [
      "C:\\Users\\tsuts\\anaconda3\\lib\\site-packages\\sklearn\\feature_extraction\\text.py:383: UserWarning: Your stop_words may be inconsistent with your preprocessing. Tokenizing the stop words generated tokens ['ha', 'le', 'u', 'wa'] not in stop_words.\n",
      "  warnings.warn('Your stop_words may be inconsistent with '\n"
     ]
    },
    {
     "name": "stdout",
     "output_type": "stream",
     "text": [
      "[CV]  tvec__max_df=0.2, tvec__max_features=7000, tvec__min_df=0.02, tvec__ngram_range=(1, 1), total=   4.9s\n",
      "[CV] tvec__max_df=0.2, tvec__max_features=7000, tvec__min_df=0.02, tvec__ngram_range=(1, 1) \n"
     ]
    },
    {
     "name": "stderr",
     "output_type": "stream",
     "text": [
      "C:\\Users\\tsuts\\anaconda3\\lib\\site-packages\\sklearn\\feature_extraction\\text.py:383: UserWarning: Your stop_words may be inconsistent with your preprocessing. Tokenizing the stop words generated tokens ['ha', 'le', 'u', 'wa'] not in stop_words.\n",
      "  warnings.warn('Your stop_words may be inconsistent with '\n"
     ]
    },
    {
     "name": "stdout",
     "output_type": "stream",
     "text": [
      "[CV]  tvec__max_df=0.2, tvec__max_features=7000, tvec__min_df=0.02, tvec__ngram_range=(1, 1), total=   4.9s\n",
      "[CV] tvec__max_df=0.2, tvec__max_features=7000, tvec__min_df=0.02, tvec__ngram_range=(1, 1) \n"
     ]
    },
    {
     "name": "stderr",
     "output_type": "stream",
     "text": [
      "C:\\Users\\tsuts\\anaconda3\\lib\\site-packages\\sklearn\\feature_extraction\\text.py:383: UserWarning: Your stop_words may be inconsistent with your preprocessing. Tokenizing the stop words generated tokens ['ha', 'le', 'u', 'wa'] not in stop_words.\n",
      "  warnings.warn('Your stop_words may be inconsistent with '\n"
     ]
    },
    {
     "name": "stdout",
     "output_type": "stream",
     "text": [
      "[CV]  tvec__max_df=0.2, tvec__max_features=7000, tvec__min_df=0.02, tvec__ngram_range=(1, 1), total=   5.1s\n",
      "[CV] tvec__max_df=0.2, tvec__max_features=7000, tvec__min_df=0.02, tvec__ngram_range=(1, 2) \n"
     ]
    },
    {
     "name": "stderr",
     "output_type": "stream",
     "text": [
      "C:\\Users\\tsuts\\anaconda3\\lib\\site-packages\\sklearn\\feature_extraction\\text.py:383: UserWarning: Your stop_words may be inconsistent with your preprocessing. Tokenizing the stop words generated tokens ['ha', 'le', 'u', 'wa'] not in stop_words.\n",
      "  warnings.warn('Your stop_words may be inconsistent with '\n"
     ]
    },
    {
     "name": "stdout",
     "output_type": "stream",
     "text": [
      "[CV]  tvec__max_df=0.2, tvec__max_features=7000, tvec__min_df=0.02, tvec__ngram_range=(1, 2), total=   6.0s\n",
      "[CV] tvec__max_df=0.2, tvec__max_features=7000, tvec__min_df=0.02, tvec__ngram_range=(1, 2) \n"
     ]
    },
    {
     "name": "stderr",
     "output_type": "stream",
     "text": [
      "C:\\Users\\tsuts\\anaconda3\\lib\\site-packages\\sklearn\\feature_extraction\\text.py:383: UserWarning: Your stop_words may be inconsistent with your preprocessing. Tokenizing the stop words generated tokens ['ha', 'le', 'u', 'wa'] not in stop_words.\n",
      "  warnings.warn('Your stop_words may be inconsistent with '\n"
     ]
    },
    {
     "name": "stdout",
     "output_type": "stream",
     "text": [
      "[CV]  tvec__max_df=0.2, tvec__max_features=7000, tvec__min_df=0.02, tvec__ngram_range=(1, 2), total=   5.8s\n",
      "[CV] tvec__max_df=0.2, tvec__max_features=7000, tvec__min_df=0.02, tvec__ngram_range=(1, 2) \n"
     ]
    },
    {
     "name": "stderr",
     "output_type": "stream",
     "text": [
      "C:\\Users\\tsuts\\anaconda3\\lib\\site-packages\\sklearn\\feature_extraction\\text.py:383: UserWarning: Your stop_words may be inconsistent with your preprocessing. Tokenizing the stop words generated tokens ['ha', 'le', 'u', 'wa'] not in stop_words.\n",
      "  warnings.warn('Your stop_words may be inconsistent with '\n"
     ]
    },
    {
     "name": "stdout",
     "output_type": "stream",
     "text": [
      "[CV]  tvec__max_df=0.2, tvec__max_features=7000, tvec__min_df=0.02, tvec__ngram_range=(1, 2), total=   6.0s\n",
      "[CV] tvec__max_df=0.2, tvec__max_features=7000, tvec__min_df=0.02, tvec__ngram_range=(1, 2) \n"
     ]
    },
    {
     "name": "stderr",
     "output_type": "stream",
     "text": [
      "C:\\Users\\tsuts\\anaconda3\\lib\\site-packages\\sklearn\\feature_extraction\\text.py:383: UserWarning: Your stop_words may be inconsistent with your preprocessing. Tokenizing the stop words generated tokens ['ha', 'le', 'u', 'wa'] not in stop_words.\n",
      "  warnings.warn('Your stop_words may be inconsistent with '\n"
     ]
    },
    {
     "name": "stdout",
     "output_type": "stream",
     "text": [
      "[CV]  tvec__max_df=0.2, tvec__max_features=7000, tvec__min_df=0.02, tvec__ngram_range=(1, 2), total=   6.1s\n",
      "[CV] tvec__max_df=0.2, tvec__max_features=7000, tvec__min_df=0.02, tvec__ngram_range=(1, 2) \n"
     ]
    },
    {
     "name": "stderr",
     "output_type": "stream",
     "text": [
      "C:\\Users\\tsuts\\anaconda3\\lib\\site-packages\\sklearn\\feature_extraction\\text.py:383: UserWarning: Your stop_words may be inconsistent with your preprocessing. Tokenizing the stop words generated tokens ['ha', 'le', 'u', 'wa'] not in stop_words.\n",
      "  warnings.warn('Your stop_words may be inconsistent with '\n"
     ]
    },
    {
     "name": "stdout",
     "output_type": "stream",
     "text": [
      "[CV]  tvec__max_df=0.2, tvec__max_features=7000, tvec__min_df=0.02, tvec__ngram_range=(1, 2), total=   6.1s\n",
      "[CV] tvec__max_df=0.2, tvec__max_features=7000, tvec__min_df=0.02, tvec__ngram_range=(1, 2) \n"
     ]
    },
    {
     "name": "stderr",
     "output_type": "stream",
     "text": [
      "C:\\Users\\tsuts\\anaconda3\\lib\\site-packages\\sklearn\\feature_extraction\\text.py:383: UserWarning: Your stop_words may be inconsistent with your preprocessing. Tokenizing the stop words generated tokens ['ha', 'le', 'u', 'wa'] not in stop_words.\n",
      "  warnings.warn('Your stop_words may be inconsistent with '\n"
     ]
    },
    {
     "name": "stdout",
     "output_type": "stream",
     "text": [
      "[CV]  tvec__max_df=0.2, tvec__max_features=7000, tvec__min_df=0.02, tvec__ngram_range=(1, 2), total=   6.0s\n",
      "[CV] tvec__max_df=0.2, tvec__max_features=7000, tvec__min_df=0.02, tvec__ngram_range=(1, 2) \n"
     ]
    },
    {
     "name": "stderr",
     "output_type": "stream",
     "text": [
      "C:\\Users\\tsuts\\anaconda3\\lib\\site-packages\\sklearn\\feature_extraction\\text.py:383: UserWarning: Your stop_words may be inconsistent with your preprocessing. Tokenizing the stop words generated tokens ['ha', 'le', 'u', 'wa'] not in stop_words.\n",
      "  warnings.warn('Your stop_words may be inconsistent with '\n"
     ]
    },
    {
     "name": "stdout",
     "output_type": "stream",
     "text": [
      "[CV]  tvec__max_df=0.2, tvec__max_features=7000, tvec__min_df=0.02, tvec__ngram_range=(1, 2), total=   5.8s\n",
      "[CV] tvec__max_df=0.2, tvec__max_features=7000, tvec__min_df=0.02, tvec__ngram_range=(1, 2) \n"
     ]
    },
    {
     "name": "stderr",
     "output_type": "stream",
     "text": [
      "C:\\Users\\tsuts\\anaconda3\\lib\\site-packages\\sklearn\\feature_extraction\\text.py:383: UserWarning: Your stop_words may be inconsistent with your preprocessing. Tokenizing the stop words generated tokens ['ha', 'le', 'u', 'wa'] not in stop_words.\n",
      "  warnings.warn('Your stop_words may be inconsistent with '\n"
     ]
    },
    {
     "name": "stdout",
     "output_type": "stream",
     "text": [
      "[CV]  tvec__max_df=0.2, tvec__max_features=7000, tvec__min_df=0.02, tvec__ngram_range=(1, 2), total=   5.9s\n",
      "[CV] tvec__max_df=0.2, tvec__max_features=7000, tvec__min_df=0.02, tvec__ngram_range=(1, 2) \n"
     ]
    },
    {
     "name": "stderr",
     "output_type": "stream",
     "text": [
      "C:\\Users\\tsuts\\anaconda3\\lib\\site-packages\\sklearn\\feature_extraction\\text.py:383: UserWarning: Your stop_words may be inconsistent with your preprocessing. Tokenizing the stop words generated tokens ['ha', 'le', 'u', 'wa'] not in stop_words.\n",
      "  warnings.warn('Your stop_words may be inconsistent with '\n"
     ]
    },
    {
     "name": "stdout",
     "output_type": "stream",
     "text": [
      "[CV]  tvec__max_df=0.2, tvec__max_features=7000, tvec__min_df=0.02, tvec__ngram_range=(1, 2), total=   5.8s\n",
      "[CV] tvec__max_df=0.2, tvec__max_features=7000, tvec__min_df=0.02, tvec__ngram_range=(1, 2) \n"
     ]
    },
    {
     "name": "stderr",
     "output_type": "stream",
     "text": [
      "C:\\Users\\tsuts\\anaconda3\\lib\\site-packages\\sklearn\\feature_extraction\\text.py:383: UserWarning: Your stop_words may be inconsistent with your preprocessing. Tokenizing the stop words generated tokens ['ha', 'le', 'u', 'wa'] not in stop_words.\n",
      "  warnings.warn('Your stop_words may be inconsistent with '\n"
     ]
    },
    {
     "name": "stdout",
     "output_type": "stream",
     "text": [
      "[CV]  tvec__max_df=0.2, tvec__max_features=7000, tvec__min_df=0.02, tvec__ngram_range=(1, 2), total=   6.2s\n",
      "[CV] tvec__max_df=0.2, tvec__max_features=8000, tvec__min_df=2, tvec__ngram_range=(1, 1) \n"
     ]
    },
    {
     "name": "stderr",
     "output_type": "stream",
     "text": [
      "C:\\Users\\tsuts\\anaconda3\\lib\\site-packages\\sklearn\\feature_extraction\\text.py:383: UserWarning: Your stop_words may be inconsistent with your preprocessing. Tokenizing the stop words generated tokens ['ha', 'le', 'u', 'wa'] not in stop_words.\n",
      "  warnings.warn('Your stop_words may be inconsistent with '\n"
     ]
    },
    {
     "name": "stdout",
     "output_type": "stream",
     "text": [
      "[CV]  tvec__max_df=0.2, tvec__max_features=8000, tvec__min_df=2, tvec__ngram_range=(1, 1), total=   5.0s\n",
      "[CV] tvec__max_df=0.2, tvec__max_features=8000, tvec__min_df=2, tvec__ngram_range=(1, 1) \n"
     ]
    },
    {
     "name": "stderr",
     "output_type": "stream",
     "text": [
      "C:\\Users\\tsuts\\anaconda3\\lib\\site-packages\\sklearn\\feature_extraction\\text.py:383: UserWarning: Your stop_words may be inconsistent with your preprocessing. Tokenizing the stop words generated tokens ['ha', 'le', 'u', 'wa'] not in stop_words.\n",
      "  warnings.warn('Your stop_words may be inconsistent with '\n"
     ]
    },
    {
     "name": "stdout",
     "output_type": "stream",
     "text": [
      "[CV]  tvec__max_df=0.2, tvec__max_features=8000, tvec__min_df=2, tvec__ngram_range=(1, 1), total=   5.3s\n",
      "[CV] tvec__max_df=0.2, tvec__max_features=8000, tvec__min_df=2, tvec__ngram_range=(1, 1) \n"
     ]
    },
    {
     "name": "stderr",
     "output_type": "stream",
     "text": [
      "C:\\Users\\tsuts\\anaconda3\\lib\\site-packages\\sklearn\\feature_extraction\\text.py:383: UserWarning: Your stop_words may be inconsistent with your preprocessing. Tokenizing the stop words generated tokens ['ha', 'le', 'u', 'wa'] not in stop_words.\n",
      "  warnings.warn('Your stop_words may be inconsistent with '\n"
     ]
    },
    {
     "name": "stdout",
     "output_type": "stream",
     "text": [
      "[CV]  tvec__max_df=0.2, tvec__max_features=8000, tvec__min_df=2, tvec__ngram_range=(1, 1), total=   5.2s\n",
      "[CV] tvec__max_df=0.2, tvec__max_features=8000, tvec__min_df=2, tvec__ngram_range=(1, 1) \n"
     ]
    },
    {
     "name": "stderr",
     "output_type": "stream",
     "text": [
      "C:\\Users\\tsuts\\anaconda3\\lib\\site-packages\\sklearn\\feature_extraction\\text.py:383: UserWarning: Your stop_words may be inconsistent with your preprocessing. Tokenizing the stop words generated tokens ['ha', 'le', 'u', 'wa'] not in stop_words.\n",
      "  warnings.warn('Your stop_words may be inconsistent with '\n"
     ]
    },
    {
     "name": "stdout",
     "output_type": "stream",
     "text": [
      "[CV]  tvec__max_df=0.2, tvec__max_features=8000, tvec__min_df=2, tvec__ngram_range=(1, 1), total=   5.0s\n",
      "[CV] tvec__max_df=0.2, tvec__max_features=8000, tvec__min_df=2, tvec__ngram_range=(1, 1) \n"
     ]
    },
    {
     "name": "stderr",
     "output_type": "stream",
     "text": [
      "C:\\Users\\tsuts\\anaconda3\\lib\\site-packages\\sklearn\\feature_extraction\\text.py:383: UserWarning: Your stop_words may be inconsistent with your preprocessing. Tokenizing the stop words generated tokens ['ha', 'le', 'u', 'wa'] not in stop_words.\n",
      "  warnings.warn('Your stop_words may be inconsistent with '\n"
     ]
    },
    {
     "name": "stdout",
     "output_type": "stream",
     "text": [
      "[CV]  tvec__max_df=0.2, tvec__max_features=8000, tvec__min_df=2, tvec__ngram_range=(1, 1), total=   4.9s\n",
      "[CV] tvec__max_df=0.2, tvec__max_features=8000, tvec__min_df=2, tvec__ngram_range=(1, 1) \n"
     ]
    },
    {
     "name": "stderr",
     "output_type": "stream",
     "text": [
      "C:\\Users\\tsuts\\anaconda3\\lib\\site-packages\\sklearn\\feature_extraction\\text.py:383: UserWarning: Your stop_words may be inconsistent with your preprocessing. Tokenizing the stop words generated tokens ['ha', 'le', 'u', 'wa'] not in stop_words.\n",
      "  warnings.warn('Your stop_words may be inconsistent with '\n"
     ]
    },
    {
     "name": "stdout",
     "output_type": "stream",
     "text": [
      "[CV]  tvec__max_df=0.2, tvec__max_features=8000, tvec__min_df=2, tvec__ngram_range=(1, 1), total=   5.0s\n",
      "[CV] tvec__max_df=0.2, tvec__max_features=8000, tvec__min_df=2, tvec__ngram_range=(1, 1) \n"
     ]
    },
    {
     "name": "stderr",
     "output_type": "stream",
     "text": [
      "C:\\Users\\tsuts\\anaconda3\\lib\\site-packages\\sklearn\\feature_extraction\\text.py:383: UserWarning: Your stop_words may be inconsistent with your preprocessing. Tokenizing the stop words generated tokens ['ha', 'le', 'u', 'wa'] not in stop_words.\n",
      "  warnings.warn('Your stop_words may be inconsistent with '\n"
     ]
    },
    {
     "name": "stdout",
     "output_type": "stream",
     "text": [
      "[CV]  tvec__max_df=0.2, tvec__max_features=8000, tvec__min_df=2, tvec__ngram_range=(1, 1), total=   5.1s\n",
      "[CV] tvec__max_df=0.2, tvec__max_features=8000, tvec__min_df=2, tvec__ngram_range=(1, 1) \n"
     ]
    },
    {
     "name": "stderr",
     "output_type": "stream",
     "text": [
      "C:\\Users\\tsuts\\anaconda3\\lib\\site-packages\\sklearn\\feature_extraction\\text.py:383: UserWarning: Your stop_words may be inconsistent with your preprocessing. Tokenizing the stop words generated tokens ['ha', 'le', 'u', 'wa'] not in stop_words.\n",
      "  warnings.warn('Your stop_words may be inconsistent with '\n"
     ]
    },
    {
     "name": "stdout",
     "output_type": "stream",
     "text": [
      "[CV]  tvec__max_df=0.2, tvec__max_features=8000, tvec__min_df=2, tvec__ngram_range=(1, 1), total=   5.0s\n",
      "[CV] tvec__max_df=0.2, tvec__max_features=8000, tvec__min_df=2, tvec__ngram_range=(1, 1) \n"
     ]
    },
    {
     "name": "stderr",
     "output_type": "stream",
     "text": [
      "C:\\Users\\tsuts\\anaconda3\\lib\\site-packages\\sklearn\\feature_extraction\\text.py:383: UserWarning: Your stop_words may be inconsistent with your preprocessing. Tokenizing the stop words generated tokens ['ha', 'le', 'u', 'wa'] not in stop_words.\n",
      "  warnings.warn('Your stop_words may be inconsistent with '\n"
     ]
    },
    {
     "name": "stdout",
     "output_type": "stream",
     "text": [
      "[CV]  tvec__max_df=0.2, tvec__max_features=8000, tvec__min_df=2, tvec__ngram_range=(1, 1), total=   5.0s\n",
      "[CV] tvec__max_df=0.2, tvec__max_features=8000, tvec__min_df=2, tvec__ngram_range=(1, 1) \n"
     ]
    },
    {
     "name": "stderr",
     "output_type": "stream",
     "text": [
      "C:\\Users\\tsuts\\anaconda3\\lib\\site-packages\\sklearn\\feature_extraction\\text.py:383: UserWarning: Your stop_words may be inconsistent with your preprocessing. Tokenizing the stop words generated tokens ['ha', 'le', 'u', 'wa'] not in stop_words.\n",
      "  warnings.warn('Your stop_words may be inconsistent with '\n"
     ]
    },
    {
     "name": "stdout",
     "output_type": "stream",
     "text": [
      "[CV]  tvec__max_df=0.2, tvec__max_features=8000, tvec__min_df=2, tvec__ngram_range=(1, 1), total=   5.0s\n",
      "[CV] tvec__max_df=0.2, tvec__max_features=8000, tvec__min_df=2, tvec__ngram_range=(1, 2) \n"
     ]
    },
    {
     "name": "stderr",
     "output_type": "stream",
     "text": [
      "C:\\Users\\tsuts\\anaconda3\\lib\\site-packages\\sklearn\\feature_extraction\\text.py:383: UserWarning: Your stop_words may be inconsistent with your preprocessing. Tokenizing the stop words generated tokens ['ha', 'le', 'u', 'wa'] not in stop_words.\n",
      "  warnings.warn('Your stop_words may be inconsistent with '\n"
     ]
    },
    {
     "name": "stdout",
     "output_type": "stream",
     "text": [
      "[CV]  tvec__max_df=0.2, tvec__max_features=8000, tvec__min_df=2, tvec__ngram_range=(1, 2), total=   6.3s\n",
      "[CV] tvec__max_df=0.2, tvec__max_features=8000, tvec__min_df=2, tvec__ngram_range=(1, 2) \n"
     ]
    },
    {
     "name": "stderr",
     "output_type": "stream",
     "text": [
      "C:\\Users\\tsuts\\anaconda3\\lib\\site-packages\\sklearn\\feature_extraction\\text.py:383: UserWarning: Your stop_words may be inconsistent with your preprocessing. Tokenizing the stop words generated tokens ['ha', 'le', 'u', 'wa'] not in stop_words.\n",
      "  warnings.warn('Your stop_words may be inconsistent with '\n"
     ]
    },
    {
     "name": "stdout",
     "output_type": "stream",
     "text": [
      "[CV]  tvec__max_df=0.2, tvec__max_features=8000, tvec__min_df=2, tvec__ngram_range=(1, 2), total=   6.2s\n",
      "[CV] tvec__max_df=0.2, tvec__max_features=8000, tvec__min_df=2, tvec__ngram_range=(1, 2) \n"
     ]
    },
    {
     "name": "stderr",
     "output_type": "stream",
     "text": [
      "C:\\Users\\tsuts\\anaconda3\\lib\\site-packages\\sklearn\\feature_extraction\\text.py:383: UserWarning: Your stop_words may be inconsistent with your preprocessing. Tokenizing the stop words generated tokens ['ha', 'le', 'u', 'wa'] not in stop_words.\n",
      "  warnings.warn('Your stop_words may be inconsistent with '\n"
     ]
    },
    {
     "name": "stdout",
     "output_type": "stream",
     "text": [
      "[CV]  tvec__max_df=0.2, tvec__max_features=8000, tvec__min_df=2, tvec__ngram_range=(1, 2), total=   6.2s\n",
      "[CV] tvec__max_df=0.2, tvec__max_features=8000, tvec__min_df=2, tvec__ngram_range=(1, 2) \n"
     ]
    },
    {
     "name": "stderr",
     "output_type": "stream",
     "text": [
      "C:\\Users\\tsuts\\anaconda3\\lib\\site-packages\\sklearn\\feature_extraction\\text.py:383: UserWarning: Your stop_words may be inconsistent with your preprocessing. Tokenizing the stop words generated tokens ['ha', 'le', 'u', 'wa'] not in stop_words.\n",
      "  warnings.warn('Your stop_words may be inconsistent with '\n"
     ]
    },
    {
     "name": "stdout",
     "output_type": "stream",
     "text": [
      "[CV]  tvec__max_df=0.2, tvec__max_features=8000, tvec__min_df=2, tvec__ngram_range=(1, 2), total=   6.1s\n",
      "[CV] tvec__max_df=0.2, tvec__max_features=8000, tvec__min_df=2, tvec__ngram_range=(1, 2) \n"
     ]
    },
    {
     "name": "stderr",
     "output_type": "stream",
     "text": [
      "C:\\Users\\tsuts\\anaconda3\\lib\\site-packages\\sklearn\\feature_extraction\\text.py:383: UserWarning: Your stop_words may be inconsistent with your preprocessing. Tokenizing the stop words generated tokens ['ha', 'le', 'u', 'wa'] not in stop_words.\n",
      "  warnings.warn('Your stop_words may be inconsistent with '\n"
     ]
    },
    {
     "name": "stdout",
     "output_type": "stream",
     "text": [
      "[CV]  tvec__max_df=0.2, tvec__max_features=8000, tvec__min_df=2, tvec__ngram_range=(1, 2), total=   5.9s\n",
      "[CV] tvec__max_df=0.2, tvec__max_features=8000, tvec__min_df=2, tvec__ngram_range=(1, 2) \n"
     ]
    },
    {
     "name": "stderr",
     "output_type": "stream",
     "text": [
      "C:\\Users\\tsuts\\anaconda3\\lib\\site-packages\\sklearn\\feature_extraction\\text.py:383: UserWarning: Your stop_words may be inconsistent with your preprocessing. Tokenizing the stop words generated tokens ['ha', 'le', 'u', 'wa'] not in stop_words.\n",
      "  warnings.warn('Your stop_words may be inconsistent with '\n"
     ]
    },
    {
     "name": "stdout",
     "output_type": "stream",
     "text": [
      "[CV]  tvec__max_df=0.2, tvec__max_features=8000, tvec__min_df=2, tvec__ngram_range=(1, 2), total=   5.8s\n",
      "[CV] tvec__max_df=0.2, tvec__max_features=8000, tvec__min_df=2, tvec__ngram_range=(1, 2) \n"
     ]
    },
    {
     "name": "stderr",
     "output_type": "stream",
     "text": [
      "C:\\Users\\tsuts\\anaconda3\\lib\\site-packages\\sklearn\\feature_extraction\\text.py:383: UserWarning: Your stop_words may be inconsistent with your preprocessing. Tokenizing the stop words generated tokens ['ha', 'le', 'u', 'wa'] not in stop_words.\n",
      "  warnings.warn('Your stop_words may be inconsistent with '\n"
     ]
    },
    {
     "name": "stdout",
     "output_type": "stream",
     "text": [
      "[CV]  tvec__max_df=0.2, tvec__max_features=8000, tvec__min_df=2, tvec__ngram_range=(1, 2), total=   6.0s\n",
      "[CV] tvec__max_df=0.2, tvec__max_features=8000, tvec__min_df=2, tvec__ngram_range=(1, 2) \n"
     ]
    },
    {
     "name": "stderr",
     "output_type": "stream",
     "text": [
      "C:\\Users\\tsuts\\anaconda3\\lib\\site-packages\\sklearn\\feature_extraction\\text.py:383: UserWarning: Your stop_words may be inconsistent with your preprocessing. Tokenizing the stop words generated tokens ['ha', 'le', 'u', 'wa'] not in stop_words.\n",
      "  warnings.warn('Your stop_words may be inconsistent with '\n"
     ]
    },
    {
     "name": "stdout",
     "output_type": "stream",
     "text": [
      "[CV]  tvec__max_df=0.2, tvec__max_features=8000, tvec__min_df=2, tvec__ngram_range=(1, 2), total=   5.9s\n",
      "[CV] tvec__max_df=0.2, tvec__max_features=8000, tvec__min_df=2, tvec__ngram_range=(1, 2) \n"
     ]
    },
    {
     "name": "stderr",
     "output_type": "stream",
     "text": [
      "C:\\Users\\tsuts\\anaconda3\\lib\\site-packages\\sklearn\\feature_extraction\\text.py:383: UserWarning: Your stop_words may be inconsistent with your preprocessing. Tokenizing the stop words generated tokens ['ha', 'le', 'u', 'wa'] not in stop_words.\n",
      "  warnings.warn('Your stop_words may be inconsistent with '\n"
     ]
    },
    {
     "name": "stdout",
     "output_type": "stream",
     "text": [
      "[CV]  tvec__max_df=0.2, tvec__max_features=8000, tvec__min_df=2, tvec__ngram_range=(1, 2), total=   5.9s\n",
      "[CV] tvec__max_df=0.2, tvec__max_features=8000, tvec__min_df=2, tvec__ngram_range=(1, 2) \n"
     ]
    },
    {
     "name": "stderr",
     "output_type": "stream",
     "text": [
      "C:\\Users\\tsuts\\anaconda3\\lib\\site-packages\\sklearn\\feature_extraction\\text.py:383: UserWarning: Your stop_words may be inconsistent with your preprocessing. Tokenizing the stop words generated tokens ['ha', 'le', 'u', 'wa'] not in stop_words.\n",
      "  warnings.warn('Your stop_words may be inconsistent with '\n"
     ]
    },
    {
     "name": "stdout",
     "output_type": "stream",
     "text": [
      "[CV]  tvec__max_df=0.2, tvec__max_features=8000, tvec__min_df=2, tvec__ngram_range=(1, 2), total=   5.9s\n",
      "[CV] tvec__max_df=0.2, tvec__max_features=8000, tvec__min_df=0.01, tvec__ngram_range=(1, 1) \n"
     ]
    },
    {
     "name": "stderr",
     "output_type": "stream",
     "text": [
      "C:\\Users\\tsuts\\anaconda3\\lib\\site-packages\\sklearn\\feature_extraction\\text.py:383: UserWarning: Your stop_words may be inconsistent with your preprocessing. Tokenizing the stop words generated tokens ['ha', 'le', 'u', 'wa'] not in stop_words.\n",
      "  warnings.warn('Your stop_words may be inconsistent with '\n"
     ]
    },
    {
     "name": "stdout",
     "output_type": "stream",
     "text": [
      "[CV]  tvec__max_df=0.2, tvec__max_features=8000, tvec__min_df=0.01, tvec__ngram_range=(1, 1), total=   5.0s\n",
      "[CV] tvec__max_df=0.2, tvec__max_features=8000, tvec__min_df=0.01, tvec__ngram_range=(1, 1) \n"
     ]
    },
    {
     "name": "stderr",
     "output_type": "stream",
     "text": [
      "C:\\Users\\tsuts\\anaconda3\\lib\\site-packages\\sklearn\\feature_extraction\\text.py:383: UserWarning: Your stop_words may be inconsistent with your preprocessing. Tokenizing the stop words generated tokens ['ha', 'le', 'u', 'wa'] not in stop_words.\n",
      "  warnings.warn('Your stop_words may be inconsistent with '\n"
     ]
    },
    {
     "name": "stdout",
     "output_type": "stream",
     "text": [
      "[CV]  tvec__max_df=0.2, tvec__max_features=8000, tvec__min_df=0.01, tvec__ngram_range=(1, 1), total=   5.0s\n",
      "[CV] tvec__max_df=0.2, tvec__max_features=8000, tvec__min_df=0.01, tvec__ngram_range=(1, 1) \n"
     ]
    },
    {
     "name": "stderr",
     "output_type": "stream",
     "text": [
      "C:\\Users\\tsuts\\anaconda3\\lib\\site-packages\\sklearn\\feature_extraction\\text.py:383: UserWarning: Your stop_words may be inconsistent with your preprocessing. Tokenizing the stop words generated tokens ['ha', 'le', 'u', 'wa'] not in stop_words.\n",
      "  warnings.warn('Your stop_words may be inconsistent with '\n"
     ]
    },
    {
     "name": "stdout",
     "output_type": "stream",
     "text": [
      "[CV]  tvec__max_df=0.2, tvec__max_features=8000, tvec__min_df=0.01, tvec__ngram_range=(1, 1), total=   4.9s\n",
      "[CV] tvec__max_df=0.2, tvec__max_features=8000, tvec__min_df=0.01, tvec__ngram_range=(1, 1) \n"
     ]
    },
    {
     "name": "stderr",
     "output_type": "stream",
     "text": [
      "C:\\Users\\tsuts\\anaconda3\\lib\\site-packages\\sklearn\\feature_extraction\\text.py:383: UserWarning: Your stop_words may be inconsistent with your preprocessing. Tokenizing the stop words generated tokens ['ha', 'le', 'u', 'wa'] not in stop_words.\n",
      "  warnings.warn('Your stop_words may be inconsistent with '\n"
     ]
    },
    {
     "name": "stdout",
     "output_type": "stream",
     "text": [
      "[CV]  tvec__max_df=0.2, tvec__max_features=8000, tvec__min_df=0.01, tvec__ngram_range=(1, 1), total=   5.0s\n",
      "[CV] tvec__max_df=0.2, tvec__max_features=8000, tvec__min_df=0.01, tvec__ngram_range=(1, 1) \n"
     ]
    },
    {
     "name": "stderr",
     "output_type": "stream",
     "text": [
      "C:\\Users\\tsuts\\anaconda3\\lib\\site-packages\\sklearn\\feature_extraction\\text.py:383: UserWarning: Your stop_words may be inconsistent with your preprocessing. Tokenizing the stop words generated tokens ['ha', 'le', 'u', 'wa'] not in stop_words.\n",
      "  warnings.warn('Your stop_words may be inconsistent with '\n"
     ]
    },
    {
     "name": "stdout",
     "output_type": "stream",
     "text": [
      "[CV]  tvec__max_df=0.2, tvec__max_features=8000, tvec__min_df=0.01, tvec__ngram_range=(1, 1), total=   5.0s\n",
      "[CV] tvec__max_df=0.2, tvec__max_features=8000, tvec__min_df=0.01, tvec__ngram_range=(1, 1) \n"
     ]
    },
    {
     "name": "stderr",
     "output_type": "stream",
     "text": [
      "C:\\Users\\tsuts\\anaconda3\\lib\\site-packages\\sklearn\\feature_extraction\\text.py:383: UserWarning: Your stop_words may be inconsistent with your preprocessing. Tokenizing the stop words generated tokens ['ha', 'le', 'u', 'wa'] not in stop_words.\n",
      "  warnings.warn('Your stop_words may be inconsistent with '\n"
     ]
    },
    {
     "name": "stdout",
     "output_type": "stream",
     "text": [
      "[CV]  tvec__max_df=0.2, tvec__max_features=8000, tvec__min_df=0.01, tvec__ngram_range=(1, 1), total=   4.9s\n",
      "[CV] tvec__max_df=0.2, tvec__max_features=8000, tvec__min_df=0.01, tvec__ngram_range=(1, 1) \n"
     ]
    },
    {
     "name": "stderr",
     "output_type": "stream",
     "text": [
      "C:\\Users\\tsuts\\anaconda3\\lib\\site-packages\\sklearn\\feature_extraction\\text.py:383: UserWarning: Your stop_words may be inconsistent with your preprocessing. Tokenizing the stop words generated tokens ['ha', 'le', 'u', 'wa'] not in stop_words.\n",
      "  warnings.warn('Your stop_words may be inconsistent with '\n"
     ]
    },
    {
     "name": "stdout",
     "output_type": "stream",
     "text": [
      "[CV]  tvec__max_df=0.2, tvec__max_features=8000, tvec__min_df=0.01, tvec__ngram_range=(1, 1), total=   4.8s\n",
      "[CV] tvec__max_df=0.2, tvec__max_features=8000, tvec__min_df=0.01, tvec__ngram_range=(1, 1) \n"
     ]
    },
    {
     "name": "stderr",
     "output_type": "stream",
     "text": [
      "C:\\Users\\tsuts\\anaconda3\\lib\\site-packages\\sklearn\\feature_extraction\\text.py:383: UserWarning: Your stop_words may be inconsistent with your preprocessing. Tokenizing the stop words generated tokens ['ha', 'le', 'u', 'wa'] not in stop_words.\n",
      "  warnings.warn('Your stop_words may be inconsistent with '\n"
     ]
    },
    {
     "name": "stdout",
     "output_type": "stream",
     "text": [
      "[CV]  tvec__max_df=0.2, tvec__max_features=8000, tvec__min_df=0.01, tvec__ngram_range=(1, 1), total=   4.9s\n",
      "[CV] tvec__max_df=0.2, tvec__max_features=8000, tvec__min_df=0.01, tvec__ngram_range=(1, 1) \n"
     ]
    },
    {
     "name": "stderr",
     "output_type": "stream",
     "text": [
      "C:\\Users\\tsuts\\anaconda3\\lib\\site-packages\\sklearn\\feature_extraction\\text.py:383: UserWarning: Your stop_words may be inconsistent with your preprocessing. Tokenizing the stop words generated tokens ['ha', 'le', 'u', 'wa'] not in stop_words.\n",
      "  warnings.warn('Your stop_words may be inconsistent with '\n"
     ]
    },
    {
     "name": "stdout",
     "output_type": "stream",
     "text": [
      "[CV]  tvec__max_df=0.2, tvec__max_features=8000, tvec__min_df=0.01, tvec__ngram_range=(1, 1), total=   5.0s\n",
      "[CV] tvec__max_df=0.2, tvec__max_features=8000, tvec__min_df=0.01, tvec__ngram_range=(1, 1) \n"
     ]
    },
    {
     "name": "stderr",
     "output_type": "stream",
     "text": [
      "C:\\Users\\tsuts\\anaconda3\\lib\\site-packages\\sklearn\\feature_extraction\\text.py:383: UserWarning: Your stop_words may be inconsistent with your preprocessing. Tokenizing the stop words generated tokens ['ha', 'le', 'u', 'wa'] not in stop_words.\n",
      "  warnings.warn('Your stop_words may be inconsistent with '\n"
     ]
    },
    {
     "name": "stdout",
     "output_type": "stream",
     "text": [
      "[CV]  tvec__max_df=0.2, tvec__max_features=8000, tvec__min_df=0.01, tvec__ngram_range=(1, 1), total=   4.8s\n",
      "[CV] tvec__max_df=0.2, tvec__max_features=8000, tvec__min_df=0.01, tvec__ngram_range=(1, 2) \n"
     ]
    },
    {
     "name": "stderr",
     "output_type": "stream",
     "text": [
      "C:\\Users\\tsuts\\anaconda3\\lib\\site-packages\\sklearn\\feature_extraction\\text.py:383: UserWarning: Your stop_words may be inconsistent with your preprocessing. Tokenizing the stop words generated tokens ['ha', 'le', 'u', 'wa'] not in stop_words.\n",
      "  warnings.warn('Your stop_words may be inconsistent with '\n"
     ]
    },
    {
     "name": "stdout",
     "output_type": "stream",
     "text": [
      "[CV]  tvec__max_df=0.2, tvec__max_features=8000, tvec__min_df=0.01, tvec__ngram_range=(1, 2), total=   5.8s\n",
      "[CV] tvec__max_df=0.2, tvec__max_features=8000, tvec__min_df=0.01, tvec__ngram_range=(1, 2) \n"
     ]
    },
    {
     "name": "stderr",
     "output_type": "stream",
     "text": [
      "C:\\Users\\tsuts\\anaconda3\\lib\\site-packages\\sklearn\\feature_extraction\\text.py:383: UserWarning: Your stop_words may be inconsistent with your preprocessing. Tokenizing the stop words generated tokens ['ha', 'le', 'u', 'wa'] not in stop_words.\n",
      "  warnings.warn('Your stop_words may be inconsistent with '\n"
     ]
    },
    {
     "name": "stdout",
     "output_type": "stream",
     "text": [
      "[CV]  tvec__max_df=0.2, tvec__max_features=8000, tvec__min_df=0.01, tvec__ngram_range=(1, 2), total=   5.8s\n",
      "[CV] tvec__max_df=0.2, tvec__max_features=8000, tvec__min_df=0.01, tvec__ngram_range=(1, 2) \n"
     ]
    },
    {
     "name": "stderr",
     "output_type": "stream",
     "text": [
      "C:\\Users\\tsuts\\anaconda3\\lib\\site-packages\\sklearn\\feature_extraction\\text.py:383: UserWarning: Your stop_words may be inconsistent with your preprocessing. Tokenizing the stop words generated tokens ['ha', 'le', 'u', 'wa'] not in stop_words.\n",
      "  warnings.warn('Your stop_words may be inconsistent with '\n"
     ]
    },
    {
     "name": "stdout",
     "output_type": "stream",
     "text": [
      "[CV]  tvec__max_df=0.2, tvec__max_features=8000, tvec__min_df=0.01, tvec__ngram_range=(1, 2), total=   5.9s\n",
      "[CV] tvec__max_df=0.2, tvec__max_features=8000, tvec__min_df=0.01, tvec__ngram_range=(1, 2) \n"
     ]
    },
    {
     "name": "stderr",
     "output_type": "stream",
     "text": [
      "C:\\Users\\tsuts\\anaconda3\\lib\\site-packages\\sklearn\\feature_extraction\\text.py:383: UserWarning: Your stop_words may be inconsistent with your preprocessing. Tokenizing the stop words generated tokens ['ha', 'le', 'u', 'wa'] not in stop_words.\n",
      "  warnings.warn('Your stop_words may be inconsistent with '\n"
     ]
    },
    {
     "name": "stdout",
     "output_type": "stream",
     "text": [
      "[CV]  tvec__max_df=0.2, tvec__max_features=8000, tvec__min_df=0.01, tvec__ngram_range=(1, 2), total=   6.0s\n",
      "[CV] tvec__max_df=0.2, tvec__max_features=8000, tvec__min_df=0.01, tvec__ngram_range=(1, 2) \n"
     ]
    },
    {
     "name": "stderr",
     "output_type": "stream",
     "text": [
      "C:\\Users\\tsuts\\anaconda3\\lib\\site-packages\\sklearn\\feature_extraction\\text.py:383: UserWarning: Your stop_words may be inconsistent with your preprocessing. Tokenizing the stop words generated tokens ['ha', 'le', 'u', 'wa'] not in stop_words.\n",
      "  warnings.warn('Your stop_words may be inconsistent with '\n"
     ]
    },
    {
     "name": "stdout",
     "output_type": "stream",
     "text": [
      "[CV]  tvec__max_df=0.2, tvec__max_features=8000, tvec__min_df=0.01, tvec__ngram_range=(1, 2), total=   5.9s\n",
      "[CV] tvec__max_df=0.2, tvec__max_features=8000, tvec__min_df=0.01, tvec__ngram_range=(1, 2) \n"
     ]
    },
    {
     "name": "stderr",
     "output_type": "stream",
     "text": [
      "C:\\Users\\tsuts\\anaconda3\\lib\\site-packages\\sklearn\\feature_extraction\\text.py:383: UserWarning: Your stop_words may be inconsistent with your preprocessing. Tokenizing the stop words generated tokens ['ha', 'le', 'u', 'wa'] not in stop_words.\n",
      "  warnings.warn('Your stop_words may be inconsistent with '\n"
     ]
    },
    {
     "name": "stdout",
     "output_type": "stream",
     "text": [
      "[CV]  tvec__max_df=0.2, tvec__max_features=8000, tvec__min_df=0.01, tvec__ngram_range=(1, 2), total=   5.9s\n",
      "[CV] tvec__max_df=0.2, tvec__max_features=8000, tvec__min_df=0.01, tvec__ngram_range=(1, 2) \n"
     ]
    },
    {
     "name": "stderr",
     "output_type": "stream",
     "text": [
      "C:\\Users\\tsuts\\anaconda3\\lib\\site-packages\\sklearn\\feature_extraction\\text.py:383: UserWarning: Your stop_words may be inconsistent with your preprocessing. Tokenizing the stop words generated tokens ['ha', 'le', 'u', 'wa'] not in stop_words.\n",
      "  warnings.warn('Your stop_words may be inconsistent with '\n"
     ]
    },
    {
     "name": "stdout",
     "output_type": "stream",
     "text": [
      "[CV]  tvec__max_df=0.2, tvec__max_features=8000, tvec__min_df=0.01, tvec__ngram_range=(1, 2), total=   5.8s\n",
      "[CV] tvec__max_df=0.2, tvec__max_features=8000, tvec__min_df=0.01, tvec__ngram_range=(1, 2) \n"
     ]
    },
    {
     "name": "stderr",
     "output_type": "stream",
     "text": [
      "C:\\Users\\tsuts\\anaconda3\\lib\\site-packages\\sklearn\\feature_extraction\\text.py:383: UserWarning: Your stop_words may be inconsistent with your preprocessing. Tokenizing the stop words generated tokens ['ha', 'le', 'u', 'wa'] not in stop_words.\n",
      "  warnings.warn('Your stop_words may be inconsistent with '\n"
     ]
    },
    {
     "name": "stdout",
     "output_type": "stream",
     "text": [
      "[CV]  tvec__max_df=0.2, tvec__max_features=8000, tvec__min_df=0.01, tvec__ngram_range=(1, 2), total=   5.9s\n",
      "[CV] tvec__max_df=0.2, tvec__max_features=8000, tvec__min_df=0.01, tvec__ngram_range=(1, 2) \n"
     ]
    },
    {
     "name": "stderr",
     "output_type": "stream",
     "text": [
      "C:\\Users\\tsuts\\anaconda3\\lib\\site-packages\\sklearn\\feature_extraction\\text.py:383: UserWarning: Your stop_words may be inconsistent with your preprocessing. Tokenizing the stop words generated tokens ['ha', 'le', 'u', 'wa'] not in stop_words.\n",
      "  warnings.warn('Your stop_words may be inconsistent with '\n"
     ]
    },
    {
     "name": "stdout",
     "output_type": "stream",
     "text": [
      "[CV]  tvec__max_df=0.2, tvec__max_features=8000, tvec__min_df=0.01, tvec__ngram_range=(1, 2), total=   6.0s\n",
      "[CV] tvec__max_df=0.2, tvec__max_features=8000, tvec__min_df=0.01, tvec__ngram_range=(1, 2) \n"
     ]
    },
    {
     "name": "stderr",
     "output_type": "stream",
     "text": [
      "C:\\Users\\tsuts\\anaconda3\\lib\\site-packages\\sklearn\\feature_extraction\\text.py:383: UserWarning: Your stop_words may be inconsistent with your preprocessing. Tokenizing the stop words generated tokens ['ha', 'le', 'u', 'wa'] not in stop_words.\n",
      "  warnings.warn('Your stop_words may be inconsistent with '\n"
     ]
    },
    {
     "name": "stdout",
     "output_type": "stream",
     "text": [
      "[CV]  tvec__max_df=0.2, tvec__max_features=8000, tvec__min_df=0.01, tvec__ngram_range=(1, 2), total=   5.8s\n",
      "[CV] tvec__max_df=0.2, tvec__max_features=8000, tvec__min_df=0.02, tvec__ngram_range=(1, 1) \n"
     ]
    },
    {
     "name": "stderr",
     "output_type": "stream",
     "text": [
      "C:\\Users\\tsuts\\anaconda3\\lib\\site-packages\\sklearn\\feature_extraction\\text.py:383: UserWarning: Your stop_words may be inconsistent with your preprocessing. Tokenizing the stop words generated tokens ['ha', 'le', 'u', 'wa'] not in stop_words.\n",
      "  warnings.warn('Your stop_words may be inconsistent with '\n"
     ]
    },
    {
     "name": "stdout",
     "output_type": "stream",
     "text": [
      "[CV]  tvec__max_df=0.2, tvec__max_features=8000, tvec__min_df=0.02, tvec__ngram_range=(1, 1), total=   5.0s\n",
      "[CV] tvec__max_df=0.2, tvec__max_features=8000, tvec__min_df=0.02, tvec__ngram_range=(1, 1) \n"
     ]
    },
    {
     "name": "stderr",
     "output_type": "stream",
     "text": [
      "C:\\Users\\tsuts\\anaconda3\\lib\\site-packages\\sklearn\\feature_extraction\\text.py:383: UserWarning: Your stop_words may be inconsistent with your preprocessing. Tokenizing the stop words generated tokens ['ha', 'le', 'u', 'wa'] not in stop_words.\n",
      "  warnings.warn('Your stop_words may be inconsistent with '\n"
     ]
    },
    {
     "name": "stdout",
     "output_type": "stream",
     "text": [
      "[CV]  tvec__max_df=0.2, tvec__max_features=8000, tvec__min_df=0.02, tvec__ngram_range=(1, 1), total=   4.9s\n",
      "[CV] tvec__max_df=0.2, tvec__max_features=8000, tvec__min_df=0.02, tvec__ngram_range=(1, 1) \n"
     ]
    },
    {
     "name": "stderr",
     "output_type": "stream",
     "text": [
      "C:\\Users\\tsuts\\anaconda3\\lib\\site-packages\\sklearn\\feature_extraction\\text.py:383: UserWarning: Your stop_words may be inconsistent with your preprocessing. Tokenizing the stop words generated tokens ['ha', 'le', 'u', 'wa'] not in stop_words.\n",
      "  warnings.warn('Your stop_words may be inconsistent with '\n"
     ]
    },
    {
     "name": "stdout",
     "output_type": "stream",
     "text": [
      "[CV]  tvec__max_df=0.2, tvec__max_features=8000, tvec__min_df=0.02, tvec__ngram_range=(1, 1), total=   4.8s\n",
      "[CV] tvec__max_df=0.2, tvec__max_features=8000, tvec__min_df=0.02, tvec__ngram_range=(1, 1) \n"
     ]
    },
    {
     "name": "stderr",
     "output_type": "stream",
     "text": [
      "C:\\Users\\tsuts\\anaconda3\\lib\\site-packages\\sklearn\\feature_extraction\\text.py:383: UserWarning: Your stop_words may be inconsistent with your preprocessing. Tokenizing the stop words generated tokens ['ha', 'le', 'u', 'wa'] not in stop_words.\n",
      "  warnings.warn('Your stop_words may be inconsistent with '\n"
     ]
    },
    {
     "name": "stdout",
     "output_type": "stream",
     "text": [
      "[CV]  tvec__max_df=0.2, tvec__max_features=8000, tvec__min_df=0.02, tvec__ngram_range=(1, 1), total=   4.7s\n",
      "[CV] tvec__max_df=0.2, tvec__max_features=8000, tvec__min_df=0.02, tvec__ngram_range=(1, 1) \n"
     ]
    },
    {
     "name": "stderr",
     "output_type": "stream",
     "text": [
      "C:\\Users\\tsuts\\anaconda3\\lib\\site-packages\\sklearn\\feature_extraction\\text.py:383: UserWarning: Your stop_words may be inconsistent with your preprocessing. Tokenizing the stop words generated tokens ['ha', 'le', 'u', 'wa'] not in stop_words.\n",
      "  warnings.warn('Your stop_words may be inconsistent with '\n"
     ]
    },
    {
     "name": "stdout",
     "output_type": "stream",
     "text": [
      "[CV]  tvec__max_df=0.2, tvec__max_features=8000, tvec__min_df=0.02, tvec__ngram_range=(1, 1), total=   4.8s\n",
      "[CV] tvec__max_df=0.2, tvec__max_features=8000, tvec__min_df=0.02, tvec__ngram_range=(1, 1) \n"
     ]
    },
    {
     "name": "stderr",
     "output_type": "stream",
     "text": [
      "C:\\Users\\tsuts\\anaconda3\\lib\\site-packages\\sklearn\\feature_extraction\\text.py:383: UserWarning: Your stop_words may be inconsistent with your preprocessing. Tokenizing the stop words generated tokens ['ha', 'le', 'u', 'wa'] not in stop_words.\n",
      "  warnings.warn('Your stop_words may be inconsistent with '\n"
     ]
    },
    {
     "name": "stdout",
     "output_type": "stream",
     "text": [
      "[CV]  tvec__max_df=0.2, tvec__max_features=8000, tvec__min_df=0.02, tvec__ngram_range=(1, 1), total=   4.9s\n",
      "[CV] tvec__max_df=0.2, tvec__max_features=8000, tvec__min_df=0.02, tvec__ngram_range=(1, 1) \n"
     ]
    },
    {
     "name": "stderr",
     "output_type": "stream",
     "text": [
      "C:\\Users\\tsuts\\anaconda3\\lib\\site-packages\\sklearn\\feature_extraction\\text.py:383: UserWarning: Your stop_words may be inconsistent with your preprocessing. Tokenizing the stop words generated tokens ['ha', 'le', 'u', 'wa'] not in stop_words.\n",
      "  warnings.warn('Your stop_words may be inconsistent with '\n"
     ]
    },
    {
     "name": "stdout",
     "output_type": "stream",
     "text": [
      "[CV]  tvec__max_df=0.2, tvec__max_features=8000, tvec__min_df=0.02, tvec__ngram_range=(1, 1), total=   5.0s\n",
      "[CV] tvec__max_df=0.2, tvec__max_features=8000, tvec__min_df=0.02, tvec__ngram_range=(1, 1) \n"
     ]
    },
    {
     "name": "stderr",
     "output_type": "stream",
     "text": [
      "C:\\Users\\tsuts\\anaconda3\\lib\\site-packages\\sklearn\\feature_extraction\\text.py:383: UserWarning: Your stop_words may be inconsistent with your preprocessing. Tokenizing the stop words generated tokens ['ha', 'le', 'u', 'wa'] not in stop_words.\n",
      "  warnings.warn('Your stop_words may be inconsistent with '\n"
     ]
    },
    {
     "name": "stdout",
     "output_type": "stream",
     "text": [
      "[CV]  tvec__max_df=0.2, tvec__max_features=8000, tvec__min_df=0.02, tvec__ngram_range=(1, 1), total=   5.1s\n",
      "[CV] tvec__max_df=0.2, tvec__max_features=8000, tvec__min_df=0.02, tvec__ngram_range=(1, 1) \n"
     ]
    },
    {
     "name": "stderr",
     "output_type": "stream",
     "text": [
      "C:\\Users\\tsuts\\anaconda3\\lib\\site-packages\\sklearn\\feature_extraction\\text.py:383: UserWarning: Your stop_words may be inconsistent with your preprocessing. Tokenizing the stop words generated tokens ['ha', 'le', 'u', 'wa'] not in stop_words.\n",
      "  warnings.warn('Your stop_words may be inconsistent with '\n"
     ]
    },
    {
     "name": "stdout",
     "output_type": "stream",
     "text": [
      "[CV]  tvec__max_df=0.2, tvec__max_features=8000, tvec__min_df=0.02, tvec__ngram_range=(1, 1), total=   4.8s\n",
      "[CV] tvec__max_df=0.2, tvec__max_features=8000, tvec__min_df=0.02, tvec__ngram_range=(1, 1) \n"
     ]
    },
    {
     "name": "stderr",
     "output_type": "stream",
     "text": [
      "C:\\Users\\tsuts\\anaconda3\\lib\\site-packages\\sklearn\\feature_extraction\\text.py:383: UserWarning: Your stop_words may be inconsistent with your preprocessing. Tokenizing the stop words generated tokens ['ha', 'le', 'u', 'wa'] not in stop_words.\n",
      "  warnings.warn('Your stop_words may be inconsistent with '\n"
     ]
    },
    {
     "name": "stdout",
     "output_type": "stream",
     "text": [
      "[CV]  tvec__max_df=0.2, tvec__max_features=8000, tvec__min_df=0.02, tvec__ngram_range=(1, 1), total=   4.8s\n",
      "[CV] tvec__max_df=0.2, tvec__max_features=8000, tvec__min_df=0.02, tvec__ngram_range=(1, 2) \n"
     ]
    },
    {
     "name": "stderr",
     "output_type": "stream",
     "text": [
      "C:\\Users\\tsuts\\anaconda3\\lib\\site-packages\\sklearn\\feature_extraction\\text.py:383: UserWarning: Your stop_words may be inconsistent with your preprocessing. Tokenizing the stop words generated tokens ['ha', 'le', 'u', 'wa'] not in stop_words.\n",
      "  warnings.warn('Your stop_words may be inconsistent with '\n"
     ]
    },
    {
     "name": "stdout",
     "output_type": "stream",
     "text": [
      "[CV]  tvec__max_df=0.2, tvec__max_features=8000, tvec__min_df=0.02, tvec__ngram_range=(1, 2), total=   5.8s\n",
      "[CV] tvec__max_df=0.2, tvec__max_features=8000, tvec__min_df=0.02, tvec__ngram_range=(1, 2) \n"
     ]
    },
    {
     "name": "stderr",
     "output_type": "stream",
     "text": [
      "C:\\Users\\tsuts\\anaconda3\\lib\\site-packages\\sklearn\\feature_extraction\\text.py:383: UserWarning: Your stop_words may be inconsistent with your preprocessing. Tokenizing the stop words generated tokens ['ha', 'le', 'u', 'wa'] not in stop_words.\n",
      "  warnings.warn('Your stop_words may be inconsistent with '\n"
     ]
    },
    {
     "name": "stdout",
     "output_type": "stream",
     "text": [
      "[CV]  tvec__max_df=0.2, tvec__max_features=8000, tvec__min_df=0.02, tvec__ngram_range=(1, 2), total=   5.8s\n",
      "[CV] tvec__max_df=0.2, tvec__max_features=8000, tvec__min_df=0.02, tvec__ngram_range=(1, 2) \n"
     ]
    },
    {
     "name": "stderr",
     "output_type": "stream",
     "text": [
      "C:\\Users\\tsuts\\anaconda3\\lib\\site-packages\\sklearn\\feature_extraction\\text.py:383: UserWarning: Your stop_words may be inconsistent with your preprocessing. Tokenizing the stop words generated tokens ['ha', 'le', 'u', 'wa'] not in stop_words.\n",
      "  warnings.warn('Your stop_words may be inconsistent with '\n"
     ]
    },
    {
     "name": "stdout",
     "output_type": "stream",
     "text": [
      "[CV]  tvec__max_df=0.2, tvec__max_features=8000, tvec__min_df=0.02, tvec__ngram_range=(1, 2), total=   5.8s\n",
      "[CV] tvec__max_df=0.2, tvec__max_features=8000, tvec__min_df=0.02, tvec__ngram_range=(1, 2) \n"
     ]
    },
    {
     "name": "stderr",
     "output_type": "stream",
     "text": [
      "C:\\Users\\tsuts\\anaconda3\\lib\\site-packages\\sklearn\\feature_extraction\\text.py:383: UserWarning: Your stop_words may be inconsistent with your preprocessing. Tokenizing the stop words generated tokens ['ha', 'le', 'u', 'wa'] not in stop_words.\n",
      "  warnings.warn('Your stop_words may be inconsistent with '\n"
     ]
    },
    {
     "name": "stdout",
     "output_type": "stream",
     "text": [
      "[CV]  tvec__max_df=0.2, tvec__max_features=8000, tvec__min_df=0.02, tvec__ngram_range=(1, 2), total=   5.7s\n",
      "[CV] tvec__max_df=0.2, tvec__max_features=8000, tvec__min_df=0.02, tvec__ngram_range=(1, 2) \n"
     ]
    },
    {
     "name": "stderr",
     "output_type": "stream",
     "text": [
      "C:\\Users\\tsuts\\anaconda3\\lib\\site-packages\\sklearn\\feature_extraction\\text.py:383: UserWarning: Your stop_words may be inconsistent with your preprocessing. Tokenizing the stop words generated tokens ['ha', 'le', 'u', 'wa'] not in stop_words.\n",
      "  warnings.warn('Your stop_words may be inconsistent with '\n"
     ]
    },
    {
     "name": "stdout",
     "output_type": "stream",
     "text": [
      "[CV]  tvec__max_df=0.2, tvec__max_features=8000, tvec__min_df=0.02, tvec__ngram_range=(1, 2), total=   5.7s\n",
      "[CV] tvec__max_df=0.2, tvec__max_features=8000, tvec__min_df=0.02, tvec__ngram_range=(1, 2) \n"
     ]
    },
    {
     "name": "stderr",
     "output_type": "stream",
     "text": [
      "C:\\Users\\tsuts\\anaconda3\\lib\\site-packages\\sklearn\\feature_extraction\\text.py:383: UserWarning: Your stop_words may be inconsistent with your preprocessing. Tokenizing the stop words generated tokens ['ha', 'le', 'u', 'wa'] not in stop_words.\n",
      "  warnings.warn('Your stop_words may be inconsistent with '\n"
     ]
    },
    {
     "name": "stdout",
     "output_type": "stream",
     "text": [
      "[CV]  tvec__max_df=0.2, tvec__max_features=8000, tvec__min_df=0.02, tvec__ngram_range=(1, 2), total=   5.7s\n",
      "[CV] tvec__max_df=0.2, tvec__max_features=8000, tvec__min_df=0.02, tvec__ngram_range=(1, 2) \n"
     ]
    },
    {
     "name": "stderr",
     "output_type": "stream",
     "text": [
      "C:\\Users\\tsuts\\anaconda3\\lib\\site-packages\\sklearn\\feature_extraction\\text.py:383: UserWarning: Your stop_words may be inconsistent with your preprocessing. Tokenizing the stop words generated tokens ['ha', 'le', 'u', 'wa'] not in stop_words.\n",
      "  warnings.warn('Your stop_words may be inconsistent with '\n"
     ]
    },
    {
     "name": "stdout",
     "output_type": "stream",
     "text": [
      "[CV]  tvec__max_df=0.2, tvec__max_features=8000, tvec__min_df=0.02, tvec__ngram_range=(1, 2), total=   5.6s\n",
      "[CV] tvec__max_df=0.2, tvec__max_features=8000, tvec__min_df=0.02, tvec__ngram_range=(1, 2) \n"
     ]
    },
    {
     "name": "stderr",
     "output_type": "stream",
     "text": [
      "C:\\Users\\tsuts\\anaconda3\\lib\\site-packages\\sklearn\\feature_extraction\\text.py:383: UserWarning: Your stop_words may be inconsistent with your preprocessing. Tokenizing the stop words generated tokens ['ha', 'le', 'u', 'wa'] not in stop_words.\n",
      "  warnings.warn('Your stop_words may be inconsistent with '\n"
     ]
    },
    {
     "name": "stdout",
     "output_type": "stream",
     "text": [
      "[CV]  tvec__max_df=0.2, tvec__max_features=8000, tvec__min_df=0.02, tvec__ngram_range=(1, 2), total=   5.6s\n",
      "[CV] tvec__max_df=0.2, tvec__max_features=8000, tvec__min_df=0.02, tvec__ngram_range=(1, 2) \n"
     ]
    },
    {
     "name": "stderr",
     "output_type": "stream",
     "text": [
      "C:\\Users\\tsuts\\anaconda3\\lib\\site-packages\\sklearn\\feature_extraction\\text.py:383: UserWarning: Your stop_words may be inconsistent with your preprocessing. Tokenizing the stop words generated tokens ['ha', 'le', 'u', 'wa'] not in stop_words.\n",
      "  warnings.warn('Your stop_words may be inconsistent with '\n"
     ]
    },
    {
     "name": "stdout",
     "output_type": "stream",
     "text": [
      "[CV]  tvec__max_df=0.2, tvec__max_features=8000, tvec__min_df=0.02, tvec__ngram_range=(1, 2), total=   5.7s\n",
      "[CV] tvec__max_df=0.2, tvec__max_features=8000, tvec__min_df=0.02, tvec__ngram_range=(1, 2) \n"
     ]
    },
    {
     "name": "stderr",
     "output_type": "stream",
     "text": [
      "C:\\Users\\tsuts\\anaconda3\\lib\\site-packages\\sklearn\\feature_extraction\\text.py:383: UserWarning: Your stop_words may be inconsistent with your preprocessing. Tokenizing the stop words generated tokens ['ha', 'le', 'u', 'wa'] not in stop_words.\n",
      "  warnings.warn('Your stop_words may be inconsistent with '\n"
     ]
    },
    {
     "name": "stdout",
     "output_type": "stream",
     "text": [
      "[CV]  tvec__max_df=0.2, tvec__max_features=8000, tvec__min_df=0.02, tvec__ngram_range=(1, 2), total=   5.8s\n"
     ]
    },
    {
     "name": "stderr",
     "output_type": "stream",
     "text": [
      "[Parallel(n_jobs=1)]: Done 180 out of 180 | elapsed: 16.1min finished\n",
      "C:\\Users\\tsuts\\anaconda3\\lib\\site-packages\\sklearn\\feature_extraction\\text.py:383: UserWarning: Your stop_words may be inconsistent with your preprocessing. Tokenizing the stop words generated tokens ['ha', 'le', 'u', 'wa'] not in stop_words.\n",
      "  warnings.warn('Your stop_words may be inconsistent with '\n"
     ]
    },
    {
     "name": "stdout",
     "output_type": "stream",
     "text": [
      "Best Score: 0.8677193201439597 Train Set Score: 0.9036383011112803 Test Set Score: 0.9032756489493201 Best Parameters: {'tvec__max_df': 0.2, 'tvec__max_features': 7000, 'tvec__min_df': 2, 'tvec__ngram_range': (1, 1)}\n",
      " This cell took 978.1077628135681 seconds to run\n"
     ]
    }
   ],
   "source": [
    "# without sentiment \n",
    "X = posts['text']\n",
    "y = posts['subreddit']\n",
    "\n",
    "X_train, X_test, y_train, y_test = train_test_split(X,\n",
    "                                                    y,\n",
    "                                                    test_size=0.33,\n",
    "                                                    stratify=y,\n",
    "                                                    random_state=42)\n",
    "\n",
    "pipe = Pipeline([\n",
    "    ('tvec', TfidfVectorizer(tokenizer=LemmaTokenizer(), stop_words=my_stop_words)), \n",
    "    ('nb', MultinomialNB())\n",
    "])\n",
    "\n",
    "pipe_params = {\n",
    "    'tvec__max_features': [6000,7000, 8000],\n",
    "    'tvec__min_df': [2, .01, .02],\n",
    "    'tvec__max_df': [.2],\n",
    "    'tvec__ngram_range': [(1,1), (1,2)]\n",
    "}\n",
    "\n",
    "\n",
    "gs = GridSearchCV(pipe, # what object are we optimizing?\n",
    "                      param_grid=pipe_params, # what parameters values are we searching?\n",
    "                      cv=10, \n",
    "                      verbose=2,\n",
    "                      ) # 5-fold cross-validation.\n",
    "t0 = time.time()\n",
    "\n",
    "gs.fit(X, y)\n",
    "print(f'Best Score: {gs.best_score_} Train Set Score: {gs.score(X_train, y_train)} Test Set Score: {gs.score(X_test, y_test)} Best Parameters: {gs.best_params_}')\n",
    "\n",
    "print(f' This cell took {time.time() - t0} seconds to run')\n"
   ]
  },
  {
   "cell_type": "markdown",
   "metadata": {},
   "source": [
    "- The best model from the GridSearch is the RandomForest model using a CountVectorizer."
   ]
  },
  {
   "cell_type": "markdown",
   "metadata": {},
   "source": [
    "- In the next notebook, I'm going to tune my hyperparamaters on my best models and determine my best model. \n",
    "- From there, I will interpret the results and see what we can learn from r/Bitcoin and r/Ethereum. "
   ]
  }
 ],
 "metadata": {
  "kernelspec": {
   "display_name": "Python 3",
   "language": "python",
   "name": "python3"
  },
  "language_info": {
   "codemirror_mode": {
    "name": "ipython",
    "version": 3
   },
   "file_extension": ".py",
   "mimetype": "text/x-python",
   "name": "python",
   "nbconvert_exporter": "python",
   "pygments_lexer": "ipython3",
   "version": "3.8.5"
  }
 },
 "nbformat": 4,
 "nbformat_minor": 4
}
